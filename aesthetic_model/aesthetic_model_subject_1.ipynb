{
  "nbformat": 4,
  "nbformat_minor": 0,
  "metadata": {
    "colab": {
      "provenance": [],
      "gpuType": "T4"
    },
    "kernelspec": {
      "name": "python3",
      "display_name": "Python 3"
    },
    "language_info": {
      "name": "python"
    },
    "accelerator": "GPU",
    "widgets": {
      "application/vnd.jupyter.widget-state+json": {
        "d01d4f850fcb4153b4586018aa3e301f": {
          "model_module": "@jupyter-widgets/controls",
          "model_name": "HBoxModel",
          "model_module_version": "1.5.0",
          "state": {
            "_dom_classes": [],
            "_model_module": "@jupyter-widgets/controls",
            "_model_module_version": "1.5.0",
            "_model_name": "HBoxModel",
            "_view_count": null,
            "_view_module": "@jupyter-widgets/controls",
            "_view_module_version": "1.5.0",
            "_view_name": "HBoxView",
            "box_style": "",
            "children": [
              "IPY_MODEL_b3405336bf1a4c96a310e1b3225e2ae0",
              "IPY_MODEL_971aeec53ba1475296988609dbca8e21",
              "IPY_MODEL_dbac2e29d3f44523b7fb364978867b7c"
            ],
            "layout": "IPY_MODEL_1ce0bbf74b9845b393f027fc6f93515e"
          }
        },
        "b3405336bf1a4c96a310e1b3225e2ae0": {
          "model_module": "@jupyter-widgets/controls",
          "model_name": "HTMLModel",
          "model_module_version": "1.5.0",
          "state": {
            "_dom_classes": [],
            "_model_module": "@jupyter-widgets/controls",
            "_model_module_version": "1.5.0",
            "_model_name": "HTMLModel",
            "_view_count": null,
            "_view_module": "@jupyter-widgets/controls",
            "_view_module_version": "1.5.0",
            "_view_name": "HTMLView",
            "description": "",
            "description_tooltip": null,
            "layout": "IPY_MODEL_7e1088599aeb4f5397bae97c487ff15f",
            "placeholder": "​",
            "style": "IPY_MODEL_a0fa414ddf1348dda9ca787b2ed4abee",
            "value": "model.safetensors: 100%"
          }
        },
        "971aeec53ba1475296988609dbca8e21": {
          "model_module": "@jupyter-widgets/controls",
          "model_name": "FloatProgressModel",
          "model_module_version": "1.5.0",
          "state": {
            "_dom_classes": [],
            "_model_module": "@jupyter-widgets/controls",
            "_model_module_version": "1.5.0",
            "_model_name": "FloatProgressModel",
            "_view_count": null,
            "_view_module": "@jupyter-widgets/controls",
            "_view_module_version": "1.5.0",
            "_view_name": "ProgressView",
            "bar_style": "success",
            "description": "",
            "description_tooltip": null,
            "layout": "IPY_MODEL_f788780f001f4d4fb3d2948d5877d196",
            "max": 346284714,
            "min": 0,
            "orientation": "horizontal",
            "style": "IPY_MODEL_cc4a4d89ee744325bf12bcbd33ecc276",
            "value": 346284714
          }
        },
        "dbac2e29d3f44523b7fb364978867b7c": {
          "model_module": "@jupyter-widgets/controls",
          "model_name": "HTMLModel",
          "model_module_version": "1.5.0",
          "state": {
            "_dom_classes": [],
            "_model_module": "@jupyter-widgets/controls",
            "_model_module_version": "1.5.0",
            "_model_name": "HTMLModel",
            "_view_count": null,
            "_view_module": "@jupyter-widgets/controls",
            "_view_module_version": "1.5.0",
            "_view_name": "HTMLView",
            "description": "",
            "description_tooltip": null,
            "layout": "IPY_MODEL_2bd02786820b400f88c7967fbf276e83",
            "placeholder": "​",
            "style": "IPY_MODEL_493b94a2ef3b4ffda34c43c8aa396df5",
            "value": " 346M/346M [00:01&lt;00:00, 292MB/s]"
          }
        },
        "1ce0bbf74b9845b393f027fc6f93515e": {
          "model_module": "@jupyter-widgets/base",
          "model_name": "LayoutModel",
          "model_module_version": "1.2.0",
          "state": {
            "_model_module": "@jupyter-widgets/base",
            "_model_module_version": "1.2.0",
            "_model_name": "LayoutModel",
            "_view_count": null,
            "_view_module": "@jupyter-widgets/base",
            "_view_module_version": "1.2.0",
            "_view_name": "LayoutView",
            "align_content": null,
            "align_items": null,
            "align_self": null,
            "border": null,
            "bottom": null,
            "display": null,
            "flex": null,
            "flex_flow": null,
            "grid_area": null,
            "grid_auto_columns": null,
            "grid_auto_flow": null,
            "grid_auto_rows": null,
            "grid_column": null,
            "grid_gap": null,
            "grid_row": null,
            "grid_template_areas": null,
            "grid_template_columns": null,
            "grid_template_rows": null,
            "height": null,
            "justify_content": null,
            "justify_items": null,
            "left": null,
            "margin": null,
            "max_height": null,
            "max_width": null,
            "min_height": null,
            "min_width": null,
            "object_fit": null,
            "object_position": null,
            "order": null,
            "overflow": null,
            "overflow_x": null,
            "overflow_y": null,
            "padding": null,
            "right": null,
            "top": null,
            "visibility": null,
            "width": null
          }
        },
        "7e1088599aeb4f5397bae97c487ff15f": {
          "model_module": "@jupyter-widgets/base",
          "model_name": "LayoutModel",
          "model_module_version": "1.2.0",
          "state": {
            "_model_module": "@jupyter-widgets/base",
            "_model_module_version": "1.2.0",
            "_model_name": "LayoutModel",
            "_view_count": null,
            "_view_module": "@jupyter-widgets/base",
            "_view_module_version": "1.2.0",
            "_view_name": "LayoutView",
            "align_content": null,
            "align_items": null,
            "align_self": null,
            "border": null,
            "bottom": null,
            "display": null,
            "flex": null,
            "flex_flow": null,
            "grid_area": null,
            "grid_auto_columns": null,
            "grid_auto_flow": null,
            "grid_auto_rows": null,
            "grid_column": null,
            "grid_gap": null,
            "grid_row": null,
            "grid_template_areas": null,
            "grid_template_columns": null,
            "grid_template_rows": null,
            "height": null,
            "justify_content": null,
            "justify_items": null,
            "left": null,
            "margin": null,
            "max_height": null,
            "max_width": null,
            "min_height": null,
            "min_width": null,
            "object_fit": null,
            "object_position": null,
            "order": null,
            "overflow": null,
            "overflow_x": null,
            "overflow_y": null,
            "padding": null,
            "right": null,
            "top": null,
            "visibility": null,
            "width": null
          }
        },
        "a0fa414ddf1348dda9ca787b2ed4abee": {
          "model_module": "@jupyter-widgets/controls",
          "model_name": "DescriptionStyleModel",
          "model_module_version": "1.5.0",
          "state": {
            "_model_module": "@jupyter-widgets/controls",
            "_model_module_version": "1.5.0",
            "_model_name": "DescriptionStyleModel",
            "_view_count": null,
            "_view_module": "@jupyter-widgets/base",
            "_view_module_version": "1.2.0",
            "_view_name": "StyleView",
            "description_width": ""
          }
        },
        "f788780f001f4d4fb3d2948d5877d196": {
          "model_module": "@jupyter-widgets/base",
          "model_name": "LayoutModel",
          "model_module_version": "1.2.0",
          "state": {
            "_model_module": "@jupyter-widgets/base",
            "_model_module_version": "1.2.0",
            "_model_name": "LayoutModel",
            "_view_count": null,
            "_view_module": "@jupyter-widgets/base",
            "_view_module_version": "1.2.0",
            "_view_name": "LayoutView",
            "align_content": null,
            "align_items": null,
            "align_self": null,
            "border": null,
            "bottom": null,
            "display": null,
            "flex": null,
            "flex_flow": null,
            "grid_area": null,
            "grid_auto_columns": null,
            "grid_auto_flow": null,
            "grid_auto_rows": null,
            "grid_column": null,
            "grid_gap": null,
            "grid_row": null,
            "grid_template_areas": null,
            "grid_template_columns": null,
            "grid_template_rows": null,
            "height": null,
            "justify_content": null,
            "justify_items": null,
            "left": null,
            "margin": null,
            "max_height": null,
            "max_width": null,
            "min_height": null,
            "min_width": null,
            "object_fit": null,
            "object_position": null,
            "order": null,
            "overflow": null,
            "overflow_x": null,
            "overflow_y": null,
            "padding": null,
            "right": null,
            "top": null,
            "visibility": null,
            "width": null
          }
        },
        "cc4a4d89ee744325bf12bcbd33ecc276": {
          "model_module": "@jupyter-widgets/controls",
          "model_name": "ProgressStyleModel",
          "model_module_version": "1.5.0",
          "state": {
            "_model_module": "@jupyter-widgets/controls",
            "_model_module_version": "1.5.0",
            "_model_name": "ProgressStyleModel",
            "_view_count": null,
            "_view_module": "@jupyter-widgets/base",
            "_view_module_version": "1.2.0",
            "_view_name": "StyleView",
            "bar_color": null,
            "description_width": ""
          }
        },
        "2bd02786820b400f88c7967fbf276e83": {
          "model_module": "@jupyter-widgets/base",
          "model_name": "LayoutModel",
          "model_module_version": "1.2.0",
          "state": {
            "_model_module": "@jupyter-widgets/base",
            "_model_module_version": "1.2.0",
            "_model_name": "LayoutModel",
            "_view_count": null,
            "_view_module": "@jupyter-widgets/base",
            "_view_module_version": "1.2.0",
            "_view_name": "LayoutView",
            "align_content": null,
            "align_items": null,
            "align_self": null,
            "border": null,
            "bottom": null,
            "display": null,
            "flex": null,
            "flex_flow": null,
            "grid_area": null,
            "grid_auto_columns": null,
            "grid_auto_flow": null,
            "grid_auto_rows": null,
            "grid_column": null,
            "grid_gap": null,
            "grid_row": null,
            "grid_template_areas": null,
            "grid_template_columns": null,
            "grid_template_rows": null,
            "height": null,
            "justify_content": null,
            "justify_items": null,
            "left": null,
            "margin": null,
            "max_height": null,
            "max_width": null,
            "min_height": null,
            "min_width": null,
            "object_fit": null,
            "object_position": null,
            "order": null,
            "overflow": null,
            "overflow_x": null,
            "overflow_y": null,
            "padding": null,
            "right": null,
            "top": null,
            "visibility": null,
            "width": null
          }
        },
        "493b94a2ef3b4ffda34c43c8aa396df5": {
          "model_module": "@jupyter-widgets/controls",
          "model_name": "DescriptionStyleModel",
          "model_module_version": "1.5.0",
          "state": {
            "_model_module": "@jupyter-widgets/controls",
            "_model_module_version": "1.5.0",
            "_model_name": "DescriptionStyleModel",
            "_view_count": null,
            "_view_module": "@jupyter-widgets/base",
            "_view_module_version": "1.2.0",
            "_view_name": "StyleView",
            "description_width": ""
          }
        },
        "c28e82878bdb49b296e284638058f34c": {
          "model_module": "@jupyter-widgets/controls",
          "model_name": "HBoxModel",
          "model_module_version": "1.5.0",
          "state": {
            "_dom_classes": [],
            "_model_module": "@jupyter-widgets/controls",
            "_model_module_version": "1.5.0",
            "_model_name": "HBoxModel",
            "_view_count": null,
            "_view_module": "@jupyter-widgets/controls",
            "_view_module_version": "1.5.0",
            "_view_name": "HBoxView",
            "box_style": "",
            "children": [
              "IPY_MODEL_ed9f32979fa54a85ade7b3d2356b67bb",
              "IPY_MODEL_fe8a42e6d9e94f4999251be1935520a4",
              "IPY_MODEL_8baa5d5bb6904307a75ac2c651545a8b"
            ],
            "layout": "IPY_MODEL_a4b496537c714329bbfba27820f0458e"
          }
        },
        "ed9f32979fa54a85ade7b3d2356b67bb": {
          "model_module": "@jupyter-widgets/controls",
          "model_name": "HTMLModel",
          "model_module_version": "1.5.0",
          "state": {
            "_dom_classes": [],
            "_model_module": "@jupyter-widgets/controls",
            "_model_module_version": "1.5.0",
            "_model_name": "HTMLModel",
            "_view_count": null,
            "_view_module": "@jupyter-widgets/controls",
            "_view_module_version": "1.5.0",
            "_view_name": "HTMLView",
            "description": "",
            "description_tooltip": null,
            "layout": "IPY_MODEL_7277c65d838847a69393bd946ad585d2",
            "placeholder": "​",
            "style": "IPY_MODEL_15b72cd777e548a68c7322f166a86605",
            "value": "model.safetensors: 100%"
          }
        },
        "fe8a42e6d9e94f4999251be1935520a4": {
          "model_module": "@jupyter-widgets/controls",
          "model_name": "FloatProgressModel",
          "model_module_version": "1.5.0",
          "state": {
            "_dom_classes": [],
            "_model_module": "@jupyter-widgets/controls",
            "_model_module_version": "1.5.0",
            "_model_name": "FloatProgressModel",
            "_view_count": null,
            "_view_module": "@jupyter-widgets/controls",
            "_view_module_version": "1.5.0",
            "_view_name": "ProgressView",
            "bar_style": "success",
            "description": "",
            "description_tooltip": null,
            "layout": "IPY_MODEL_d1e5b3abcae34eba9f95e4bf88442c38",
            "max": 49335454,
            "min": 0,
            "orientation": "horizontal",
            "style": "IPY_MODEL_2e7e421bb186477cb8452fc512552235",
            "value": 49335454
          }
        },
        "8baa5d5bb6904307a75ac2c651545a8b": {
          "model_module": "@jupyter-widgets/controls",
          "model_name": "HTMLModel",
          "model_module_version": "1.5.0",
          "state": {
            "_dom_classes": [],
            "_model_module": "@jupyter-widgets/controls",
            "_model_module_version": "1.5.0",
            "_model_name": "HTMLModel",
            "_view_count": null,
            "_view_module": "@jupyter-widgets/controls",
            "_view_module_version": "1.5.0",
            "_view_name": "HTMLView",
            "description": "",
            "description_tooltip": null,
            "layout": "IPY_MODEL_a24434d852814b77807185075d084a57",
            "placeholder": "​",
            "style": "IPY_MODEL_1bc712046f7446f7a6e0508598a96a9e",
            "value": " 49.3M/49.3M [00:00&lt;00:00, 132MB/s]"
          }
        },
        "a4b496537c714329bbfba27820f0458e": {
          "model_module": "@jupyter-widgets/base",
          "model_name": "LayoutModel",
          "model_module_version": "1.2.0",
          "state": {
            "_model_module": "@jupyter-widgets/base",
            "_model_module_version": "1.2.0",
            "_model_name": "LayoutModel",
            "_view_count": null,
            "_view_module": "@jupyter-widgets/base",
            "_view_module_version": "1.2.0",
            "_view_name": "LayoutView",
            "align_content": null,
            "align_items": null,
            "align_self": null,
            "border": null,
            "bottom": null,
            "display": null,
            "flex": null,
            "flex_flow": null,
            "grid_area": null,
            "grid_auto_columns": null,
            "grid_auto_flow": null,
            "grid_auto_rows": null,
            "grid_column": null,
            "grid_gap": null,
            "grid_row": null,
            "grid_template_areas": null,
            "grid_template_columns": null,
            "grid_template_rows": null,
            "height": null,
            "justify_content": null,
            "justify_items": null,
            "left": null,
            "margin": null,
            "max_height": null,
            "max_width": null,
            "min_height": null,
            "min_width": null,
            "object_fit": null,
            "object_position": null,
            "order": null,
            "overflow": null,
            "overflow_x": null,
            "overflow_y": null,
            "padding": null,
            "right": null,
            "top": null,
            "visibility": null,
            "width": null
          }
        },
        "7277c65d838847a69393bd946ad585d2": {
          "model_module": "@jupyter-widgets/base",
          "model_name": "LayoutModel",
          "model_module_version": "1.2.0",
          "state": {
            "_model_module": "@jupyter-widgets/base",
            "_model_module_version": "1.2.0",
            "_model_name": "LayoutModel",
            "_view_count": null,
            "_view_module": "@jupyter-widgets/base",
            "_view_module_version": "1.2.0",
            "_view_name": "LayoutView",
            "align_content": null,
            "align_items": null,
            "align_self": null,
            "border": null,
            "bottom": null,
            "display": null,
            "flex": null,
            "flex_flow": null,
            "grid_area": null,
            "grid_auto_columns": null,
            "grid_auto_flow": null,
            "grid_auto_rows": null,
            "grid_column": null,
            "grid_gap": null,
            "grid_row": null,
            "grid_template_areas": null,
            "grid_template_columns": null,
            "grid_template_rows": null,
            "height": null,
            "justify_content": null,
            "justify_items": null,
            "left": null,
            "margin": null,
            "max_height": null,
            "max_width": null,
            "min_height": null,
            "min_width": null,
            "object_fit": null,
            "object_position": null,
            "order": null,
            "overflow": null,
            "overflow_x": null,
            "overflow_y": null,
            "padding": null,
            "right": null,
            "top": null,
            "visibility": null,
            "width": null
          }
        },
        "15b72cd777e548a68c7322f166a86605": {
          "model_module": "@jupyter-widgets/controls",
          "model_name": "DescriptionStyleModel",
          "model_module_version": "1.5.0",
          "state": {
            "_model_module": "@jupyter-widgets/controls",
            "_model_module_version": "1.5.0",
            "_model_name": "DescriptionStyleModel",
            "_view_count": null,
            "_view_module": "@jupyter-widgets/base",
            "_view_module_version": "1.2.0",
            "_view_name": "StyleView",
            "description_width": ""
          }
        },
        "d1e5b3abcae34eba9f95e4bf88442c38": {
          "model_module": "@jupyter-widgets/base",
          "model_name": "LayoutModel",
          "model_module_version": "1.2.0",
          "state": {
            "_model_module": "@jupyter-widgets/base",
            "_model_module_version": "1.2.0",
            "_model_name": "LayoutModel",
            "_view_count": null,
            "_view_module": "@jupyter-widgets/base",
            "_view_module_version": "1.2.0",
            "_view_name": "LayoutView",
            "align_content": null,
            "align_items": null,
            "align_self": null,
            "border": null,
            "bottom": null,
            "display": null,
            "flex": null,
            "flex_flow": null,
            "grid_area": null,
            "grid_auto_columns": null,
            "grid_auto_flow": null,
            "grid_auto_rows": null,
            "grid_column": null,
            "grid_gap": null,
            "grid_row": null,
            "grid_template_areas": null,
            "grid_template_columns": null,
            "grid_template_rows": null,
            "height": null,
            "justify_content": null,
            "justify_items": null,
            "left": null,
            "margin": null,
            "max_height": null,
            "max_width": null,
            "min_height": null,
            "min_width": null,
            "object_fit": null,
            "object_position": null,
            "order": null,
            "overflow": null,
            "overflow_x": null,
            "overflow_y": null,
            "padding": null,
            "right": null,
            "top": null,
            "visibility": null,
            "width": null
          }
        },
        "2e7e421bb186477cb8452fc512552235": {
          "model_module": "@jupyter-widgets/controls",
          "model_name": "ProgressStyleModel",
          "model_module_version": "1.5.0",
          "state": {
            "_model_module": "@jupyter-widgets/controls",
            "_model_module_version": "1.5.0",
            "_model_name": "ProgressStyleModel",
            "_view_count": null,
            "_view_module": "@jupyter-widgets/base",
            "_view_module_version": "1.2.0",
            "_view_name": "StyleView",
            "bar_color": null,
            "description_width": ""
          }
        },
        "a24434d852814b77807185075d084a57": {
          "model_module": "@jupyter-widgets/base",
          "model_name": "LayoutModel",
          "model_module_version": "1.2.0",
          "state": {
            "_model_module": "@jupyter-widgets/base",
            "_model_module_version": "1.2.0",
            "_model_name": "LayoutModel",
            "_view_count": null,
            "_view_module": "@jupyter-widgets/base",
            "_view_module_version": "1.2.0",
            "_view_name": "LayoutView",
            "align_content": null,
            "align_items": null,
            "align_self": null,
            "border": null,
            "bottom": null,
            "display": null,
            "flex": null,
            "flex_flow": null,
            "grid_area": null,
            "grid_auto_columns": null,
            "grid_auto_flow": null,
            "grid_auto_rows": null,
            "grid_column": null,
            "grid_gap": null,
            "grid_row": null,
            "grid_template_areas": null,
            "grid_template_columns": null,
            "grid_template_rows": null,
            "height": null,
            "justify_content": null,
            "justify_items": null,
            "left": null,
            "margin": null,
            "max_height": null,
            "max_width": null,
            "min_height": null,
            "min_width": null,
            "object_fit": null,
            "object_position": null,
            "order": null,
            "overflow": null,
            "overflow_x": null,
            "overflow_y": null,
            "padding": null,
            "right": null,
            "top": null,
            "visibility": null,
            "width": null
          }
        },
        "1bc712046f7446f7a6e0508598a96a9e": {
          "model_module": "@jupyter-widgets/controls",
          "model_name": "DescriptionStyleModel",
          "model_module_version": "1.5.0",
          "state": {
            "_model_module": "@jupyter-widgets/controls",
            "_model_module_version": "1.5.0",
            "_model_name": "DescriptionStyleModel",
            "_view_count": null,
            "_view_module": "@jupyter-widgets/base",
            "_view_module_version": "1.2.0",
            "_view_name": "StyleView",
            "description_width": ""
          }
        }
      }
    }
  },
  "cells": [
    {
      "cell_type": "code",
      "execution_count": 1,
      "metadata": {
        "id": "YIYQqRz9PJ9w"
      },
      "outputs": [],
      "source": [
        "import torch\n",
        "import torch.nn as nn\n",
        "import torch.optim as optim\n",
        "import torchvision.models as models\n",
        "import torchvision.transforms as transforms\n",
        "from torch.utils.data import DataLoader\n",
        "from torchvision import datasets\n",
        "from PIL import Image\n",
        "import os\n",
        "import time\n",
        "from tqdm import tqdm\n",
        "import matplotlib.pyplot as plt\n",
        "from torchvision.datasets import ImageFolder\n",
        "import zipfile\n",
        "\n",
        "import torch.nn.functional as F\n",
        "from rich.console import Console\n",
        "from rich.progress import Progress, BarColumn, TimeElapsedColumn, TimeRemainingColumn\n",
        "from rich.table import Table\n",
        "\n",
        "import pandas as pd\n",
        "from torch.cuda.amp import autocast, GradScaler\n",
        "\n",
        "\n",
        "from sklearn.metrics import precision_score, recall_score, f1_score, multilabel_confusion_matrix\n",
        "import seaborn as sns\n",
        "import numpy as np"
      ]
    },
    {
      "cell_type": "code",
      "source": [
        "# Install Git in case it's not available in your environment\n",
        "!apt-get install git\n",
        "\n",
        "# Clone the repository from GitHub\n",
        "!git clone https://github.com/khairul-amin-cyber/CSE499-MerakiNexus-AI_And_Defi.git"
      ],
      "metadata": {
        "colab": {
          "base_uri": "https://localhost:8080/"
        },
        "id": "hXO8LeSMQ8SQ",
        "outputId": "c147639d-e513-4cb9-f196-94330539e3d7"
      },
      "execution_count": 2,
      "outputs": [
        {
          "output_type": "stream",
          "name": "stdout",
          "text": [
            "Reading package lists... Done\n",
            "Building dependency tree... Done\n",
            "Reading state information... Done\n",
            "git is already the newest version (1:2.34.1-1ubuntu1.12).\n",
            "0 upgraded, 0 newly installed, 0 to remove and 34 not upgraded.\n",
            "Cloning into 'CSE499-MerakiNexus-AI_And_Defi'...\n",
            "remote: Enumerating objects: 6016, done.\u001b[K\n",
            "remote: Counting objects: 100% (190/190), done.\u001b[K\n",
            "remote: Compressing objects: 100% (166/166), done.\u001b[K\n",
            "remote: Total 6016 (delta 158), reused 24 (delta 24), pack-reused 5826 (from 2)\u001b[K\n",
            "Receiving objects: 100% (6016/6016), 1.71 GiB | 17.52 MiB/s, done.\n",
            "Resolving deltas: 100% (244/244), done.\n",
            "Updating files: 100% (8427/8427), done.\n"
          ]
        }
      ]
    },
    {
      "cell_type": "code",
      "source": [
        "import os\n",
        "import matplotlib.pyplot as plt\n",
        "from torchvision import datasets\n",
        "\n",
        "# Define dataset path\n",
        "dataset_path = \"/content/CSE499-MerakiNexus-AI_And_Defi/aesthetic_model/aesthetic_dataset\"  # Modify with your dataset path\n",
        "\n",
        "# Load the datasets\n",
        "train_dataset = datasets.ImageFolder(root=f\"{dataset_path}/train\")\n",
        "val_dataset = datasets.ImageFolder(root=f\"{dataset_path}/val\")\n",
        "test_dataset = datasets.ImageFolder(root=f\"{dataset_path}/test\")\n",
        "\n",
        "# Get class names and their corresponding folder paths\n",
        "class_names = train_dataset.classes\n",
        "train_image_counts = []\n",
        "val_image_counts = []\n",
        "test_image_counts = []\n",
        "\n",
        "# Count the number of images in each class folder for all datasets\n",
        "for class_name in class_names:\n",
        "    # Count for training set\n",
        "    train_class_folder = os.path.join(train_dataset.root, class_name)\n",
        "    train_image_count = len(os.listdir(train_class_folder))  # Count files in each class folder\n",
        "    train_image_counts.append(train_image_count)\n",
        "\n",
        "    # Count for validation set\n",
        "    val_class_folder = os.path.join(val_dataset.root, class_name)\n",
        "    val_image_count = len(os.listdir(val_class_folder))  # Count files in each class folder\n",
        "    val_image_counts.append(val_image_count)\n",
        "\n",
        "    # Count for testing set\n",
        "    test_class_folder = os.path.join(test_dataset.root, class_name)\n",
        "    test_image_count = len(os.listdir(test_class_folder))  # Count files in each class folder\n",
        "    test_image_counts.append(test_image_count)\n",
        "\n",
        "# Plotting the class distribution for training, validation, and testing sets side by side\n",
        "fig, axes = plt.subplots(1, 4, figsize=(24, 6))\n",
        "\n",
        "# Plot for training dataset\n",
        "axes[0].bar(class_names, train_image_counts, color='skyblue')\n",
        "axes[0].set_title('Training Image Count per Class', fontsize=16)\n",
        "axes[0].set_xlabel('Class', fontsize=14)\n",
        "axes[0].set_ylabel('Number of Images', fontsize=14)\n",
        "axes[0].tick_params(axis='x', rotation=45)\n",
        "axes[0].grid(axis='y', linestyle='--', alpha=0.7)\n",
        "\n",
        "# Plot for validation dataset\n",
        "axes[1].bar(class_names, val_image_counts, color='lightgreen')\n",
        "axes[1].set_title('Validation Image Count per Class', fontsize=16)\n",
        "axes[1].set_xlabel('Class', fontsize=14)\n",
        "axes[1].set_ylabel('Number of Images', fontsize=14)\n",
        "axes[1].tick_params(axis='x', rotation=45)\n",
        "axes[1].grid(axis='y', linestyle='--', alpha=0.7)\n",
        "\n",
        "# Plot for testing dataset\n",
        "axes[2].bar(class_names, test_image_counts, color='lightcoral')\n",
        "axes[2].set_title('Testing Image Count per Class', fontsize=16)\n",
        "axes[2].set_xlabel('Class', fontsize=14)\n",
        "axes[2].set_ylabel('Number of Images', fontsize=14)\n",
        "axes[2].tick_params(axis='x', rotation=45)\n",
        "axes[2].grid(axis='y', linestyle='--', alpha=0.7)\n",
        "\n",
        "# Plot for combined view (Training, Validation, and Testing)\n",
        "axes[3].bar(class_names, train_image_counts, color='skyblue', label='Train')\n",
        "axes[3].bar(class_names, val_image_counts, color='lightgreen', label='Validation', alpha=0.7)\n",
        "axes[3].bar(class_names, test_image_counts, color='lightcoral', label='Test', alpha=0.7)\n",
        "axes[3].set_title('Combined Image Count per Class (Train, Validation, Test)', fontsize=16)\n",
        "axes[3].set_xlabel('Class', fontsize=14)\n",
        "axes[3].set_ylabel('Number of Images', fontsize=14)\n",
        "axes[3].tick_params(axis='x', rotation=45)\n",
        "axes[3].legend()\n",
        "axes[3].grid(axis='y', linestyle='--', alpha=0.7)\n",
        "\n",
        "# Adjust layout\n",
        "plt.tight_layout()\n",
        "plt.show()\n"
      ],
      "metadata": {
        "colab": {
          "base_uri": "https://localhost:8080/",
          "height": 358
        },
        "id": "jr6Lg5FOSDQg",
        "outputId": "e680f0eb-fbca-475a-a4bd-e9448444b0d3"
      },
      "execution_count": 3,
      "outputs": [
        {
          "output_type": "display_data",
          "data": {
            "text/plain": [
              "<Figure size 2400x600 with 4 Axes>"
            ],
            "image/png": "[encoded data removed]"
          },
          "metadata": {}
        }
      ]
    },
    {
      "cell_type": "code",
      "source": [
        "# Mapping of sub-classes to main aesthetic classes (binary labels for each class)\n",
        "class_to_main_class = {\n",
        "    \"abstract_art\": [1, 0, 0, 0],  # Balance\n",
        "    \"art_nauveau\": [1, 0, 0, 0],   # Balance\n",
        "    \"chinese_landscape\": [0, 0, 0, 1],  # Texture & Brushwork\n",
        "    \"fauvism\": [0, 1, 0, 0],  # Color Harmony\n",
        "    \"high_renaissance\": [0, 0, 1, 0],  # Depth & Perspective\n",
        "    \"minimalism\": [0, 0, 0, 1],  # Texture & Brushwork\n",
        "    \"post_impressionism\": [0, 0, 1, 0],  # Depth & Perspective\n",
        "    \"renaissance\": [0, 1, 0, 0]  # Color Harmony\n",
        "}\n",
        "\n",
        "# Custom Dataset to handle multi-label classification\n",
        "class CustomAestheticDataset(datasets.ImageFolder):\n",
        "    def __init__(self, root_dir, transform=None):\n",
        "        super().__init__(root_dir, transform=transform)\n",
        "        self.class_to_main_class = class_to_main_class\n",
        "\n",
        "    def __getitem__(self, idx):\n",
        "        img_path, class_idx = self.samples[idx]\n",
        "        image = Image.open(img_path).convert(\"RGB\")\n",
        "        label = torch.tensor(self.class_to_main_class[self.classes[class_idx]], dtype=torch.float)\n",
        "\n",
        "        if self.transform:\n",
        "            image = self.transform(image)\n",
        "\n",
        "        return image, label\n",
        "\n",
        "# Define transformations for dataset\n",
        "transform = transforms.Compose([\n",
        "    transforms.Resize((224, 224)),\n",
        "    transforms.ToTensor(),\n",
        "    transforms.Normalize(mean=[0.485, 0.456, 0.406], std=[0.229, 0.224, 0.225])\n",
        "])\n",
        "\n",
        "# Load dataset\n",
        "dataset_path = \"/content/CSE499-MerakiNexus-AI_And_Defi/aesthetic_model/aesthetic_dataset\"  # Modify with your dataset path\n",
        "\n",
        "# Device setup\n",
        "device = torch.device(\"cuda\" if torch.cuda.is_available() else \"cpu\")\n",
        "\n",
        "train_data = CustomAestheticDataset(root_dir=f\"{dataset_path}/train\", transform=transform)\n",
        "val_data = CustomAestheticDataset(root_dir=f\"{dataset_path}/val\", transform=transform)\n",
        "test_data = CustomAestheticDataset(root_dir=f\"{dataset_path}/test\", transform=transform)\n",
        "\n",
        "train_loader = DataLoader(train_data, batch_size=32, shuffle=True)\n",
        "val_loader = DataLoader(val_data, batch_size=32, shuffle=False)\n",
        "test_loader = DataLoader(test_data, batch_size=32, shuffle=False)\n"
      ],
      "metadata": {
        "id": "iLQyhRpId37b"
      },
      "execution_count": 5,
      "outputs": []
    },
    {
      "cell_type": "code",
      "source": [
        "import torch\n",
        "import torch.nn as nn\n",
        "import torch.optim as optim\n",
        "import timm  # For ViT and other models\n",
        "import torch.nn.functional as F\n",
        "from torch.utils.data import DataLoader\n",
        "import torch\n",
        "import time\n",
        "from tqdm import tqdm\n",
        "from PIL import Image\n",
        "from torchvision import datasets, transforms\n",
        "from torch.cuda.amp import autocast, GradScaler\n",
        "import os\n",
        "import matplotlib.pyplot as plt\n",
        "\n",
        "# Define aesthetic categories\n",
        "aesthetic_categories = [\"Balance\", \"Color Harmony\", \"Depth & Perspective\", \"Texture & Brushwork\"]\n",
        "\n",
        "# Define model based on ResNet50 with custom heads for the 4 aesthetic classes\n",
        "class AestheticModelWithResNet50(nn.Module):\n",
        "    def __init__(self, num_classes=4):\n",
        "        super(AestheticModelWithResNet50, self).__init__()\n",
        "        self.resnet = models.resnet50(pretrained=True)\n",
        "\n",
        "        # Get the in_features from ResNet50's final fully connected layer\n",
        "        in_features = self.resnet.fc.in_features\n",
        "\n",
        "        # Remove the final fully connected layer (so that we can add custom heads)\n",
        "        self.resnet.fc = nn.Identity()\n",
        "\n",
        "        # Custom heads for the 4 aesthetic classes\n",
        "        self.balance_head = nn.Sequential(\n",
        "            nn.Linear(in_features, 128),\n",
        "            nn.ReLU(),\n",
        "            nn.Linear(128, 1)  # Output for Balance class\n",
        "        )\n",
        "\n",
        "        self.color_harmony_head = nn.Sequential(\n",
        "            nn.Linear(in_features, 128),\n",
        "            nn.ReLU(),\n",
        "            nn.Linear(128, 1)  # Output for Color Harmony class\n",
        "        )\n",
        "\n",
        "        self.depth_perspective_head = nn.Sequential(\n",
        "            nn.Linear(in_features, 128),\n",
        "            nn.ReLU(),\n",
        "            nn.Linear(128, 1)  # Output for Depth & Perspective class\n",
        "        )\n",
        "\n",
        "        self.texture_brushwork_head = nn.Sequential(\n",
        "            nn.Linear(in_features, 128),\n",
        "            nn.ReLU(),\n",
        "            nn.Linear(128, 1)  # Output for Texture & Brushwork class\n",
        "        )\n",
        "\n",
        "    def forward(self, x):\n",
        "        features = self.resnet(x)\n",
        "        balance = self.balance_head(features)\n",
        "        color_harmony = self.color_harmony_head(features)\n",
        "        depth_perspective = self.depth_perspective_head(features)\n",
        "        texture_brushwork = self.texture_brushwork_head(features)\n",
        "\n",
        "        return balance, color_harmony, depth_perspective, texture_brushwork\n",
        "\n",
        "\n",
        "# Initialize model, loss function, and optimizer\n",
        "device = torch.device('cuda' if torch.cuda.is_available() else 'cpu')\n",
        "resNet50_model = AestheticModelWithResNet50(num_classes=4).to(device)\n",
        "criterion = nn.BCEWithLogitsLoss()  # Suitable for multi-label classification\n",
        "optimizer = optim.Adam(resNet50_model.parameters(), lr=1e-4)\n",
        "\n",
        "# Training loop with progress bar and time tracking\n",
        "num_epochs = 25\n",
        "start_time = time.time()  # Start time for total training\n",
        "\n",
        "train_losses = []\n",
        "val_accuracies = []\n",
        "\n",
        "for epoch in range(num_epochs):\n",
        "    resNet50_model.train()\n",
        "    running_loss = 0.0\n",
        "    correct_train = 0\n",
        "    total_train = 0\n",
        "    epoch_start_time = time.time()  # Start time for this epoch\n",
        "\n",
        "    # Initialize tqdm progress bar\n",
        "    with tqdm(train_loader, desc=f\"Epoch {epoch+1}/{num_epochs} Training\", unit=\"batch\") as tepoch:\n",
        "        for images, labels in tepoch:\n",
        "            images, labels = images.to(device), labels.to(device)\n",
        "\n",
        "            optimizer.zero_grad()\n",
        "\n",
        "            # Forward pass\n",
        "            balance, color_harmony, depth_perspective, texture_brushwork = resNet50_model(images)\n",
        "\n",
        "            # Calculate loss for each output (balance, color harmony, etc.)\n",
        "            loss_balance = criterion(balance.squeeze(), labels[:, 0])\n",
        "            loss_color_harmony = criterion(color_harmony.squeeze(), labels[:, 1])\n",
        "            loss_depth_perspective = criterion(depth_perspective.squeeze(), labels[:, 2])\n",
        "            loss_texture_brushwork = criterion(texture_brushwork.squeeze(), labels[:, 3])\n",
        "\n",
        "            # Total loss is the sum of all losses\n",
        "            total_loss = loss_balance + loss_color_harmony + loss_depth_perspective + loss_texture_brushwork\n",
        "            total_loss.backward()\n",
        "            optimizer.step()\n",
        "\n",
        "            running_loss += total_loss.item()\n",
        "\n",
        "            # Update accuracy\n",
        "            predictions = torch.cat([\n",
        "                torch.sigmoid(balance),\n",
        "                torch.sigmoid(color_harmony),\n",
        "                torch.sigmoid(depth_perspective),\n",
        "                torch.sigmoid(texture_brushwork)\n",
        "            ], dim=1)\n",
        "\n",
        "            # Binarize predictions (thresholding at 0.5)\n",
        "            predicted_labels = (predictions > 0.5).float()\n",
        "\n",
        "            # Compare predicted labels with the ground truth labels\n",
        "            correct_train += (predicted_labels == labels).sum().item()\n",
        "            total_train += labels.size(0) * labels.size(1)  # Total labels for all 4 categories\n",
        "\n",
        "            # Update the progress bar with loss information\n",
        "            tepoch.set_postfix(loss=total_loss.item())\n",
        "\n",
        "    epoch_end_time = time.time()  # End time for this epoch\n",
        "    epoch_duration = epoch_end_time - epoch_start_time  # Duration of the epoch\n",
        "    print(f\"Epoch {epoch+1}/{num_epochs} completed in {epoch_duration:.2f} seconds.\")\n",
        "    print(f\"Epoch Loss: {running_loss / len(train_loader)}\")\n",
        "\n",
        "    if total_train > 0:\n",
        "        train_accuracy = correct_train / total_train  # Ensure division by non-zero total_train\n",
        "        print(f\"Train Accuracy: {train_accuracy * 100:.2f}%\")\n",
        "    else:\n",
        "        print(\"Warning: Total train samples are zero.\")\n",
        "\n",
        "    train_losses.append(running_loss / len(train_loader))\n",
        "\n",
        "    # Validation phase\n",
        "    resNet50_model.eval()\n",
        "    correct_val = 0\n",
        "    total_val = 0\n",
        "    with torch.no_grad():\n",
        "        for images, labels in tqdm(val_loader, desc=f\"Epoch {epoch+1}/{num_epochs} Validation\", leave=False):\n",
        "            images, labels = images.to(device), labels.to(device)\n",
        "            balance, color_harmony, depth_perspective, texture_brushwork = resNet50_model(images)\n",
        "\n",
        "            # Convert logits to probabilities (using sigmoid)\n",
        "            predictions_balance = torch.sigmoid(balance)\n",
        "            predictions_color_harmony = torch.sigmoid(color_harmony)\n",
        "            predictions_depth_perspective = torch.sigmoid(depth_perspective)\n",
        "            predictions_texture_brushwork = torch.sigmoid(texture_brushwork)\n",
        "\n",
        "            # Compare predictions to actual labels\n",
        "            predicted_labels_balance = (predictions_balance > 0.5).float()\n",
        "            predicted_labels_color_harmony = (predictions_color_harmony > 0.5).float()\n",
        "            predicted_labels_depth_perspective = (predictions_depth_perspective > 0.5).float()\n",
        "            predicted_labels_texture_brushwork = (predictions_texture_brushwork > 0.5).float()\n",
        "\n",
        "            correct_val += (predicted_labels_balance == labels[:, 0].unsqueeze(1)).sum().item()\n",
        "            correct_val += (predicted_labels_color_harmony == labels[:, 1].unsqueeze(1)).sum().item()\n",
        "            correct_val += (predicted_labels_depth_perspective == labels[:, 2].unsqueeze(1)).sum().item()\n",
        "            correct_val += (predicted_labels_texture_brushwork == labels[:, 3].unsqueeze(1)).sum().item()\n",
        "            total_val += labels.size(0) * 4  # Total labels for all 4 categories\n",
        "\n",
        "    val_accuracy = correct_val / total_val\n",
        "    print(f\"Epoch {epoch+1}/{num_epochs} Validation Accuracy: {val_accuracy * 100:.2f}%\")\n",
        "    val_accuracies.append(val_accuracy)\n",
        "\n",
        "# Total time for training\n",
        "total_training_time = time.time() - start_time\n",
        "print(f\"\\nTotal Training Time: {total_training_time:.2f} seconds ({(total_training_time / 60):.2f} minutes)\")\n",
        "\n",
        "# Plotting the Loss and Accuracy curves\n",
        "plt.figure(figsize=(14, 6))\n",
        "\n",
        "# Plot Training Loss curve\n",
        "plt.subplot(1, 2, 1)\n",
        "plt.plot(range(1, num_epochs + 1), train_losses, label='Train Loss', color='blue')\n",
        "plt.title('Training Loss over Epochs')\n",
        "plt.xlabel('Epoch')\n",
        "plt.ylabel('Loss')\n",
        "plt.grid(True)\n",
        "\n",
        "# Plot Validation Accuracy curve\n",
        "plt.subplot(1, 2, 2)\n",
        "plt.plot(range(1, num_epochs + 1), val_accuracies, label='Validation Accuracy', color='green')\n",
        "plt.title('Validation Accuracy over Epochs')\n",
        "plt.xlabel('Epoch')\n",
        "plt.ylabel('Accuracy')\n",
        "plt.grid(True)\n",
        "\n",
        "plt.tight_layout()\n",
        "plt.show()\n"
      ],
      "metadata": {
        "colab": {
          "base_uri": "https://localhost:8080/",
          "height": 1000
        },
        "id": "GlYgur0MeRFy",
        "outputId": "ce73985b-f64c-40fc-9dea-fdba0e86471b"
      },
      "execution_count": null,
      "outputs": [
        {
          "output_type": "stream",
          "name": "stderr",
          "text": [
            "/usr/local/lib/python3.11/dist-packages/torchvision/models/_utils.py:208: UserWarning: The parameter 'pretrained' is deprecated since 0.13 and may be removed in the future, please use 'weights' instead.\n",
            "  warnings.warn(\n",
            "/usr/local/lib/python3.11/dist-packages/torchvision/models/_utils.py:223: UserWarning: Arguments other than a weight enum or `None` for 'weights' are deprecated since 0.13 and may be removed in the future. The current behavior is equivalent to passing `weights=ResNet50_Weights.IMAGENET1K_V1`. You can also use `weights=ResNet50_Weights.DEFAULT` to get the most up-to-date weights.\n",
            "  warnings.warn(msg)\n",
            "Downloading: \"https://download.pytorch.org/models/resnet50-0676ba61.pth\" to /root/.cache/torch/hub/checkpoints/resnet50-0676ba61.pth\n",
            "100%|██████████| 97.8M/97.8M [00:00<00:00, 157MB/s]\n",
            "Epoch 1/25 Training: 100%|██████████| 62/62 [00:42<00:00,  1.45batch/s, loss=0.859]\n"
          ]
        },
        {
          "output_type": "stream",
          "name": "stdout",
          "text": [
            "Epoch 1/25 completed in 42.87 seconds.\n",
            "Epoch Loss: 1.4146104272334807\n",
            "Train Accuracy: 84.58%\n"
          ]
        },
        {
          "output_type": "stream",
          "name": "stderr",
          "text": []
        },
        {
          "output_type": "stream",
          "name": "stdout",
          "text": [
            "Epoch 1/25 Validation Accuracy: 85.58%\n"
          ]
        },
        {
          "output_type": "stream",
          "name": "stderr",
          "text": [
            "Epoch 2/25 Training: 100%|██████████| 62/62 [00:41<00:00,  1.50batch/s, loss=0.677]\n"
          ]
        },
        {
          "output_type": "stream",
          "name": "stdout",
          "text": [
            "Epoch 2/25 completed in 41.24 seconds.\n",
            "Epoch Loss: 0.5245819637371648\n",
            "Train Accuracy: 95.29%\n"
          ]
        },
        {
          "output_type": "stream",
          "name": "stderr",
          "text": []
        },
        {
          "output_type": "stream",
          "name": "stdout",
          "text": [
            "Epoch 2/25 Validation Accuracy: 86.64%\n"
          ]
        },
        {
          "output_type": "stream",
          "name": "stderr",
          "text": [
            "Epoch 3/25 Training: 100%|██████████| 62/62 [00:41<00:00,  1.48batch/s, loss=0.68]\n"
          ]
        },
        {
          "output_type": "stream",
          "name": "stdout",
          "text": [
            "Epoch 3/25 completed in 41.76 seconds.\n",
            "Epoch Loss: 0.21229395558757166\n",
            "Train Accuracy: 98.34%\n"
          ]
        },
        {
          "output_type": "stream",
          "name": "stderr",
          "text": []
        },
        {
          "output_type": "stream",
          "name": "stdout",
          "text": [
            "Epoch 3/25 Validation Accuracy: 87.43%\n"
          ]
        },
        {
          "output_type": "stream",
          "name": "stderr",
          "text": [
            "Epoch 4/25 Training: 100%|██████████| 62/62 [00:41<00:00,  1.48batch/s, loss=0.087]\n"
          ]
        },
        {
          "output_type": "stream",
          "name": "stdout",
          "text": [
            "Epoch 4/25 completed in 41.96 seconds.\n",
            "Epoch Loss: 0.15276096605004802\n",
            "Train Accuracy: 98.88%\n"
          ]
        },
        {
          "output_type": "stream",
          "name": "stderr",
          "text": []
        },
        {
          "output_type": "stream",
          "name": "stdout",
          "text": [
            "Epoch 4/25 Validation Accuracy: 86.90%\n"
          ]
        },
        {
          "output_type": "stream",
          "name": "stderr",
          "text": [
            "Epoch 5/25 Training: 100%|██████████| 62/62 [00:41<00:00,  1.48batch/s, loss=0.703]\n"
          ]
        },
        {
          "output_type": "stream",
          "name": "stdout",
          "text": [
            "Epoch 5/25 completed in 41.94 seconds.\n",
            "Epoch Loss: 0.16300146134510154\n",
            "Train Accuracy: 98.55%\n"
          ]
        },
        {
          "output_type": "stream",
          "name": "stderr",
          "text": []
        },
        {
          "output_type": "stream",
          "name": "stdout",
          "text": [
            "Epoch 5/25 Validation Accuracy: 85.71%\n"
          ]
        },
        {
          "output_type": "stream",
          "name": "stderr",
          "text": [
            "Epoch 6/25 Training: 100%|██████████| 62/62 [00:42<00:00,  1.46batch/s, loss=0.0229]\n"
          ]
        },
        {
          "output_type": "stream",
          "name": "stdout",
          "text": [
            "Epoch 6/25 completed in 42.57 seconds.\n",
            "Epoch Loss: 0.18401491236422332\n",
            "Train Accuracy: 98.49%\n"
          ]
        },
        {
          "output_type": "stream",
          "name": "stderr",
          "text": []
        },
        {
          "output_type": "stream",
          "name": "stdout",
          "text": [
            "Epoch 6/25 Validation Accuracy: 86.77%\n"
          ]
        },
        {
          "output_type": "stream",
          "name": "stderr",
          "text": [
            "Epoch 7/25 Training: 100%|██████████| 62/62 [00:42<00:00,  1.47batch/s, loss=0.501]\n"
          ]
        },
        {
          "output_type": "stream",
          "name": "stdout",
          "text": [
            "Epoch 7/25 completed in 42.04 seconds.\n",
            "Epoch Loss: 0.14565931981609714\n",
            "Train Accuracy: 98.57%\n"
          ]
        },
        {
          "output_type": "stream",
          "name": "stderr",
          "text": []
        },
        {
          "output_type": "stream",
          "name": "stdout",
          "text": [
            "Epoch 7/25 Validation Accuracy: 85.98%\n"
          ]
        },
        {
          "output_type": "stream",
          "name": "stderr",
          "text": [
            "Epoch 8/25 Training: 100%|██████████| 62/62 [00:42<00:00,  1.47batch/s, loss=0.615]\n"
          ]
        },
        {
          "output_type": "stream",
          "name": "stdout",
          "text": [
            "Epoch 8/25 completed in 42.25 seconds.\n",
            "Epoch Loss: 0.1548145935239811\n",
            "Train Accuracy: 98.50%\n"
          ]
        },
        {
          "output_type": "stream",
          "name": "stderr",
          "text": []
        },
        {
          "output_type": "stream",
          "name": "stdout",
          "text": [
            "Epoch 8/25 Validation Accuracy: 84.52%\n"
          ]
        },
        {
          "output_type": "stream",
          "name": "stderr",
          "text": [
            "Epoch 9/25 Training: 100%|██████████| 62/62 [00:42<00:00,  1.46batch/s, loss=0.0524]\n"
          ]
        },
        {
          "output_type": "stream",
          "name": "stdout",
          "text": [
            "Epoch 9/25 completed in 42.49 seconds.\n",
            "Epoch Loss: 0.11081839265722421\n",
            "Train Accuracy: 99.18%\n"
          ]
        },
        {
          "output_type": "stream",
          "name": "stderr",
          "text": []
        },
        {
          "output_type": "stream",
          "name": "stdout",
          "text": [
            "Epoch 9/25 Validation Accuracy: 86.90%\n"
          ]
        },
        {
          "output_type": "stream",
          "name": "stderr",
          "text": [
            "Epoch 10/25 Training: 100%|██████████| 62/62 [00:41<00:00,  1.48batch/s, loss=0.0268]\n"
          ]
        },
        {
          "output_type": "stream",
          "name": "stdout",
          "text": [
            "Epoch 10/25 completed in 41.90 seconds.\n",
            "Epoch Loss: 0.06875258627077264\n",
            "Train Accuracy: 99.44%\n"
          ]
        },
        {
          "output_type": "stream",
          "name": "stderr",
          "text": []
        },
        {
          "output_type": "stream",
          "name": "stdout",
          "text": [
            "Epoch 10/25 Validation Accuracy: 87.30%\n"
          ]
        },
        {
          "output_type": "stream",
          "name": "stderr",
          "text": [
            "Epoch 11/25 Training: 100%|██████████| 62/62 [00:42<00:00,  1.45batch/s, loss=0.0371]\n"
          ]
        },
        {
          "output_type": "stream",
          "name": "stdout",
          "text": [
            "Epoch 11/25 completed in 42.78 seconds.\n",
            "Epoch Loss: 0.061031729869183995\n",
            "Train Accuracy: 99.52%\n"
          ]
        },
        {
          "output_type": "stream",
          "name": "stderr",
          "text": []
        },
        {
          "output_type": "stream",
          "name": "stdout",
          "text": [
            "Epoch 11/25 Validation Accuracy: 86.24%\n"
          ]
        },
        {
          "output_type": "stream",
          "name": "stderr",
          "text": [
            "Epoch 12/25 Training: 100%|██████████| 62/62 [00:42<00:00,  1.47batch/s, loss=0.0133]\n"
          ]
        },
        {
          "output_type": "stream",
          "name": "stdout",
          "text": [
            "Epoch 12/25 completed in 42.06 seconds.\n",
            "Epoch Loss: 0.03496723060661386\n",
            "Train Accuracy: 99.73%\n"
          ]
        },
        {
          "output_type": "stream",
          "name": "stderr",
          "text": []
        },
        {
          "output_type": "stream",
          "name": "stdout",
          "text": [
            "Epoch 12/25 Validation Accuracy: 86.24%\n"
          ]
        },
        {
          "output_type": "stream",
          "name": "stderr",
          "text": [
            "Epoch 13/25 Training: 100%|██████████| 62/62 [00:42<00:00,  1.47batch/s, loss=0.0612]\n"
          ]
        },
        {
          "output_type": "stream",
          "name": "stdout",
          "text": [
            "Epoch 13/25 completed in 42.26 seconds.\n",
            "Epoch Loss: 0.11313657576007949\n",
            "Train Accuracy: 99.02%\n"
          ]
        },
        {
          "output_type": "stream",
          "name": "stderr",
          "text": []
        },
        {
          "output_type": "stream",
          "name": "stdout",
          "text": [
            "Epoch 13/25 Validation Accuracy: 86.38%\n"
          ]
        },
        {
          "output_type": "stream",
          "name": "stderr",
          "text": [
            "Epoch 14/25 Training: 100%|██████████| 62/62 [00:42<00:00,  1.46batch/s, loss=0.0781]\n"
          ]
        },
        {
          "output_type": "stream",
          "name": "stdout",
          "text": [
            "Epoch 14/25 completed in 42.52 seconds.\n",
            "Epoch Loss: 0.11146115879678438\n",
            "Train Accuracy: 99.20%\n"
          ]
        },
        {
          "output_type": "stream",
          "name": "stderr",
          "text": []
        },
        {
          "output_type": "stream",
          "name": "stdout",
          "text": [
            "Epoch 14/25 Validation Accuracy: 86.24%\n"
          ]
        },
        {
          "output_type": "stream",
          "name": "stderr",
          "text": [
            "Epoch 15/25 Training: 100%|██████████| 62/62 [00:41<00:00,  1.48batch/s, loss=0.0752]\n"
          ]
        },
        {
          "output_type": "stream",
          "name": "stdout",
          "text": [
            "Epoch 15/25 completed in 41.99 seconds.\n",
            "Epoch Loss: 0.08031588499133865\n",
            "Train Accuracy: 99.42%\n"
          ]
        },
        {
          "output_type": "stream",
          "name": "stderr",
          "text": []
        },
        {
          "output_type": "stream",
          "name": "stdout",
          "text": [
            "Epoch 15/25 Validation Accuracy: 85.98%\n"
          ]
        },
        {
          "output_type": "stream",
          "name": "stderr",
          "text": [
            "Epoch 16/25 Training: 100%|██████████| 62/62 [00:42<00:00,  1.47batch/s, loss=0.166]\n"
          ]
        },
        {
          "output_type": "stream",
          "name": "stdout",
          "text": [
            "Epoch 16/25 completed in 42.09 seconds.\n",
            "Epoch Loss: 0.060434521215351956\n",
            "Train Accuracy: 99.51%\n"
          ]
        },
        {
          "output_type": "stream",
          "name": "stderr",
          "text": []
        },
        {
          "output_type": "stream",
          "name": "stdout",
          "text": [
            "Epoch 16/25 Validation Accuracy: 85.45%\n"
          ]
        },
        {
          "output_type": "stream",
          "name": "stderr",
          "text": [
            "Epoch 17/25 Training: 100%|██████████| 62/62 [00:42<00:00,  1.46batch/s, loss=0.053]\n"
          ]
        },
        {
          "output_type": "stream",
          "name": "stdout",
          "text": [
            "Epoch 17/25 completed in 42.61 seconds.\n",
            "Epoch Loss: 0.07774122572135961\n",
            "Train Accuracy: 99.32%\n"
          ]
        },
        {
          "output_type": "stream",
          "name": "stderr",
          "text": []
        },
        {
          "output_type": "stream",
          "name": "stdout",
          "text": [
            "Epoch 17/25 Validation Accuracy: 86.38%\n"
          ]
        },
        {
          "output_type": "stream",
          "name": "stderr",
          "text": [
            "Epoch 18/25 Training: 100%|██████████| 62/62 [00:41<00:00,  1.48batch/s, loss=0.0599]\n"
          ]
        },
        {
          "output_type": "stream",
          "name": "stdout",
          "text": [
            "Epoch 18/25 completed in 41.93 seconds.\n",
            "Epoch Loss: 0.15652942163644418\n",
            "Train Accuracy: 98.72%\n"
          ]
        },
        {
          "output_type": "stream",
          "name": "stderr",
          "text": []
        },
        {
          "output_type": "stream",
          "name": "stdout",
          "text": [
            "Epoch 18/25 Validation Accuracy: 88.62%\n"
          ]
        },
        {
          "output_type": "stream",
          "name": "stderr",
          "text": [
            "Epoch 19/25 Training: 100%|██████████| 62/62 [00:42<00:00,  1.47batch/s, loss=0.0119]\n"
          ]
        },
        {
          "output_type": "stream",
          "name": "stdout",
          "text": [
            "Epoch 19/25 completed in 42.18 seconds.\n",
            "Epoch Loss: 0.03776908431938218\n",
            "Train Accuracy: 99.75%\n"
          ]
        },
        {
          "output_type": "stream",
          "name": "stderr",
          "text": []
        },
        {
          "output_type": "stream",
          "name": "stdout",
          "text": [
            "Epoch 19/25 Validation Accuracy: 86.38%\n"
          ]
        },
        {
          "output_type": "stream",
          "name": "stderr",
          "text": [
            "Epoch 20/25 Training: 100%|██████████| 62/62 [00:42<00:00,  1.46batch/s, loss=0.0295]\n"
          ]
        },
        {
          "output_type": "stream",
          "name": "stdout",
          "text": [
            "Epoch 20/25 completed in 42.50 seconds.\n",
            "Epoch Loss: 0.0300624750164007\n",
            "Train Accuracy: 99.73%\n"
          ]
        },
        {
          "output_type": "stream",
          "name": "stderr",
          "text": []
        },
        {
          "output_type": "stream",
          "name": "stdout",
          "text": [
            "Epoch 20/25 Validation Accuracy: 87.30%\n"
          ]
        },
        {
          "output_type": "stream",
          "name": "stderr",
          "text": [
            "Epoch 21/25 Training: 100%|██████████| 62/62 [00:41<00:00,  1.48batch/s, loss=0.0481]\n"
          ]
        },
        {
          "output_type": "stream",
          "name": "stdout",
          "text": [
            "Epoch 21/25 completed in 41.85 seconds.\n",
            "Epoch Loss: 0.023065243855178837\n",
            "Train Accuracy: 99.86%\n"
          ]
        },
        {
          "output_type": "stream",
          "name": "stderr",
          "text": []
        },
        {
          "output_type": "stream",
          "name": "stdout",
          "text": [
            "Epoch 21/25 Validation Accuracy: 87.43%\n"
          ]
        },
        {
          "output_type": "stream",
          "name": "stderr",
          "text": [
            "Epoch 22/25 Training: 100%|██████████| 62/62 [00:42<00:00,  1.45batch/s, loss=0.00868]\n"
          ]
        },
        {
          "output_type": "stream",
          "name": "stdout",
          "text": [
            "Epoch 22/25 completed in 42.64 seconds.\n",
            "Epoch Loss: 0.03533354895039191\n",
            "Train Accuracy: 99.81%\n"
          ]
        },
        {
          "output_type": "stream",
          "name": "stderr",
          "text": []
        },
        {
          "output_type": "stream",
          "name": "stdout",
          "text": [
            "Epoch 22/25 Validation Accuracy: 87.04%\n"
          ]
        },
        {
          "output_type": "stream",
          "name": "stderr",
          "text": [
            "Epoch 23/25 Training: 100%|██████████| 62/62 [00:41<00:00,  1.48batch/s, loss=0.306]\n"
          ]
        },
        {
          "output_type": "stream",
          "name": "stdout",
          "text": [
            "Epoch 23/25 completed in 41.96 seconds.\n",
            "Epoch Loss: 0.14833900758399507\n",
            "Train Accuracy: 98.91%\n"
          ]
        },
        {
          "output_type": "stream",
          "name": "stderr",
          "text": []
        },
        {
          "output_type": "stream",
          "name": "stdout",
          "text": [
            "Epoch 23/25 Validation Accuracy: 86.11%\n"
          ]
        },
        {
          "output_type": "stream",
          "name": "stderr",
          "text": [
            "Epoch 24/25 Training: 100%|██████████| 62/62 [00:41<00:00,  1.48batch/s, loss=0.00907]\n"
          ]
        },
        {
          "output_type": "stream",
          "name": "stdout",
          "text": [
            "Epoch 24/25 completed in 41.90 seconds.\n",
            "Epoch Loss: 0.0851264220977863\n",
            "Train Accuracy: 99.20%\n"
          ]
        },
        {
          "output_type": "stream",
          "name": "stderr",
          "text": []
        },
        {
          "output_type": "stream",
          "name": "stdout",
          "text": [
            "Epoch 24/25 Validation Accuracy: 86.90%\n"
          ]
        },
        {
          "output_type": "stream",
          "name": "stderr",
          "text": [
            "Epoch 25/25 Training: 100%|██████████| 62/62 [00:42<00:00,  1.46batch/s, loss=0.0333]\n"
          ]
        },
        {
          "output_type": "stream",
          "name": "stdout",
          "text": [
            "Epoch 25/25 completed in 42.53 seconds.\n",
            "Epoch Loss: 0.056794196349425966\n",
            "Train Accuracy: 99.49%\n"
          ]
        },
        {
          "output_type": "stream",
          "name": "stderr",
          "text": []
        },
        {
          "output_type": "stream",
          "name": "stdout",
          "text": [
            "Epoch 25/25 Validation Accuracy: 87.57%\n",
            "\n",
            "Total Training Time: 1132.75 seconds (18.88 minutes)\n"
          ]
        },
        {
          "output_type": "display_data",
          "data": {
            "text/plain": [
              "<Figure size 1400x600 with 2 Axes>"
            ],
            "image/png": "[encoded data removed]"
          },
          "metadata": {}
        }
      ]
    },
    {
      "cell_type": "code",
      "source": [
        "# Define aesthetic categories\n",
        "aesthetic_categories = [\"Balance\", \"Color Harmony\", \"Depth & Perspective\", \"Texture & Brushwork\"]\n",
        "\n",
        "# Set the model to evaluation mode\n",
        "resNet50_model.eval()\n",
        "\n",
        "# Initialize variables to hold predictions and ground truths\n",
        "all_predictions = []\n",
        "all_labels = []\n",
        "\n",
        "# Iterate over the test dataset\n",
        "with torch.no_grad():\n",
        "    for images, labels in test_loader:\n",
        "        images, labels = images.to(device), labels.to(device)\n",
        "\n",
        "        # Forward pass through the model\n",
        "        balance, color_harmony, depth_perspective, texture_brushwork = resNet50_model(images)\n",
        "\n",
        "        # Convert logits to probabilities using sigmoid\n",
        "        predictions_balance = torch.sigmoid(balance)\n",
        "        predictions_color_harmony = torch.sigmoid(color_harmony)\n",
        "        predictions_depth_perspective = torch.sigmoid(depth_perspective)\n",
        "        predictions_texture_brushwork = torch.sigmoid(texture_brushwork)\n",
        "\n",
        "        # Binarize predictions (thresholding at 0.5)\n",
        "        predicted_labels_balance = (predictions_balance > 0.5).float()\n",
        "        predicted_labels_color_harmony = (predictions_color_harmony > 0.5).float()\n",
        "        predicted_labels_depth_perspective = (predictions_depth_perspective > 0.5).float()\n",
        "        predicted_labels_texture_brushwork = (predictions_texture_brushwork > 0.5).float()\n",
        "\n",
        "        # Concatenate the predictions for all categories (multi-label classification)\n",
        "        all_predictions.append(torch.cat((predicted_labels_balance, predicted_labels_color_harmony,\n",
        "                                          predicted_labels_depth_perspective, predicted_labels_texture_brushwork), dim=1))\n",
        "        all_labels.append(labels)\n",
        "\n",
        "# Convert the lists to tensors\n",
        "all_predictions = torch.cat(all_predictions, dim=0).cpu().numpy()\n",
        "all_labels = torch.cat(all_labels, dim=0).cpu().numpy()\n",
        "\n",
        "# Calculate accuracy\n",
        "accuracy = (all_predictions == all_labels).sum() / all_labels.size\n",
        "\n",
        "# Calculate Precision, Recall, and F1-Score (using 'samples' average for multi-label)\n",
        "precision = precision_score(all_labels, all_predictions, average='samples')\n",
        "recall = recall_score(all_labels, all_predictions, average='samples')\n",
        "f1 = f1_score(all_labels, all_predictions, average='samples')\n",
        "\n",
        "# Generate Multi-label Confusion Matrix (for each class)\n",
        "mcm = multilabel_confusion_matrix(all_labels, all_predictions)\n",
        "\n",
        "# Plot the confusion matrix\n",
        "fig, axes = plt.subplots(2, 2, figsize=(12, 10))\n",
        "for i, ax in enumerate(axes.flatten()):\n",
        "    sns.heatmap(mcm[i], annot=True, fmt='d', cmap='Blues', xticklabels=['Pred Negative', 'Pred Positive'],\n",
        "                yticklabels=['True Negative', 'True Positive'], ax=ax)\n",
        "    ax.set_title(f'Confusion Matrix for {aesthetic_categories[i]}')\n",
        "\n",
        "plt.tight_layout()\n",
        "plt.show()\n",
        "\n",
        "# Display the evaluation metrics\n",
        "print(f\"Test Accuracy: {accuracy * 100:.2f}%\")\n",
        "print(f\"Precision: {precision * 100:.2f}%\")\n",
        "print(f\"Recall: {recall * 100:.2f}%\")\n",
        "print(f\"F1-Score: {f1 * 100:.2f}%\")\n"
      ],
      "metadata": {
        "colab": {
          "base_uri": "https://localhost:8080/",
          "height": 1000
        },
        "id": "S_IlD6-j7ZmN",
        "outputId": "38c6d408-0d90-4c06-8aec-203be9bad725"
      },
      "execution_count": null,
      "outputs": [
        {
          "output_type": "stream",
          "name": "stderr",
          "text": [
            "/usr/local/lib/python3.11/dist-packages/sklearn/metrics/_classification.py:1565: UndefinedMetricWarning: Precision is ill-defined and being set to 0.0 in samples with no predicted labels. Use `zero_division` parameter to control this behavior.\n",
            "  _warn_prf(average, modifier, f\"{metric.capitalize()} is\", len(result))\n"
          ]
        },
        {
          "output_type": "display_data",
          "data": {
            "text/plain": [
              "<Figure size 1200x1000 with 8 Axes>"
            ],
            "image/png": "[encoded data removed]"
          },
          "metadata": {}
        },
        {
          "output_type": "stream",
          "name": "stdout",
          "text": [
            "Test Accuracy: 89.82%\n",
            "Precision: 76.63%\n",
            "Recall: 77.89%\n",
            "F1-Score: 77.05%\n"
          ]
        }
      ]
    },
    {
      "cell_type": "code",
      "source": [
        "import torch\n",
        "import torch.nn as nn\n",
        "import torch.optim as optim\n",
        "import timm  # For ViT and other models\n",
        "import torch.nn.functional as F\n",
        "from torch.utils.data import DataLoader\n",
        "import torch\n",
        "import time\n",
        "from tqdm import tqdm\n",
        "from PIL import Image\n",
        "from torchvision import datasets, transforms\n",
        "from torch.cuda.amp import autocast, GradScaler\n",
        "import matplotlib.pyplot as plt\n",
        "\n",
        "class AestheticModelWithResNet101(nn.Module):\n",
        "    def __init__(self, num_classes=4):\n",
        "        super(AestheticModelWithResNet101, self).__init__()\n",
        "        self.resnet = models.resnet101(pretrained=True)\n",
        "\n",
        "        # Get the in_features from ResNet101's final fully connected layer\n",
        "        in_features = self.resnet.fc.in_features\n",
        "\n",
        "        # Remove the final fully connected layer (so that we can add custom heads)\n",
        "        self.resnet.fc = nn.Identity()\n",
        "\n",
        "        # Custom heads for the 4 aesthetic classes\n",
        "        self.balance_head = nn.Sequential(\n",
        "            nn.Linear(in_features, 128),\n",
        "            nn.ReLU(),\n",
        "            nn.Linear(128, 1)  # Output for Balance class\n",
        "        )\n",
        "\n",
        "        self.color_harmony_head = nn.Sequential(\n",
        "            nn.Linear(in_features, 128),\n",
        "            nn.ReLU(),\n",
        "            nn.Linear(128, 1)  # Output for Color Harmony class\n",
        "        )\n",
        "\n",
        "        self.depth_perspective_head = nn.Sequential(\n",
        "            nn.Linear(in_features, 128),\n",
        "            nn.ReLU(),\n",
        "            nn.Linear(128, 1)  # Output for Depth & Perspective class\n",
        "        )\n",
        "\n",
        "        self.texture_brushwork_head = nn.Sequential(\n",
        "            nn.Linear(in_features, 128),\n",
        "            nn.ReLU(),\n",
        "            nn.Linear(128, 1)  # Output for Texture & Brushwork class\n",
        "        )\n",
        "\n",
        "    def forward(self, x):\n",
        "        features = self.resnet(x)\n",
        "        balance = self.balance_head(features)\n",
        "        color_harmony = self.color_harmony_head(features)\n",
        "        depth_perspective = self.depth_perspective_head(features)\n",
        "        texture_brushwork = self.texture_brushwork_head(features)\n",
        "\n",
        "        return balance, color_harmony, depth_perspective, texture_brushwork\n",
        "\n",
        "# Initialize model, loss function, and optimizer\n",
        "resNet101_model = AestheticModelWithResNet101(num_classes=4).to(device)\n",
        "criterion = nn.BCEWithLogitsLoss()  # Suitable for multi-label classification\n",
        "optimizer = optim.AdamW(resNet101_model.parameters(), lr=1e-4, weight_decay=1e-5)\n",
        "\n",
        "# Learning rate scheduler (reduce learning rate when validation loss plateaus)\n",
        "scheduler = optim.lr_scheduler.ReduceLROnPlateau(optimizer, 'min', patience=3, factor=0.5)\n",
        "\n",
        "# Lists to store loss and validation accuracy for plotting\n",
        "train_losses = []\n",
        "val_accuracies = []\n",
        "\n",
        "# Training loop with progress bar and time tracking\n",
        "num_epochs = 25\n",
        "start_time = time.time()  # Start time for total training\n",
        "\n",
        "for epoch in range(num_epochs):\n",
        "    resNet101_model.train()\n",
        "    running_loss = 0.0\n",
        "    correct_train = 0\n",
        "    total_train = 0\n",
        "    epoch_start_time = time.time()  # Start time for this epoch\n",
        "\n",
        "    # Initialize tqdm progress bar\n",
        "    with tqdm(train_loader, desc=f\"Epoch {epoch+1}/{num_epochs} Training\", unit=\"batch\") as tepoch:\n",
        "        for images, labels in tepoch:\n",
        "            images, labels = images.to(device), labels.to(device)\n",
        "\n",
        "            optimizer.zero_grad()\n",
        "\n",
        "            # Forward pass\n",
        "            balance, color_harmony, depth_perspective, texture_brushwork = resNet101_model(images)\n",
        "\n",
        "            # Calculate loss for each output (balance, color harmony, etc.)\n",
        "            loss_balance = criterion(balance.squeeze(), labels[:, 0])\n",
        "            loss_color_harmony = criterion(color_harmony.squeeze(), labels[:, 1])\n",
        "            loss_depth_perspective = criterion(depth_perspective.squeeze(), labels[:, 2])\n",
        "            loss_texture_brushwork = criterion(texture_brushwork.squeeze(), labels[:, 3])\n",
        "\n",
        "            # Total loss is the sum of all losses\n",
        "            total_loss = loss_balance + loss_color_harmony + loss_depth_perspective + loss_texture_brushwork\n",
        "            total_loss.backward()\n",
        "            optimizer.step()\n",
        "\n",
        "            running_loss += total_loss.item()\n",
        "\n",
        "            # Update accuracy\n",
        "            predictions = torch.cat([\n",
        "                torch.sigmoid(balance),\n",
        "                torch.sigmoid(color_harmony),\n",
        "                torch.sigmoid(depth_perspective),\n",
        "                torch.sigmoid(texture_brushwork)\n",
        "            ], dim=1)\n",
        "\n",
        "            # Binarize predictions (thresholding at 0.5)\n",
        "            predicted_labels = (predictions > 0.5).float()\n",
        "\n",
        "            # Compare predicted labels with the ground truth labels\n",
        "            correct_train += (predicted_labels == labels).sum().item()\n",
        "            total_train += labels.size(0) * labels.size(1)  # Total labels for all 4 categories\n",
        "\n",
        "            # Update the progress bar with loss information\n",
        "            tepoch.set_postfix(loss=total_loss.item())\n",
        "\n",
        "    epoch_end_time = time.time()  # End time for this epoch\n",
        "    epoch_duration = epoch_end_time - epoch_start_time  # Duration of the epoch\n",
        "    print(f\"Epoch {epoch+1}/{num_epochs} completed in {epoch_duration:.2f} seconds.\")\n",
        "    print(f\"Epoch Loss: {running_loss / len(train_loader)}\")\n",
        "\n",
        "    if total_train > 0:\n",
        "        train_accuracy = correct_train / total_train  # Ensure division by non-zero total_train\n",
        "        print(f\"Train Accuracy: {train_accuracy * 100:.2f}%\")\n",
        "    else:\n",
        "        print(\"Warning: Total train samples are zero.\")\n",
        "\n",
        "    train_losses.append(running_loss / len(train_loader))  # Store the train loss for each epoch\n",
        "\n",
        "    # Validation phase\n",
        "    resNet101_model.eval()\n",
        "    correct_val = 0\n",
        "    total_val = 0\n",
        "    with torch.no_grad():\n",
        "        for images, labels in tqdm(val_loader, desc=f\"Epoch {epoch+1}/{num_epochs} Validation\", leave=False):\n",
        "            images, labels = images.to(device), labels.to(device)\n",
        "            balance, color_harmony, depth_perspective, texture_brushwork = resNet101_model(images)\n",
        "\n",
        "            # Convert logits to probabilities (using sigmoid)\n",
        "            predictions_balance = torch.sigmoid(balance)\n",
        "            predictions_color_harmony = torch.sigmoid(color_harmony)\n",
        "            predictions_depth_perspective = torch.sigmoid(depth_perspective)\n",
        "            predictions_texture_brushwork = torch.sigmoid(texture_brushwork)\n",
        "\n",
        "            # Compare predictions to actual labels\n",
        "            predicted_labels_balance = (predictions_balance > 0.5).float()\n",
        "            predicted_labels_color_harmony = (predictions_color_harmony > 0.5).float()\n",
        "            predicted_labels_depth_perspective = (predictions_depth_perspective > 0.5).float()\n",
        "            predicted_labels_texture_brushwork = (predictions_texture_brushwork > 0.5).float()\n",
        "\n",
        "            correct_val += (predicted_labels_balance == labels[:, 0].unsqueeze(1)).sum().item()\n",
        "            correct_val += (predicted_labels_color_harmony == labels[:, 1].unsqueeze(1)).sum().item()\n",
        "            correct_val += (predicted_labels_depth_perspective == labels[:, 2].unsqueeze(1)).sum().item()\n",
        "            correct_val += (predicted_labels_texture_brushwork == labels[:, 3].unsqueeze(1)).sum().item()\n",
        "            total_val += labels.size(0) * 4  # Total labels for all 4 categories\n",
        "\n",
        "    val_accuracy = correct_val / total_val\n",
        "    val_accuracies.append(val_accuracy)  # Store the validation accuracy for each epoch\n",
        "    print(f\"Epoch {epoch+1}/{num_epochs} Validation Accuracy: {val_accuracy * 100:.2f}%\")\n",
        "\n",
        "    # Step the learning rate scheduler\n",
        "    scheduler.step(running_loss)\n",
        "\n",
        "# Total time for training\n",
        "total_training_time = time.time() - start_time\n",
        "print(f\"\\nTotal Training Time: {total_training_time:.2f} seconds ({(total_training_time / 60):.2f} minutes)\")\n",
        "\n",
        "# Test Accuracy Evaluation\n",
        "correct_test = 0\n",
        "total_test = 0\n",
        "with torch.no_grad():\n",
        "    for images, labels in test_loader:\n",
        "        images, labels = images.to(device), labels.to(device)\n",
        "        balance, color_harmony, depth_perspective, texture_brushwork = resNet101_model(images)\n",
        "\n",
        "        # Convert logits to probabilities\n",
        "        predictions = torch.cat([\n",
        "            torch.sigmoid(balance),\n",
        "            torch.sigmoid(color_harmony),\n",
        "            torch.sigmoid(depth_perspective),\n",
        "            torch.sigmoid(texture_brushwork)\n",
        "        ], dim=1)\n",
        "\n",
        "        # Binarize predictions (threshold = 0.5)\n",
        "        predicted_labels = (predictions > 0.5).float()\n",
        "\n",
        "        # Compute accuracy\n",
        "        correct_test += (predicted_labels == labels).sum().item()\n",
        "        total_test += labels.numel()\n",
        "\n",
        "# Compute final test accuracy\n",
        "test_accuracy = correct_test / total_test * 100\n",
        "\n",
        "# Display results\n",
        "print(f\"Test Accuracy: {test_accuracy:.2f}%\")\n",
        "\n",
        "# --- Now plotting the loss and accuracy curves ---\n",
        "# Plotting the training loss curve\n",
        "plt.figure(figsize=(10, 5))\n",
        "plt.plot(range(num_epochs), train_losses, label=\"Training Loss\")\n",
        "plt.xlabel('Epochs')\n",
        "plt.ylabel('Loss')\n",
        "plt.title('Training Loss Curve')\n",
        "plt.legend()\n",
        "plt.grid(True)\n",
        "\n",
        "# Plotting the validation accuracy curve\n",
        "plt.figure(figsize=(10, 5))\n",
        "plt.plot(range(num_epochs), val_accuracies, label=\"Validation Accuracy\", color='green')\n",
        "plt.xlabel('Epochs')\n",
        "plt.ylabel('Accuracy')\n",
        "plt.title('Validation Accuracy Curve')\n",
        "plt.legend()\n",
        "plt.grid(True)\n",
        "\n",
        "plt.show()\n"
      ],
      "metadata": {
        "id": "vlrYJsL-XE3k",
        "outputId": "1a8fb7ff-e223-4016-90e0-7ceaaa1bd417",
        "colab": {
          "base_uri": "https://localhost:8080/",
          "height": 1000
        }
      },
      "execution_count": null,
      "outputs": [
        {
          "output_type": "stream",
          "name": "stderr",
          "text": [
            "/usr/local/lib/python3.11/dist-packages/torchvision/models/_utils.py:208: UserWarning: The parameter 'pretrained' is deprecated since 0.13 and may be removed in the future, please use 'weights' instead.\n",
            "  warnings.warn(\n",
            "/usr/local/lib/python3.11/dist-packages/torchvision/models/_utils.py:223: UserWarning: Arguments other than a weight enum or `None` for 'weights' are deprecated since 0.13 and may be removed in the future. The current behavior is equivalent to passing `weights=ResNet101_Weights.IMAGENET1K_V1`. You can also use `weights=ResNet101_Weights.DEFAULT` to get the most up-to-date weights.\n",
            "  warnings.warn(msg)\n",
            "Downloading: \"https://download.pytorch.org/models/resnet101-63fe2227.pth\" to /root/.cache/torch/hub/checkpoints/resnet101-63fe2227.pth\n",
            "100%|██████████| 171M/171M [00:01<00:00, 90.1MB/s]\n",
            "Epoch 1/25 Training: 100%|██████████| 62/62 [00:54<00:00,  1.14batch/s, loss=1.39]\n"
          ]
        },
        {
          "output_type": "stream",
          "name": "stdout",
          "text": [
            "Epoch 1/25 completed in 54.59 seconds.\n",
            "Epoch Loss: 1.364165980969706\n",
            "Train Accuracy: 84.61%\n"
          ]
        },
        {
          "output_type": "stream",
          "name": "stderr",
          "text": []
        },
        {
          "output_type": "stream",
          "name": "stdout",
          "text": [
            "Epoch 1/25 Validation Accuracy: 86.11%\n"
          ]
        },
        {
          "output_type": "stream",
          "name": "stderr",
          "text": [
            "Epoch 2/25 Training: 100%|██████████| 62/62 [00:54<00:00,  1.14batch/s, loss=0.914]\n"
          ]
        },
        {
          "output_type": "stream",
          "name": "stdout",
          "text": [
            "Epoch 2/25 completed in 54.47 seconds.\n",
            "Epoch Loss: 0.5638922647603096\n",
            "Train Accuracy: 94.90%\n"
          ]
        },
        {
          "output_type": "stream",
          "name": "stderr",
          "text": []
        },
        {
          "output_type": "stream",
          "name": "stdout",
          "text": [
            "Epoch 2/25 Validation Accuracy: 86.90%\n"
          ]
        },
        {
          "output_type": "stream",
          "name": "stderr",
          "text": [
            "Epoch 3/25 Training: 100%|██████████| 62/62 [00:54<00:00,  1.13batch/s, loss=0.464]\n"
          ]
        },
        {
          "output_type": "stream",
          "name": "stdout",
          "text": [
            "Epoch 3/25 completed in 54.98 seconds.\n",
            "Epoch Loss: 0.2808681712636063\n",
            "Train Accuracy: 97.41%\n"
          ]
        },
        {
          "output_type": "stream",
          "name": "stderr",
          "text": []
        },
        {
          "output_type": "stream",
          "name": "stdout",
          "text": [
            "Epoch 3/25 Validation Accuracy: 87.96%\n"
          ]
        },
        {
          "output_type": "stream",
          "name": "stderr",
          "text": [
            "Epoch 4/25 Training: 100%|██████████| 62/62 [00:54<00:00,  1.14batch/s, loss=0.223]\n"
          ]
        },
        {
          "output_type": "stream",
          "name": "stdout",
          "text": [
            "Epoch 4/25 completed in 54.57 seconds.\n",
            "Epoch Loss: 0.1851308811455965\n",
            "Train Accuracy: 98.52%\n"
          ]
        },
        {
          "output_type": "stream",
          "name": "stderr",
          "text": []
        },
        {
          "output_type": "stream",
          "name": "stdout",
          "text": [
            "Epoch 4/25 Validation Accuracy: 87.70%\n"
          ]
        },
        {
          "output_type": "stream",
          "name": "stderr",
          "text": [
            "Epoch 5/25 Training: 100%|██████████| 62/62 [00:54<00:00,  1.14batch/s, loss=0.865]\n"
          ]
        },
        {
          "output_type": "stream",
          "name": "stdout",
          "text": [
            "Epoch 5/25 completed in 54.49 seconds.\n",
            "Epoch Loss: 0.24087912949823564\n",
            "Train Accuracy: 97.79%\n"
          ]
        },
        {
          "output_type": "stream",
          "name": "stderr",
          "text": []
        },
        {
          "output_type": "stream",
          "name": "stdout",
          "text": [
            "Epoch 5/25 Validation Accuracy: 87.17%\n"
          ]
        },
        {
          "output_type": "stream",
          "name": "stderr",
          "text": [
            "Epoch 6/25 Training: 100%|██████████| 62/62 [00:54<00:00,  1.13batch/s, loss=0.198]\n"
          ]
        },
        {
          "output_type": "stream",
          "name": "stdout",
          "text": [
            "Epoch 6/25 completed in 54.72 seconds.\n",
            "Epoch Loss: 0.16687449401304608\n",
            "Train Accuracy: 98.53%\n"
          ]
        },
        {
          "output_type": "stream",
          "name": "stderr",
          "text": []
        },
        {
          "output_type": "stream",
          "name": "stdout",
          "text": [
            "Epoch 6/25 Validation Accuracy: 87.70%\n"
          ]
        },
        {
          "output_type": "stream",
          "name": "stderr",
          "text": [
            "Epoch 7/25 Training: 100%|██████████| 62/62 [00:54<00:00,  1.14batch/s, loss=0.0548]\n"
          ]
        },
        {
          "output_type": "stream",
          "name": "stdout",
          "text": [
            "Epoch 7/25 completed in 54.46 seconds.\n",
            "Epoch Loss: 0.13325350852532974\n",
            "Train Accuracy: 98.91%\n"
          ]
        },
        {
          "output_type": "stream",
          "name": "stderr",
          "text": []
        },
        {
          "output_type": "stream",
          "name": "stdout",
          "text": [
            "Epoch 7/25 Validation Accuracy: 86.38%\n"
          ]
        },
        {
          "output_type": "stream",
          "name": "stderr",
          "text": [
            "Epoch 8/25 Training: 100%|██████████| 62/62 [00:54<00:00,  1.14batch/s, loss=0.105]\n"
          ]
        },
        {
          "output_type": "stream",
          "name": "stdout",
          "text": [
            "Epoch 8/25 completed in 54.55 seconds.\n",
            "Epoch Loss: 0.15451209114924555\n",
            "Train Accuracy: 98.58%\n"
          ]
        },
        {
          "output_type": "stream",
          "name": "stderr",
          "text": []
        },
        {
          "output_type": "stream",
          "name": "stdout",
          "text": [
            "Epoch 8/25 Validation Accuracy: 89.15%\n"
          ]
        },
        {
          "output_type": "stream",
          "name": "stderr",
          "text": [
            "Epoch 9/25 Training: 100%|██████████| 62/62 [00:54<00:00,  1.13batch/s, loss=0.0187]\n"
          ]
        },
        {
          "output_type": "stream",
          "name": "stdout",
          "text": [
            "Epoch 9/25 completed in 54.64 seconds.\n",
            "Epoch Loss: 0.0799305583650787\n",
            "Train Accuracy: 99.43%\n"
          ]
        },
        {
          "output_type": "stream",
          "name": "stderr",
          "text": []
        },
        {
          "output_type": "stream",
          "name": "stdout",
          "text": [
            "Epoch 9/25 Validation Accuracy: 86.38%\n"
          ]
        },
        {
          "output_type": "stream",
          "name": "stderr",
          "text": [
            "Epoch 10/25 Training: 100%|██████████| 62/62 [00:53<00:00,  1.15batch/s, loss=0.0192]\n"
          ]
        },
        {
          "output_type": "stream",
          "name": "stdout",
          "text": [
            "Epoch 10/25 completed in 53.96 seconds.\n",
            "Epoch Loss: 0.04310519608008044\n",
            "Train Accuracy: 99.71%\n"
          ]
        },
        {
          "output_type": "stream",
          "name": "stderr",
          "text": []
        },
        {
          "output_type": "stream",
          "name": "stdout",
          "text": [
            "Epoch 10/25 Validation Accuracy: 87.57%\n"
          ]
        },
        {
          "output_type": "stream",
          "name": "stderr",
          "text": [
            "Epoch 11/25 Training: 100%|██████████| 62/62 [00:54<00:00,  1.15batch/s, loss=0.00477]\n"
          ]
        },
        {
          "output_type": "stream",
          "name": "stdout",
          "text": [
            "Epoch 11/25 completed in 54.04 seconds.\n",
            "Epoch Loss: 0.08943505359873656\n",
            "Train Accuracy: 99.10%\n"
          ]
        },
        {
          "output_type": "stream",
          "name": "stderr",
          "text": []
        },
        {
          "output_type": "stream",
          "name": "stdout",
          "text": [
            "Epoch 11/25 Validation Accuracy: 86.90%\n"
          ]
        },
        {
          "output_type": "stream",
          "name": "stderr",
          "text": [
            "Epoch 12/25 Training: 100%|██████████| 62/62 [00:54<00:00,  1.14batch/s, loss=0.00428]\n"
          ]
        },
        {
          "output_type": "stream",
          "name": "stdout",
          "text": [
            "Epoch 12/25 completed in 54.49 seconds.\n",
            "Epoch Loss: 0.07431354756737428\n",
            "Train Accuracy: 99.20%\n"
          ]
        },
        {
          "output_type": "stream",
          "name": "stderr",
          "text": []
        },
        {
          "output_type": "stream",
          "name": "stdout",
          "text": [
            "Epoch 12/25 Validation Accuracy: 88.10%\n"
          ]
        },
        {
          "output_type": "stream",
          "name": "stderr",
          "text": [
            "Epoch 13/25 Training: 100%|██████████| 62/62 [00:54<00:00,  1.14batch/s, loss=0.0444]\n"
          ]
        },
        {
          "output_type": "stream",
          "name": "stdout",
          "text": [
            "Epoch 13/25 completed in 54.18 seconds.\n",
            "Epoch Loss: 0.05103900983569122\n",
            "Train Accuracy: 99.52%\n"
          ]
        },
        {
          "output_type": "stream",
          "name": "stderr",
          "text": []
        },
        {
          "output_type": "stream",
          "name": "stdout",
          "text": [
            "Epoch 13/25 Validation Accuracy: 89.29%\n"
          ]
        },
        {
          "output_type": "stream",
          "name": "stderr",
          "text": [
            "Epoch 14/25 Training: 100%|██████████| 62/62 [00:54<00:00,  1.14batch/s, loss=0.00357]\n"
          ]
        },
        {
          "output_type": "stream",
          "name": "stdout",
          "text": [
            "Epoch 14/25 completed in 54.19 seconds.\n",
            "Epoch Loss: 0.0913617454108692\n",
            "Train Accuracy: 99.25%\n"
          ]
        },
        {
          "output_type": "stream",
          "name": "stderr",
          "text": []
        },
        {
          "output_type": "stream",
          "name": "stdout",
          "text": [
            "Epoch 14/25 Validation Accuracy: 87.17%\n"
          ]
        },
        {
          "output_type": "stream",
          "name": "stderr",
          "text": [
            "Epoch 15/25 Training: 100%|██████████| 62/62 [00:53<00:00,  1.15batch/s, loss=1.7]\n"
          ]
        },
        {
          "output_type": "stream",
          "name": "stdout",
          "text": [
            "Epoch 15/25 completed in 53.95 seconds.\n",
            "Epoch Loss: 0.09469434643735088\n",
            "Train Accuracy: 99.47%\n"
          ]
        },
        {
          "output_type": "stream",
          "name": "stderr",
          "text": []
        },
        {
          "output_type": "stream",
          "name": "stdout",
          "text": [
            "Epoch 15/25 Validation Accuracy: 88.36%\n"
          ]
        },
        {
          "output_type": "stream",
          "name": "stderr",
          "text": [
            "Epoch 16/25 Training: 100%|██████████| 62/62 [00:54<00:00,  1.14batch/s, loss=0.00249]\n"
          ]
        },
        {
          "output_type": "stream",
          "name": "stdout",
          "text": [
            "Epoch 16/25 completed in 54.52 seconds.\n",
            "Epoch Loss: 0.04286073542185007\n",
            "Train Accuracy: 99.61%\n"
          ]
        },
        {
          "output_type": "stream",
          "name": "stderr",
          "text": []
        },
        {
          "output_type": "stream",
          "name": "stdout",
          "text": [
            "Epoch 16/25 Validation Accuracy: 89.15%\n"
          ]
        },
        {
          "output_type": "stream",
          "name": "stderr",
          "text": [
            "Epoch 17/25 Training: 100%|██████████| 62/62 [00:54<00:00,  1.13batch/s, loss=0.402]\n"
          ]
        },
        {
          "output_type": "stream",
          "name": "stdout",
          "text": [
            "Epoch 17/25 completed in 54.74 seconds.\n",
            "Epoch Loss: 0.02195486064339357\n",
            "Train Accuracy: 99.87%\n"
          ]
        },
        {
          "output_type": "stream",
          "name": "stderr",
          "text": []
        },
        {
          "output_type": "stream",
          "name": "stdout",
          "text": [
            "Epoch 17/25 Validation Accuracy: 89.29%\n"
          ]
        },
        {
          "output_type": "stream",
          "name": "stderr",
          "text": [
            "Epoch 18/25 Training: 100%|██████████| 62/62 [00:54<00:00,  1.13batch/s, loss=0.002]\n"
          ]
        },
        {
          "output_type": "stream",
          "name": "stdout",
          "text": [
            "Epoch 18/25 completed in 54.64 seconds.\n",
            "Epoch Loss: 0.015180275629034205\n",
            "Train Accuracy: 99.89%\n"
          ]
        },
        {
          "output_type": "stream",
          "name": "stderr",
          "text": []
        },
        {
          "output_type": "stream",
          "name": "stdout",
          "text": [
            "Epoch 18/25 Validation Accuracy: 88.76%\n"
          ]
        },
        {
          "output_type": "stream",
          "name": "stderr",
          "text": [
            "Epoch 19/25 Training: 100%|██████████| 62/62 [00:54<00:00,  1.13batch/s, loss=0.0106]\n"
          ]
        },
        {
          "output_type": "stream",
          "name": "stdout",
          "text": [
            "Epoch 19/25 completed in 54.79 seconds.\n",
            "Epoch Loss: 0.011875580008622379\n",
            "Train Accuracy: 99.96%\n"
          ]
        },
        {
          "output_type": "stream",
          "name": "stderr",
          "text": []
        },
        {
          "output_type": "stream",
          "name": "stdout",
          "text": [
            "Epoch 19/25 Validation Accuracy: 89.15%\n"
          ]
        },
        {
          "output_type": "stream",
          "name": "stderr",
          "text": [
            "Epoch 20/25 Training: 100%|██████████| 62/62 [00:54<00:00,  1.14batch/s, loss=0.0291]\n"
          ]
        },
        {
          "output_type": "stream",
          "name": "stdout",
          "text": [
            "Epoch 20/25 completed in 54.60 seconds.\n",
            "Epoch Loss: 0.006628147132071336\n",
            "Train Accuracy: 99.96%\n"
          ]
        },
        {
          "output_type": "stream",
          "name": "stderr",
          "text": []
        },
        {
          "output_type": "stream",
          "name": "stdout",
          "text": [
            "Epoch 20/25 Validation Accuracy: 88.10%\n"
          ]
        },
        {
          "output_type": "stream",
          "name": "stderr",
          "text": [
            "Epoch 21/25 Training: 100%|██████████| 62/62 [00:54<00:00,  1.14batch/s, loss=0.000644]\n"
          ]
        },
        {
          "output_type": "stream",
          "name": "stdout",
          "text": [
            "Epoch 21/25 completed in 54.41 seconds.\n",
            "Epoch Loss: 0.005835227532623967\n",
            "Train Accuracy: 99.96%\n"
          ]
        },
        {
          "output_type": "stream",
          "name": "stderr",
          "text": []
        },
        {
          "output_type": "stream",
          "name": "stdout",
          "text": [
            "Epoch 21/25 Validation Accuracy: 88.89%\n"
          ]
        },
        {
          "output_type": "stream",
          "name": "stderr",
          "text": [
            "Epoch 22/25 Training: 100%|██████████| 62/62 [00:54<00:00,  1.14batch/s, loss=0.126]\n"
          ]
        },
        {
          "output_type": "stream",
          "name": "stdout",
          "text": [
            "Epoch 22/25 completed in 54.34 seconds.\n",
            "Epoch Loss: 0.005448028632541067\n",
            "Train Accuracy: 99.99%\n"
          ]
        },
        {
          "output_type": "stream",
          "name": "stderr",
          "text": []
        },
        {
          "output_type": "stream",
          "name": "stdout",
          "text": [
            "Epoch 22/25 Validation Accuracy: 89.42%\n"
          ]
        },
        {
          "output_type": "stream",
          "name": "stderr",
          "text": [
            "Epoch 23/25 Training: 100%|██████████| 62/62 [00:54<00:00,  1.13batch/s, loss=0.0054]\n"
          ]
        },
        {
          "output_type": "stream",
          "name": "stdout",
          "text": [
            "Epoch 23/25 completed in 54.73 seconds.\n",
            "Epoch Loss: 0.012725756423371364\n",
            "Train Accuracy: 99.95%\n"
          ]
        },
        {
          "output_type": "stream",
          "name": "stderr",
          "text": []
        },
        {
          "output_type": "stream",
          "name": "stdout",
          "text": [
            "Epoch 23/25 Validation Accuracy: 89.81%\n"
          ]
        },
        {
          "output_type": "stream",
          "name": "stderr",
          "text": [
            "Epoch 24/25 Training: 100%|██████████| 62/62 [00:54<00:00,  1.13batch/s, loss=0.000692]\n"
          ]
        },
        {
          "output_type": "stream",
          "name": "stdout",
          "text": [
            "Epoch 24/25 completed in 54.91 seconds.\n",
            "Epoch Loss: 0.004971459289194054\n",
            "Train Accuracy: 99.96%\n"
          ]
        },
        {
          "output_type": "stream",
          "name": "stderr",
          "text": []
        },
        {
          "output_type": "stream",
          "name": "stdout",
          "text": [
            "Epoch 24/25 Validation Accuracy: 87.04%\n"
          ]
        },
        {
          "output_type": "stream",
          "name": "stderr",
          "text": [
            "Epoch 25/25 Training: 100%|██████████| 62/62 [00:54<00:00,  1.13batch/s, loss=0.00362]\n"
          ]
        },
        {
          "output_type": "stream",
          "name": "stdout",
          "text": [
            "Epoch 25/25 completed in 54.73 seconds.\n",
            "Epoch Loss: 0.0058105649204076\n",
            "Train Accuracy: 99.96%\n"
          ]
        },
        {
          "output_type": "stream",
          "name": "stderr",
          "text": []
        },
        {
          "output_type": "stream",
          "name": "stdout",
          "text": [
            "Epoch 25/25 Validation Accuracy: 87.96%\n",
            "\n",
            "Total Training Time: 1450.36 seconds (24.17 minutes)\n",
            "Test Accuracy: 89.45%\n"
          ]
        },
        {
          "output_type": "display_data",
          "data": {
            "text/plain": [
              "<Figure size 1000x500 with 1 Axes>"
            ],
            "image/png": "[encoded data removed]"
          },
          "metadata": {}
        },
        {
          "output_type": "display_data",
          "data": {
            "text/plain": [
              "<Figure size 1000x500 with 1 Axes>"
            ],
            "image/png": "[encoded data removed]"
          },
          "metadata": {}
        }
      ]
    },
    {
      "cell_type": "code",
      "source": [
        "# Define aesthetic categories\n",
        "aesthetic_categories = [\"Balance\", \"Color Harmony\", \"Depth & Perspective\", \"Texture & Brushwork\"]\n",
        "\n",
        "# Set the model to evaluation mode\n",
        "resNet101_model.eval()\n",
        "\n",
        "# Initialize variables to hold predictions and ground truths\n",
        "all_predictions = []\n",
        "all_labels = []\n",
        "\n",
        "# Iterate over the test dataset\n",
        "with torch.no_grad():\n",
        "    for images, labels in test_loader:\n",
        "        images, labels = images.to(device), labels.to(device)\n",
        "\n",
        "        # Forward pass through the model\n",
        "        balance, color_harmony, depth_perspective, texture_brushwork = resNet101_model(images)\n",
        "\n",
        "        # Convert logits to probabilities using sigmoid\n",
        "        predictions_balance = torch.sigmoid(balance)\n",
        "        predictions_color_harmony = torch.sigmoid(color_harmony)\n",
        "        predictions_depth_perspective = torch.sigmoid(depth_perspective)\n",
        "        predictions_texture_brushwork = torch.sigmoid(texture_brushwork)\n",
        "\n",
        "        # Binarize predictions (thresholding at 0.5)\n",
        "        predicted_labels_balance = (predictions_balance > 0.5).float()\n",
        "        predicted_labels_color_harmony = (predictions_color_harmony > 0.5).float()\n",
        "        predicted_labels_depth_perspective = (predictions_depth_perspective > 0.5).float()\n",
        "        predicted_labels_texture_brushwork = (predictions_texture_brushwork > 0.5).float()\n",
        "\n",
        "        # Concatenate the predictions for all categories (multi-label classification)\n",
        "        all_predictions.append(torch.cat((predicted_labels_balance, predicted_labels_color_harmony,\n",
        "                                          predicted_labels_depth_perspective, predicted_labels_texture_brushwork), dim=1))\n",
        "        all_labels.append(labels)\n",
        "\n",
        "# Convert the lists to tensors\n",
        "all_predictions = torch.cat(all_predictions, dim=0).cpu().numpy()\n",
        "all_labels = torch.cat(all_labels, dim=0).cpu().numpy()\n",
        "\n",
        "# Calculate accuracy\n",
        "accuracy = (all_predictions == all_labels).sum() / all_labels.size\n",
        "\n",
        "# Calculate Precision, Recall, and F1-Score (using 'samples' average for multi-label)\n",
        "precision = precision_score(all_labels, all_predictions, average='samples')\n",
        "recall = recall_score(all_labels, all_predictions, average='samples')\n",
        "f1 = f1_score(all_labels, all_predictions, average='samples')\n",
        "\n",
        "# Generate Multi-label Confusion Matrix (for each class)\n",
        "mcm = multilabel_confusion_matrix(all_labels, all_predictions)\n",
        "\n",
        "# Plot the confusion matrix\n",
        "fig, axes = plt.subplots(2, 2, figsize=(12, 10))\n",
        "for i, ax in enumerate(axes.flatten()):\n",
        "    sns.heatmap(mcm[i], annot=True, fmt='d', cmap='Blues', xticklabels=['Pred Negative', 'Pred Positive'],\n",
        "                yticklabels=['True Negative', 'True Positive'], ax=ax)\n",
        "    ax.set_title(f'Confusion Matrix for {aesthetic_categories[i]}')\n",
        "\n",
        "plt.tight_layout()\n",
        "plt.show()\n",
        "\n",
        "# Display the evaluation metrics\n",
        "print(f\"Test Accuracy: {accuracy * 100:.2f}%\")\n",
        "print(f\"Precision: {precision * 100:.2f}%\")\n",
        "print(f\"Recall: {recall * 100:.2f}%\")\n",
        "print(f\"F1-Score: {f1 * 100:.2f}%\")\n"
      ],
      "metadata": {
        "id": "K6s5wRnGdC78",
        "outputId": "2265be40-4e4b-4bf0-8b92-892010b8ea28",
        "colab": {
          "base_uri": "https://localhost:8080/",
          "height": 1000
        }
      },
      "execution_count": null,
      "outputs": [
        {
          "output_type": "stream",
          "name": "stderr",
          "text": [
            "/usr/local/lib/python3.11/dist-packages/sklearn/metrics/_classification.py:1565: UndefinedMetricWarning: Precision is ill-defined and being set to 0.0 in samples with no predicted labels. Use `zero_division` parameter to control this behavior.\n",
            "  _warn_prf(average, modifier, f\"{metric.capitalize()} is\", len(result))\n"
          ]
        },
        {
          "output_type": "display_data",
          "data": {
            "text/plain": [
              "<Figure size 1200x1000 with 8 Axes>"
            ],
            "image/png": "[encoded data removed]"
          },
          "metadata": {}
        },
        {
          "output_type": "stream",
          "name": "stdout",
          "text": [
            "Test Accuracy: 89.45%\n",
            "Precision: 76.63%\n",
            "Recall: 76.88%\n",
            "F1-Score: 76.72%\n"
          ]
        }
      ]
    },
    {
      "cell_type": "code",
      "source": [
        "import torch\n",
        "import torch.nn as nn\n",
        "import torch.optim as optim\n",
        "import timm  # For ViT and other models\n",
        "import torch.nn.functional as F\n",
        "from torch.utils.data import DataLoader\n",
        "import torch\n",
        "import time\n",
        "from tqdm import tqdm\n",
        "from PIL import Image\n",
        "from torchvision import datasets, transforms\n",
        "from torch.cuda.amp import autocast, GradScaler\n",
        "from sklearn.metrics import precision_score, recall_score, f1_score, confusion_matrix\n",
        "import seaborn as sns\n",
        "import matplotlib.pyplot as plt\n",
        "\n",
        "# Define the model based on ViT with custom heads for the 4 aesthetic classes\n",
        "class AestheticModelWithViT(nn.Module):\n",
        "    def __init__(self, num_classes=4):\n",
        "        super(AestheticModelWithViT, self).__init__()\n",
        "        # Load pre-trained ViT model\n",
        "        self.vit = timm.create_model('vit_base_patch16_224', pretrained=True)\n",
        "\n",
        "        # Get the input features from ViT's final fully connected layer\n",
        "        in_features = self.vit.head.in_features\n",
        "        self.vit.head = nn.Identity()  # Remove the original head to add custom heads\n",
        "\n",
        "        # Custom heads for each of the 4 aesthetic categories\n",
        "        self.balance_head = nn.Sequential(\n",
        "            nn.Linear(in_features, 128),\n",
        "            nn.ReLU(),\n",
        "            nn.Dropout(0.5),  # Dropout to prevent overfitting\n",
        "            nn.Linear(128, 1)  # Output for Balance class\n",
        "        )\n",
        "\n",
        "        self.color_harmony_head = nn.Sequential(\n",
        "            nn.Linear(in_features, 128),\n",
        "            nn.ReLU(),\n",
        "            nn.Dropout(0.5),  # Dropout to prevent overfitting\n",
        "            nn.Linear(128, 1)  # Output for Color Harmony class\n",
        "        )\n",
        "\n",
        "        self.depth_perspective_head = nn.Sequential(\n",
        "            nn.Linear(in_features, 128),\n",
        "            nn.ReLU(),\n",
        "            nn.Dropout(0.5),  # Dropout to prevent overfitting\n",
        "            nn.Linear(128, 1)  # Output for Depth & Perspective class\n",
        "        )\n",
        "\n",
        "        self.texture_brushwork_head = nn.Sequential(\n",
        "            nn.Linear(in_features, 128),\n",
        "            nn.ReLU(),\n",
        "            nn.Dropout(0.5),  # Dropout to prevent overfitting\n",
        "            nn.Linear(128, 1)  # Output for Texture & Brushwork class\n",
        "        )\n",
        "\n",
        "    def forward(self, x):\n",
        "        # Forward pass through ViT\n",
        "        features = self.vit(x)\n",
        "\n",
        "        # Get the output from each custom head\n",
        "        balance = self.balance_head(features)\n",
        "        color_harmony = self.color_harmony_head(features)\n",
        "        depth_perspective = self.depth_perspective_head(features)\n",
        "        texture_brushwork = self.texture_brushwork_head(features)\n",
        "\n",
        "        return balance, color_harmony, depth_perspective, texture_brushwork\n",
        "\n",
        "\n",
        "# Initialize model, loss function, and optimizer\n",
        "vit_model = AestheticModelWithViT(num_classes=4).to(device)\n",
        "criterion = nn.BCEWithLogitsLoss()  # Suitable for multi-label classification\n",
        "\n",
        "# Use AdamW optimizer for better regularization (weight decay) and improved performance\n",
        "optimizer = optim.AdamW(vit_model.parameters(), lr=1e-4, weight_decay=1e-5)\n",
        "\n",
        "# Learning rate scheduler (reduce learning rate when validation loss plateaus)\n",
        "scheduler = optim.lr_scheduler.ReduceLROnPlateau(optimizer, 'min', patience=3, factor=0.5)\n",
        "\n",
        "# Training loop with progress bar and time tracking\n",
        "num_epochs = 25\n",
        "start_time = time.time()  # Start time for total training\n",
        "\n",
        "for epoch in range(num_epochs):\n",
        "    vit_model.train()\n",
        "    running_loss = 0.0\n",
        "    correct_train = 0\n",
        "    total_train = 0\n",
        "    epoch_start_time = time.time()  # Start time for this epoch\n",
        "\n",
        "    # Initialize tqdm progress bar\n",
        "    with tqdm(train_loader, desc=f\"Epoch {epoch+1}/{num_epochs} Training\", unit=\"batch\") as tepoch:\n",
        "        for images, labels in tepoch:\n",
        "            images, labels = images.to(device), labels.to(device)\n",
        "\n",
        "            optimizer.zero_grad()\n",
        "\n",
        "            # Forward pass\n",
        "            balance, color_harmony, depth_perspective, texture_brushwork = vit_model(images)\n",
        "\n",
        "            # Calculate loss for each output (balance, color harmony, etc.)\n",
        "            loss_balance = criterion(balance.squeeze(), labels[:, 0])\n",
        "            loss_color_harmony = criterion(color_harmony.squeeze(), labels[:, 1])\n",
        "            loss_depth_perspective = criterion(depth_perspective.squeeze(), labels[:, 2])\n",
        "            loss_texture_brushwork = criterion(texture_brushwork.squeeze(), labels[:, 3])\n",
        "\n",
        "            # Total loss is the sum of all losses\n",
        "            total_loss = loss_balance + loss_color_harmony + loss_depth_perspective + loss_texture_brushwork\n",
        "            total_loss.backward()\n",
        "            optimizer.step()\n",
        "\n",
        "            running_loss += total_loss.item()\n",
        "\n",
        "            # Update accuracy\n",
        "            predictions = torch.cat([\n",
        "                torch.sigmoid(balance),\n",
        "                torch.sigmoid(color_harmony),\n",
        "                torch.sigmoid(depth_perspective),\n",
        "                torch.sigmoid(texture_brushwork)\n",
        "            ], dim=1)\n",
        "\n",
        "            # Binarize predictions (thresholding at 0.5)\n",
        "            predicted_labels = (predictions > 0.5).float()\n",
        "\n",
        "            # Compare predicted labels with the ground truth labels\n",
        "            correct_train += (predicted_labels == labels).sum().item()\n",
        "            total_train += labels.size(0) * labels.size(1)  # Total labels for all 4 categories\n",
        "\n",
        "            # Update the progress bar with loss information\n",
        "            tepoch.set_postfix(loss=total_loss.item())\n",
        "\n",
        "    epoch_end_time = time.time()  # End time for this epoch\n",
        "    epoch_duration = epoch_end_time - epoch_start_time  # Duration of the epoch\n",
        "    print(f\"Epoch {epoch+1}/{num_epochs} completed in {epoch_duration:.2f} seconds.\")\n",
        "    print(f\"Epoch Loss: {running_loss / len(train_loader)}\")\n",
        "    print(f\"Train Accuracy: {correct_train / total_train:.2f}%\")\n",
        "\n",
        "    # Validation phase\n",
        "    vit_model.eval()\n",
        "    correct_val = 0\n",
        "    total_val = 0\n",
        "    with torch.no_grad():\n",
        "        for images, labels in tqdm(val_loader, desc=f\"Epoch {epoch+1}/{num_epochs} Validation\", leave=False):\n",
        "            images, labels = images.to(device), labels.to(device)\n",
        "            balance, color_harmony, depth_perspective, texture_brushwork = vit_model(images)\n",
        "\n",
        "            # Convert logits to probabilities (using sigmoid)\n",
        "            predictions_balance = torch.sigmoid(balance)\n",
        "            predictions_color_harmony = torch.sigmoid(color_harmony)\n",
        "            predictions_depth_perspective = torch.sigmoid(depth_perspective)\n",
        "            predictions_texture_brushwork = torch.sigmoid(texture_brushwork)\n",
        "\n",
        "            # Compare predictions to actual labels\n",
        "            predicted_labels_balance = (predictions_balance > 0.5).float()\n",
        "            predicted_labels_color_harmony = (predictions_color_harmony > 0.5).float()\n",
        "            predicted_labels_depth_perspective = (predictions_depth_perspective > 0.5).float()\n",
        "            predicted_labels_texture_brushwork = (predictions_texture_brushwork > 0.5).float()\n",
        "\n",
        "            correct_val += (predicted_labels_balance == labels[:, 0].unsqueeze(1)).sum().item()\n",
        "            correct_val += (predicted_labels_color_harmony == labels[:, 1].unsqueeze(1)).sum().item()\n",
        "            correct_val += (predicted_labels_depth_perspective == labels[:, 2].unsqueeze(1)).sum().item()\n",
        "            correct_val += (predicted_labels_texture_brushwork == labels[:, 3].unsqueeze(1)).sum().item()\n",
        "            total_val += labels.size(0) * 4  # Total labels for all 4 categories\n",
        "\n",
        "    val_accuracy = correct_val / total_val\n",
        "    print(f\"Epoch {epoch+1}/{num_epochs} Validation Accuracy: {val_accuracy * 100:.2f}%\")\n",
        "\n",
        "    # Step the learning rate scheduler\n",
        "    scheduler.step(running_loss)\n",
        "\n",
        "# Total time for training\n",
        "total_training_time = time.time() - start_time\n",
        "print(f\"\\nTotal Training Time: {total_training_time:.2f} seconds ({(total_training_time / 60):.2f} minutes)\")\n",
        "\n",
        "# Test Accuracy Evaluation\n",
        "correct_test = 0\n",
        "total_test = 0\n",
        "with torch.no_grad():\n",
        "    for images, labels in test_loader:\n",
        "        images, labels = images.to(device), labels.to(device)\n",
        "        balance, color_harmony, depth_perspective, texture_brushwork = vit_model(images)\n",
        "\n",
        "        # Convert logits to probabilities\n",
        "        predictions = torch.cat([\n",
        "            torch.sigmoid(balance),\n",
        "            torch.sigmoid(color_harmony),\n",
        "            torch.sigmoid(depth_perspective),\n",
        "            torch.sigmoid(texture_brushwork)\n",
        "        ], dim=1)\n",
        "\n",
        "        # Binarize predictions (threshold = 0.5)\n",
        "        predicted_labels = (predictions > 0.5).float()\n",
        "\n",
        "        # Compute accuracy\n",
        "        correct_test += (predicted_labels == labels).sum().item()\n",
        "        total_test += labels.numel()\n",
        "\n",
        "# Compute final test accuracy\n",
        "test_accuracy = correct_test / total_test * 100\n",
        "\n",
        "# Display results\n",
        "print(f\"Test Accuracy: {test_accuracy:.2f}%\")\n"
      ],
      "metadata": {
        "colab": {
          "base_uri": "https://localhost:8080/",
          "height": 1000,
          "referenced_widgets": [
            "d01d4f850fcb4153b4586018aa3e301f",
            "b3405336bf1a4c96a310e1b3225e2ae0",
            "971aeec53ba1475296988609dbca8e21",
            "dbac2e29d3f44523b7fb364978867b7c",
            "1ce0bbf74b9845b393f027fc6f93515e",
            "7e1088599aeb4f5397bae97c487ff15f",
            "a0fa414ddf1348dda9ca787b2ed4abee",
            "f788780f001f4d4fb3d2948d5877d196",
            "cc4a4d89ee744325bf12bcbd33ecc276",
            "2bd02786820b400f88c7967fbf276e83",
            "493b94a2ef3b4ffda34c43c8aa396df5"
          ]
        },
        "id": "znGLKrMxWAG1",
        "outputId": "22179f00-c984-4e91-9677-9adb26b085cb"
      },
      "execution_count": 6,
      "outputs": [
        {
          "output_type": "stream",
          "name": "stderr",
          "text": [
            "/usr/local/lib/python3.11/dist-packages/huggingface_hub/utils/_auth.py:94: UserWarning: \n",
            "The secret `HF_TOKEN` does not exist in your Colab secrets.\n",
            "To authenticate with the Hugging Face Hub, create a token in your settings tab (https://huggingface.co/settings/tokens), set it as secret in your Google Colab and restart your session.\n",
            "You will be able to reuse this secret in all of your notebooks.\n",
            "Please note that authentication is recommended but still optional to access public models or datasets.\n",
            "  warnings.warn(\n"
          ]
        },
        {
          "output_type": "display_data",
          "data": {
            "text/plain": [
              "model.safetensors:   0%|          | 0.00/346M [00:00<?, ?B/s]"
            ],
            "application/vnd.jupyter.widget-view+json": {
              "version_major": 2,
              "version_minor": 0,
              "model_id": "d01d4f850fcb4153b4586018aa3e301f"
            }
          },
          "metadata": {}
        },
        {
          "output_type": "stream",
          "name": "stderr",
          "text": [
            "Epoch 1/25 Training: 100%|██████████| 62/62 [01:20<00:00,  1.31s/batch, loss=1.69]\n"
          ]
        },
        {
          "output_type": "stream",
          "name": "stdout",
          "text": [
            "Epoch 1/25 completed in 80.96 seconds.\n",
            "Epoch Loss: 1.7799184206993348\n",
            "Train Accuracy: 0.79%\n"
          ]
        },
        {
          "output_type": "stream",
          "name": "stderr",
          "text": []
        },
        {
          "output_type": "stream",
          "name": "stdout",
          "text": [
            "Epoch 1/25 Validation Accuracy: 80.82%\n"
          ]
        },
        {
          "output_type": "stream",
          "name": "stderr",
          "text": [
            "Epoch 2/25 Training: 100%|██████████| 62/62 [01:22<00:00,  1.33s/batch, loss=0.503]\n"
          ]
        },
        {
          "output_type": "stream",
          "name": "stdout",
          "text": [
            "Epoch 2/25 completed in 82.71 seconds.\n",
            "Epoch Loss: 1.0936545248954528\n",
            "Train Accuracy: 0.89%\n"
          ]
        },
        {
          "output_type": "stream",
          "name": "stderr",
          "text": []
        },
        {
          "output_type": "stream",
          "name": "stdout",
          "text": [
            "Epoch 2/25 Validation Accuracy: 85.32%\n"
          ]
        },
        {
          "output_type": "stream",
          "name": "stderr",
          "text": [
            "Epoch 3/25 Training: 100%|██████████| 62/62 [01:25<00:00,  1.38s/batch, loss=1.39]\n"
          ]
        },
        {
          "output_type": "stream",
          "name": "stdout",
          "text": [
            "Epoch 3/25 completed in 85.86 seconds.\n",
            "Epoch Loss: 0.7577602320140407\n",
            "Train Accuracy: 0.93%\n"
          ]
        },
        {
          "output_type": "stream",
          "name": "stderr",
          "text": []
        },
        {
          "output_type": "stream",
          "name": "stdout",
          "text": [
            "Epoch 3/25 Validation Accuracy: 80.56%\n"
          ]
        },
        {
          "output_type": "stream",
          "name": "stderr",
          "text": [
            "Epoch 4/25 Training: 100%|██████████| 62/62 [01:27<00:00,  1.41s/batch, loss=0.347]\n"
          ]
        },
        {
          "output_type": "stream",
          "name": "stdout",
          "text": [
            "Epoch 4/25 completed in 87.26 seconds.\n",
            "Epoch Loss: 0.418138385780396\n",
            "Train Accuracy: 0.96%\n"
          ]
        },
        {
          "output_type": "stream",
          "name": "stderr",
          "text": []
        },
        {
          "output_type": "stream",
          "name": "stdout",
          "text": [
            "Epoch 4/25 Validation Accuracy: 82.94%\n"
          ]
        },
        {
          "output_type": "stream",
          "name": "stderr",
          "text": [
            "Epoch 5/25 Training: 100%|██████████| 62/62 [01:28<00:00,  1.42s/batch, loss=0.202]\n"
          ]
        },
        {
          "output_type": "stream",
          "name": "stdout",
          "text": [
            "Epoch 5/25 completed in 88.33 seconds.\n",
            "Epoch Loss: 0.330396770559732\n",
            "Train Accuracy: 0.97%\n"
          ]
        },
        {
          "output_type": "stream",
          "name": "stderr",
          "text": []
        },
        {
          "output_type": "stream",
          "name": "stdout",
          "text": [
            "Epoch 5/25 Validation Accuracy: 82.80%\n"
          ]
        },
        {
          "output_type": "stream",
          "name": "stderr",
          "text": [
            "Epoch 6/25 Training: 100%|██████████| 62/62 [01:28<00:00,  1.43s/batch, loss=0.132]\n"
          ]
        },
        {
          "output_type": "stream",
          "name": "stdout",
          "text": [
            "Epoch 6/25 completed in 88.91 seconds.\n",
            "Epoch Loss: 0.24856940763551863\n",
            "Train Accuracy: 0.98%\n"
          ]
        },
        {
          "output_type": "stream",
          "name": "stderr",
          "text": []
        },
        {
          "output_type": "stream",
          "name": "stdout",
          "text": [
            "Epoch 6/25 Validation Accuracy: 83.99%\n"
          ]
        },
        {
          "output_type": "stream",
          "name": "stderr",
          "text": [
            "Epoch 7/25 Training: 100%|██████████| 62/62 [01:28<00:00,  1.43s/batch, loss=0.276]\n"
          ]
        },
        {
          "output_type": "stream",
          "name": "stdout",
          "text": [
            "Epoch 7/25 completed in 88.64 seconds.\n",
            "Epoch Loss: 0.223498864580066\n",
            "Train Accuracy: 0.98%\n"
          ]
        },
        {
          "output_type": "stream",
          "name": "stderr",
          "text": []
        },
        {
          "output_type": "stream",
          "name": "stdout",
          "text": [
            "Epoch 7/25 Validation Accuracy: 83.47%\n"
          ]
        },
        {
          "output_type": "stream",
          "name": "stderr",
          "text": [
            "Epoch 8/25 Training: 100%|██████████| 62/62 [01:28<00:00,  1.43s/batch, loss=0.0596]\n"
          ]
        },
        {
          "output_type": "stream",
          "name": "stdout",
          "text": [
            "Epoch 8/25 completed in 88.49 seconds.\n",
            "Epoch Loss: 0.3554702838882804\n",
            "Train Accuracy: 0.97%\n"
          ]
        },
        {
          "output_type": "stream",
          "name": "stderr",
          "text": []
        },
        {
          "output_type": "stream",
          "name": "stdout",
          "text": [
            "Epoch 8/25 Validation Accuracy: 79.37%\n"
          ]
        },
        {
          "output_type": "stream",
          "name": "stderr",
          "text": [
            "Epoch 9/25 Training: 100%|██████████| 62/62 [01:28<00:00,  1.43s/batch, loss=0.0347]\n"
          ]
        },
        {
          "output_type": "stream",
          "name": "stdout",
          "text": [
            "Epoch 9/25 completed in 88.90 seconds.\n",
            "Epoch Loss: 0.12829469518375494\n",
            "Train Accuracy: 0.99%\n"
          ]
        },
        {
          "output_type": "stream",
          "name": "stderr",
          "text": []
        },
        {
          "output_type": "stream",
          "name": "stdout",
          "text": [
            "Epoch 9/25 Validation Accuracy: 82.14%\n"
          ]
        },
        {
          "output_type": "stream",
          "name": "stderr",
          "text": [
            "Epoch 10/25 Training: 100%|██████████| 62/62 [01:28<00:00,  1.43s/batch, loss=0.0115]\n"
          ]
        },
        {
          "output_type": "stream",
          "name": "stdout",
          "text": [
            "Epoch 10/25 completed in 88.74 seconds.\n",
            "Epoch Loss: 0.16391586229926156\n",
            "Train Accuracy: 0.99%\n"
          ]
        },
        {
          "output_type": "stream",
          "name": "stderr",
          "text": []
        },
        {
          "output_type": "stream",
          "name": "stdout",
          "text": [
            "Epoch 10/25 Validation Accuracy: 80.95%\n"
          ]
        },
        {
          "output_type": "stream",
          "name": "stderr",
          "text": [
            "Epoch 11/25 Training: 100%|██████████| 62/62 [01:28<00:00,  1.42s/batch, loss=0.269]\n"
          ]
        },
        {
          "output_type": "stream",
          "name": "stdout",
          "text": [
            "Epoch 11/25 completed in 88.19 seconds.\n",
            "Epoch Loss: 0.12180733378045261\n",
            "Train Accuracy: 0.99%\n"
          ]
        },
        {
          "output_type": "stream",
          "name": "stderr",
          "text": []
        },
        {
          "output_type": "stream",
          "name": "stdout",
          "text": [
            "Epoch 11/25 Validation Accuracy: 81.61%\n"
          ]
        },
        {
          "output_type": "stream",
          "name": "stderr",
          "text": [
            "Epoch 12/25 Training: 100%|██████████| 62/62 [01:28<00:00,  1.43s/batch, loss=0.211]\n"
          ]
        },
        {
          "output_type": "stream",
          "name": "stdout",
          "text": [
            "Epoch 12/25 completed in 88.93 seconds.\n",
            "Epoch Loss: 0.13299806061531266\n",
            "Train Accuracy: 0.99%\n"
          ]
        },
        {
          "output_type": "stream",
          "name": "stderr",
          "text": []
        },
        {
          "output_type": "stream",
          "name": "stdout",
          "text": [
            "Epoch 12/25 Validation Accuracy: 83.33%\n"
          ]
        },
        {
          "output_type": "stream",
          "name": "stderr",
          "text": [
            "Epoch 13/25 Training: 100%|██████████| 62/62 [01:28<00:00,  1.43s/batch, loss=0.0037]\n"
          ]
        },
        {
          "output_type": "stream",
          "name": "stdout",
          "text": [
            "Epoch 13/25 completed in 88.59 seconds.\n",
            "Epoch Loss: 0.09039996585042606\n",
            "Train Accuracy: 0.99%\n"
          ]
        },
        {
          "output_type": "stream",
          "name": "stderr",
          "text": []
        },
        {
          "output_type": "stream",
          "name": "stdout",
          "text": [
            "Epoch 13/25 Validation Accuracy: 85.58%\n"
          ]
        },
        {
          "output_type": "stream",
          "name": "stderr",
          "text": [
            "Epoch 14/25 Training: 100%|██████████| 62/62 [01:28<00:00,  1.43s/batch, loss=0.013]\n"
          ]
        },
        {
          "output_type": "stream",
          "name": "stdout",
          "text": [
            "Epoch 14/25 completed in 88.92 seconds.\n",
            "Epoch Loss: 0.06944569607543188\n",
            "Train Accuracy: 1.00%\n"
          ]
        },
        {
          "output_type": "stream",
          "name": "stderr",
          "text": []
        },
        {
          "output_type": "stream",
          "name": "stdout",
          "text": [
            "Epoch 14/25 Validation Accuracy: 84.92%\n"
          ]
        },
        {
          "output_type": "stream",
          "name": "stderr",
          "text": [
            "Epoch 15/25 Training: 100%|██████████| 62/62 [01:28<00:00,  1.43s/batch, loss=0.00294]\n"
          ]
        },
        {
          "output_type": "stream",
          "name": "stdout",
          "text": [
            "Epoch 15/25 completed in 88.91 seconds.\n",
            "Epoch Loss: 0.1645314142168049\n",
            "Train Accuracy: 0.99%\n"
          ]
        },
        {
          "output_type": "stream",
          "name": "stderr",
          "text": []
        },
        {
          "output_type": "stream",
          "name": "stdout",
          "text": [
            "Epoch 15/25 Validation Accuracy: 82.41%\n"
          ]
        },
        {
          "output_type": "stream",
          "name": "stderr",
          "text": [
            "Epoch 16/25 Training: 100%|██████████| 62/62 [01:28<00:00,  1.43s/batch, loss=0.311]\n"
          ]
        },
        {
          "output_type": "stream",
          "name": "stdout",
          "text": [
            "Epoch 16/25 completed in 88.69 seconds.\n",
            "Epoch Loss: 0.17502415895972762\n",
            "Train Accuracy: 0.98%\n"
          ]
        },
        {
          "output_type": "stream",
          "name": "stderr",
          "text": []
        },
        {
          "output_type": "stream",
          "name": "stdout",
          "text": [
            "Epoch 16/25 Validation Accuracy: 83.47%\n"
          ]
        },
        {
          "output_type": "stream",
          "name": "stderr",
          "text": [
            "Epoch 17/25 Training: 100%|██████████| 62/62 [01:28<00:00,  1.42s/batch, loss=0.157]\n"
          ]
        },
        {
          "output_type": "stream",
          "name": "stdout",
          "text": [
            "Epoch 17/25 completed in 88.23 seconds.\n",
            "Epoch Loss: 0.06947820879624135\n",
            "Train Accuracy: 0.99%\n"
          ]
        },
        {
          "output_type": "stream",
          "name": "stderr",
          "text": []
        },
        {
          "output_type": "stream",
          "name": "stdout",
          "text": [
            "Epoch 17/25 Validation Accuracy: 81.35%\n"
          ]
        },
        {
          "output_type": "stream",
          "name": "stderr",
          "text": [
            "Epoch 18/25 Training: 100%|██████████| 62/62 [01:28<00:00,  1.43s/batch, loss=0.00441]\n"
          ]
        },
        {
          "output_type": "stream",
          "name": "stdout",
          "text": [
            "Epoch 18/25 completed in 88.57 seconds.\n",
            "Epoch Loss: 0.007021624936662134\n",
            "Train Accuracy: 1.00%\n"
          ]
        },
        {
          "output_type": "stream",
          "name": "stderr",
          "text": []
        },
        {
          "output_type": "stream",
          "name": "stdout",
          "text": [
            "Epoch 18/25 Validation Accuracy: 81.75%\n"
          ]
        },
        {
          "output_type": "stream",
          "name": "stderr",
          "text": [
            "Epoch 19/25 Training: 100%|██████████| 62/62 [01:28<00:00,  1.43s/batch, loss=0.0599]\n"
          ]
        },
        {
          "output_type": "stream",
          "name": "stdout",
          "text": [
            "Epoch 19/25 completed in 88.83 seconds.\n",
            "Epoch Loss: 0.07875092365711386\n",
            "Train Accuracy: 1.00%\n"
          ]
        },
        {
          "output_type": "stream",
          "name": "stderr",
          "text": []
        },
        {
          "output_type": "stream",
          "name": "stdout",
          "text": [
            "Epoch 19/25 Validation Accuracy: 84.26%\n"
          ]
        },
        {
          "output_type": "stream",
          "name": "stderr",
          "text": [
            "Epoch 20/25 Training: 100%|██████████| 62/62 [01:28<00:00,  1.43s/batch, loss=0.0185]\n"
          ]
        },
        {
          "output_type": "stream",
          "name": "stdout",
          "text": [
            "Epoch 20/25 completed in 88.70 seconds.\n",
            "Epoch Loss: 0.15458394369230635\n",
            "Train Accuracy: 0.99%\n"
          ]
        },
        {
          "output_type": "stream",
          "name": "stderr",
          "text": []
        },
        {
          "output_type": "stream",
          "name": "stdout",
          "text": [
            "Epoch 20/25 Validation Accuracy: 84.26%\n"
          ]
        },
        {
          "output_type": "stream",
          "name": "stderr",
          "text": [
            "Epoch 21/25 Training: 100%|██████████| 62/62 [01:28<00:00,  1.43s/batch, loss=0.0727]\n"
          ]
        },
        {
          "output_type": "stream",
          "name": "stdout",
          "text": [
            "Epoch 21/25 completed in 88.92 seconds.\n",
            "Epoch Loss: 0.0991564369910667\n",
            "Train Accuracy: 0.99%\n"
          ]
        },
        {
          "output_type": "stream",
          "name": "stderr",
          "text": []
        },
        {
          "output_type": "stream",
          "name": "stdout",
          "text": [
            "Epoch 21/25 Validation Accuracy: 84.66%\n"
          ]
        },
        {
          "output_type": "stream",
          "name": "stderr",
          "text": [
            "Epoch 22/25 Training: 100%|██████████| 62/62 [01:29<00:00,  1.44s/batch, loss=0.00823]\n"
          ]
        },
        {
          "output_type": "stream",
          "name": "stdout",
          "text": [
            "Epoch 22/25 completed in 89.28 seconds.\n",
            "Epoch Loss: 0.1010439662382968\n",
            "Train Accuracy: 0.99%\n"
          ]
        },
        {
          "output_type": "stream",
          "name": "stderr",
          "text": []
        },
        {
          "output_type": "stream",
          "name": "stdout",
          "text": [
            "Epoch 22/25 Validation Accuracy: 85.32%\n"
          ]
        },
        {
          "output_type": "stream",
          "name": "stderr",
          "text": [
            "Epoch 23/25 Training: 100%|██████████| 62/62 [01:28<00:00,  1.43s/batch, loss=0.00429]\n"
          ]
        },
        {
          "output_type": "stream",
          "name": "stdout",
          "text": [
            "Epoch 23/25 completed in 88.46 seconds.\n",
            "Epoch Loss: 0.010228499849026481\n",
            "Train Accuracy: 1.00%\n"
          ]
        },
        {
          "output_type": "stream",
          "name": "stderr",
          "text": []
        },
        {
          "output_type": "stream",
          "name": "stdout",
          "text": [
            "Epoch 23/25 Validation Accuracy: 85.45%\n"
          ]
        },
        {
          "output_type": "stream",
          "name": "stderr",
          "text": [
            "Epoch 24/25 Training: 100%|██████████| 62/62 [01:28<00:00,  1.44s/batch, loss=0.000969]\n"
          ]
        },
        {
          "output_type": "stream",
          "name": "stdout",
          "text": [
            "Epoch 24/25 completed in 88.98 seconds.\n",
            "Epoch Loss: 0.0025278192413445083\n",
            "Train Accuracy: 1.00%\n"
          ]
        },
        {
          "output_type": "stream",
          "name": "stderr",
          "text": []
        },
        {
          "output_type": "stream",
          "name": "stdout",
          "text": [
            "Epoch 24/25 Validation Accuracy: 84.92%\n"
          ]
        },
        {
          "output_type": "stream",
          "name": "stderr",
          "text": [
            "Epoch 25/25 Training: 100%|██████████| 62/62 [01:28<00:00,  1.43s/batch, loss=0.000899]\n"
          ]
        },
        {
          "output_type": "stream",
          "name": "stdout",
          "text": [
            "Epoch 25/25 completed in 88.68 seconds.\n",
            "Epoch Loss: 0.001327419032027284\n",
            "Train Accuracy: 1.00%\n"
          ]
        },
        {
          "output_type": "stream",
          "name": "stderr",
          "text": []
        },
        {
          "output_type": "stream",
          "name": "stdout",
          "text": [
            "Epoch 25/25 Validation Accuracy: 84.92%\n",
            "\n",
            "Total Training Time: 2309.15 seconds (38.49 minutes)\n",
            "Test Accuracy: 86.43%\n"
          ]
        }
      ]
    },
    {
      "cell_type": "code",
      "source": [
        "# Define aesthetic categories\n",
        "aesthetic_categories = [\"Balance\", \"Color Harmony\", \"Depth & Perspective\", \"Texture & Brushwork\"]\n",
        "\n",
        "# Set the model to evaluation mode\n",
        "vit_model.eval()\n",
        "\n",
        "# Initialize variables to hold predictions and ground truths\n",
        "all_predictions = []\n",
        "all_labels = []\n",
        "\n",
        "# Iterate over the test dataset\n",
        "with torch.no_grad():\n",
        "    for images, labels in test_loader:\n",
        "        images, labels = images.to(device), labels.to(device)\n",
        "\n",
        "        # Forward pass through the model\n",
        "        balance, color_harmony, depth_perspective, texture_brushwork = vit_model(images)\n",
        "\n",
        "        # Convert logits to probabilities using sigmoid\n",
        "        predictions_balance = torch.sigmoid(balance)\n",
        "        predictions_color_harmony = torch.sigmoid(color_harmony)\n",
        "        predictions_depth_perspective = torch.sigmoid(depth_perspective)\n",
        "        predictions_texture_brushwork = torch.sigmoid(texture_brushwork)\n",
        "\n",
        "        # Binarize predictions (thresholding at 0.5)\n",
        "        predicted_labels_balance = (predictions_balance > 0.5).float()\n",
        "        predicted_labels_color_harmony = (predictions_color_harmony > 0.5).float()\n",
        "        predicted_labels_depth_perspective = (predictions_depth_perspective > 0.5).float()\n",
        "        predicted_labels_texture_brushwork = (predictions_texture_brushwork > 0.5).float()\n",
        "\n",
        "        # Concatenate the predictions for all categories (multi-label classification)\n",
        "        all_predictions.append(torch.cat((predicted_labels_balance, predicted_labels_color_harmony,\n",
        "                                          predicted_labels_depth_perspective, predicted_labels_texture_brushwork), dim=1))\n",
        "        all_labels.append(labels)\n",
        "\n",
        "# Convert the lists to tensors\n",
        "all_predictions = torch.cat(all_predictions, dim=0).cpu().numpy()\n",
        "all_labels = torch.cat(all_labels, dim=0).cpu().numpy()\n",
        "\n",
        "# Calculate accuracy\n",
        "accuracy = (all_predictions == all_labels).sum() / all_labels.size\n",
        "\n",
        "# Calculate Precision, Recall, and F1-Score (using 'samples' average for multi-label)\n",
        "precision = precision_score(all_labels, all_predictions, average='samples')\n",
        "recall = recall_score(all_labels, all_predictions, average='samples')\n",
        "f1 = f1_score(all_labels, all_predictions, average='samples')\n",
        "\n",
        "# Generate Multi-label Confusion Matrix (for each class)\n",
        "mcm = multilabel_confusion_matrix(all_labels, all_predictions)\n",
        "\n",
        "# Plot the confusion matrix\n",
        "fig, axes = plt.subplots(2, 2, figsize=(12, 10))\n",
        "for i, ax in enumerate(axes.flatten()):\n",
        "    sns.heatmap(mcm[i], annot=True, fmt='d', cmap='Blues', xticklabels=['Pred Negative', 'Pred Positive'],\n",
        "                yticklabels=['True Negative', 'True Positive'], ax=ax)\n",
        "    ax.set_title(f'Confusion Matrix for {aesthetic_categories[i]}')\n",
        "\n",
        "plt.tight_layout()\n",
        "plt.show()\n",
        "\n",
        "# Display the evaluation metrics\n",
        "print(f\"Test Accuracy: {accuracy * 100:.2f}%\")\n",
        "print(f\"Precision: {precision * 100:.2f}%\")\n",
        "print(f\"Recall: {recall * 100:.2f}%\")\n",
        "print(f\"F1-Score: {f1 * 100:.2f}%\")\n",
        "\n"
      ],
      "metadata": {
        "colab": {
          "base_uri": "https://localhost:8080/",
          "height": 1000
        },
        "id": "J51zOSuXgT8G",
        "outputId": "49ddbdf6-c187-45d1-f348-f88b35022e28"
      },
      "execution_count": 7,
      "outputs": [
        {
          "output_type": "stream",
          "name": "stderr",
          "text": [
            "/usr/local/lib/python3.11/dist-packages/sklearn/metrics/_classification.py:1565: UndefinedMetricWarning: Precision is ill-defined and being set to 0.0 in samples with no predicted labels. Use `zero_division` parameter to control this behavior.\n",
            "  _warn_prf(average, modifier, f\"{metric.capitalize()} is\", len(result))\n"
          ]
        },
        {
          "output_type": "display_data",
          "data": {
            "text/plain": [
              "<Figure size 1200x1000 with 8 Axes>"
            ],
            "image/png": "[encoded data removed]"
          },
          "metadata": {}
        },
        {
          "output_type": "stream",
          "name": "stdout",
          "text": [
            "Test Accuracy: 86.43%\n",
            "Precision: 71.86%\n",
            "Recall: 71.86%\n",
            "F1-Score: 71.86%\n"
          ]
        }
      ]
    },
    {
      "cell_type": "code",
      "source": [
        "import torch\n",
        "import torch.nn as nn\n",
        "import torch.optim as optim\n",
        "import timm  # For EfficientNet and other models\n",
        "import torch.nn.functional as F\n",
        "from torch.utils.data import DataLoader\n",
        "import torch\n",
        "import time\n",
        "from tqdm import tqdm\n",
        "from PIL import Image\n",
        "from torchvision import datasets, transforms\n",
        "from torch.cuda.amp import autocast, GradScaler\n",
        "\n",
        "# Define model based on EfficientNet with custom heads for the 4 aesthetic classes\n",
        "class AestheticModelWithEfficientNet(nn.Module):\n",
        "    def __init__(self, num_classes=4):\n",
        "        super(AestheticModelWithEfficientNet, self).__init__()\n",
        "        # Load pre-trained EfficientNet model\n",
        "        self.efficientnet = timm.create_model('efficientnet_b3', pretrained=True)\n",
        "\n",
        "        # Get the input features from EfficientNet's final fully connected layer\n",
        "        in_features = self.efficientnet.classifier.in_features\n",
        "        self.efficientnet.classifier = nn.Identity()  # Remove the original head to add custom heads\n",
        "\n",
        "        # Custom heads for each of the 4 aesthetic categories\n",
        "        self.balance_head = nn.Sequential(\n",
        "            nn.Linear(in_features, 128),\n",
        "            nn.ReLU(),\n",
        "            nn.Linear(128, 1)  # Output for Balance class\n",
        "        )\n",
        "\n",
        "        self.color_harmony_head = nn.Sequential(\n",
        "            nn.Linear(in_features, 128),\n",
        "            nn.ReLU(),\n",
        "            nn.Linear(128, 1)  # Output for Color Harmony class\n",
        "        )\n",
        "\n",
        "        self.depth_perspective_head = nn.Sequential(\n",
        "            nn.Linear(in_features, 128),\n",
        "            nn.ReLU(),\n",
        "            nn.Linear(128, 1)  # Output for Depth & Perspective class\n",
        "        )\n",
        "\n",
        "        self.texture_brushwork_head = nn.Sequential(\n",
        "            nn.Linear(in_features, 128),\n",
        "            nn.ReLU(),\n",
        "            nn.Linear(128, 1)  # Output for Texture & Brushwork class\n",
        "        )\n",
        "\n",
        "    def forward(self, x):\n",
        "        # Forward pass through EfficientNet\n",
        "        features = self.efficientnet(x)\n",
        "\n",
        "        # Get the output from each custom head\n",
        "        balance = self.balance_head(features)\n",
        "        color_harmony = self.color_harmony_head(features)\n",
        "        depth_perspective = self.depth_perspective_head(features)\n",
        "        texture_brushwork = self.texture_brushwork_head(features)\n",
        "\n",
        "        return balance, color_harmony, depth_perspective, texture_brushwork\n",
        "\n",
        "\n",
        "# Initialize model, loss function, and optimizer\n",
        "efficientnet_model = AestheticModelWithEfficientNet(num_classes=4).to(device)\n",
        "criterion = nn.BCEWithLogitsLoss()  # Suitable for multi-label classification\n",
        "\n",
        "# Use AdamW optimizer for better regularization (weight decay) and improved performance\n",
        "optimizer = optim.AdamW(efficientnet_model.parameters(), lr=1e-4, weight_decay=1e-5)\n",
        "\n",
        "# Learning rate scheduler (reduce learning rate when validation loss plateaus)\n",
        "scheduler = optim.lr_scheduler.ReduceLROnPlateau(optimizer, 'min', patience=3, factor=0.5)\n",
        "\n",
        "# Training loop with progress bar and time tracking\n",
        "num_epochs = 25\n",
        "start_time = time.time()  # Start time for total training\n",
        "\n",
        "for epoch in range(num_epochs):\n",
        "    efficientnet_model.train()\n",
        "    running_loss = 0.0\n",
        "    correct_train = 0\n",
        "    total_train = 0\n",
        "    epoch_start_time = time.time()  # Start time for this epoch\n",
        "\n",
        "    # Initialize tqdm progress bar\n",
        "    with tqdm(train_loader, desc=f\"Epoch {epoch+1}/{num_epochs} Training\", unit=\"batch\") as tepoch:\n",
        "        for images, labels in tepoch:\n",
        "            images, labels = images.to(device), labels.to(device)\n",
        "\n",
        "            optimizer.zero_grad()\n",
        "\n",
        "            # Forward pass\n",
        "            balance, color_harmony, depth_perspective, texture_brushwork = efficientnet_model(images)\n",
        "\n",
        "            # Calculate loss for each output (balance, color harmony, etc.)\n",
        "            loss_balance = criterion(balance.squeeze(), labels[:, 0])\n",
        "            loss_color_harmony = criterion(color_harmony.squeeze(), labels[:, 1])\n",
        "            loss_depth_perspective = criterion(depth_perspective.squeeze(), labels[:, 2])\n",
        "            loss_texture_brushwork = criterion(texture_brushwork.squeeze(), labels[:, 3])\n",
        "\n",
        "            # Total loss is the sum of all losses\n",
        "            total_loss = loss_balance + loss_color_harmony + loss_depth_perspective + loss_texture_brushwork\n",
        "            total_loss.backward()\n",
        "            optimizer.step()\n",
        "\n",
        "            running_loss += total_loss.item()\n",
        "\n",
        "            # Update accuracy\n",
        "            predictions = torch.cat([\n",
        "                torch.sigmoid(balance),\n",
        "                torch.sigmoid(color_harmony),\n",
        "                torch.sigmoid(depth_perspective),\n",
        "                torch.sigmoid(texture_brushwork)\n",
        "            ], dim=1)\n",
        "\n",
        "            # Binarize predictions (thresholding at 0.5)\n",
        "            predicted_labels = (predictions > 0.5).float()\n",
        "\n",
        "            # Compare predicted labels with the ground truth labels\n",
        "            correct_train += (predicted_labels == labels).sum().item()\n",
        "            total_train += labels.size(0) * labels.size(1)  # Total labels for all 4 categories\n",
        "\n",
        "            # Update the progress bar with loss information\n",
        "            tepoch.set_postfix(loss=total_loss.item())\n",
        "\n",
        "    epoch_end_time = time.time()  # End time for this epoch\n",
        "    epoch_duration = epoch_end_time - epoch_start_time  # Duration of the epoch\n",
        "    print(f\"Epoch {epoch+1}/{num_epochs} completed in {epoch_duration:.2f} seconds.\")\n",
        "    print(f\"Epoch Loss: {running_loss / len(train_loader)}\")\n",
        "    print(f\"Train Accuracy: {correct_train / total_train:.2f}%\")\n",
        "\n",
        "    # Validation phase\n",
        "    efficientnet_model.eval()\n",
        "    correct_val = 0\n",
        "    total_val = 0\n",
        "    with torch.no_grad():\n",
        "        for images, labels in tqdm(val_loader, desc=f\"Epoch {epoch+1}/{num_epochs} Validation\", leave=False):\n",
        "            images, labels = images.to(device), labels.to(device)\n",
        "            balance, color_harmony, depth_perspective, texture_brushwork = efficientnet_model(images)\n",
        "\n",
        "            # Convert logits to probabilities (using sigmoid)\n",
        "            predictions_balance = torch.sigmoid(balance)\n",
        "            predictions_color_harmony = torch.sigmoid(color_harmony)\n",
        "            predictions_depth_perspective = torch.sigmoid(depth_perspective)\n",
        "            predictions_texture_brushwork = torch.sigmoid(texture_brushwork)\n",
        "\n",
        "            # Compare predictions to actual labels\n",
        "            predicted_labels_balance = (predictions_balance > 0.5).float()\n",
        "            predicted_labels_color_harmony = (predictions_color_harmony > 0.5).float()\n",
        "            predicted_labels_depth_perspective = (predictions_depth_perspective > 0.5).float()\n",
        "            predicted_labels_texture_brushwork = (predictions_texture_brushwork > 0.5).float()\n",
        "\n",
        "            correct_val += (predicted_labels_balance == labels[:, 0].unsqueeze(1)).sum().item()\n",
        "            correct_val += (predicted_labels_color_harmony == labels[:, 1].unsqueeze(1)).sum().item()\n",
        "            correct_val += (predicted_labels_depth_perspective == labels[:, 2].unsqueeze(1)).sum().item()\n",
        "            correct_val += (predicted_labels_texture_brushwork == labels[:, 3].unsqueeze(1)).sum().item()\n",
        "            total_val += labels.size(0) * 4  # Total labels for all 4 categories\n",
        "\n",
        "    val_accuracy = correct_val / total_val\n",
        "    print(f\"Epoch {epoch+1}/{num_epochs} Validation Accuracy: {val_accuracy * 100:.2f}%\")\n",
        "\n",
        "    # Step the learning rate scheduler\n",
        "    scheduler.step(running_loss)\n",
        "\n",
        "# Total time for training\n",
        "total_training_time = time.time() - start_time\n",
        "print(f\"\\nTotal Training Time: {total_training_time:.2f} seconds ({(total_training_time / 60):.2f} minutes)\")\n",
        "\n",
        "# Test Accuracy Evaluation\n",
        "correct_test = 0\n",
        "total_test = 0\n",
        "with torch.no_grad():\n",
        "    for images, labels in test_loader:\n",
        "        images, labels = images.to(device), labels.to(device)\n",
        "        balance, color_harmony, depth_perspective, texture_brushwork = efficientnet_model(images)\n",
        "\n",
        "        # Convert logits to probabilities\n",
        "        predictions = torch.cat([\n",
        "            torch.sigmoid(balance),\n",
        "            torch.sigmoid(color_harmony),\n",
        "            torch.sigmoid(depth_perspective),\n",
        "            torch.sigmoid(texture_brushwork)\n",
        "        ], dim=1)\n",
        "\n",
        "        # Binarize predictions (threshold = 0.5)\n",
        "        predicted_labels = (predictions > 0.5).float()\n",
        "\n",
        "        # Compute accuracy\n",
        "        correct_test += (predicted_labels == labels).sum().item()\n",
        "        total_test += labels.numel()\n",
        "\n",
        "# Compute final test accuracy\n",
        "test_accuracy = correct_test / total_test * 100\n",
        "\n",
        "# Display results\n",
        "print(f\"Test Accuracy: {test_accuracy:.2f}%\")\n"
      ],
      "metadata": {
        "colab": {
          "base_uri": "https://localhost:8080/",
          "height": 1000,
          "referenced_widgets": [
            "c28e82878bdb49b296e284638058f34c",
            "ed9f32979fa54a85ade7b3d2356b67bb",
            "fe8a42e6d9e94f4999251be1935520a4",
            "8baa5d5bb6904307a75ac2c651545a8b",
            "a4b496537c714329bbfba27820f0458e",
            "7277c65d838847a69393bd946ad585d2",
            "15b72cd777e548a68c7322f166a86605",
            "d1e5b3abcae34eba9f95e4bf88442c38",
            "2e7e421bb186477cb8452fc512552235",
            "a24434d852814b77807185075d084a57",
            "1bc712046f7446f7a6e0508598a96a9e"
          ]
        },
        "id": "40CM0eOvghnd",
        "outputId": "189d6885-9772-4ac1-ee29-d387b6fa0139"
      },
      "execution_count": 8,
      "outputs": [
        {
          "output_type": "display_data",
          "data": {
            "text/plain": [
              "model.safetensors:   0%|          | 0.00/49.3M [00:00<?, ?B/s]"
            ],
            "application/vnd.jupyter.widget-view+json": {
              "version_major": 2,
              "version_minor": 0,
              "model_id": "c28e82878bdb49b296e284638058f34c"
            }
          },
          "metadata": {}
        },
        {
          "output_type": "stream",
          "name": "stderr",
          "text": [
            "Epoch 1/25 Training: 100%|██████████| 62/62 [00:44<00:00,  1.40batch/s, loss=1.32]\n"
          ]
        },
        {
          "output_type": "stream",
          "name": "stdout",
          "text": [
            "Epoch 1/25 completed in 44.42 seconds.\n",
            "Epoch Loss: 2.078788741942375\n",
            "Train Accuracy: 0.76%\n"
          ]
        },
        {
          "output_type": "stream",
          "name": "stderr",
          "text": []
        },
        {
          "output_type": "stream",
          "name": "stdout",
          "text": [
            "Epoch 1/25 Validation Accuracy: 81.48%\n"
          ]
        },
        {
          "output_type": "stream",
          "name": "stderr",
          "text": [
            "Epoch 2/25 Training: 100%|██████████| 62/62 [00:38<00:00,  1.62batch/s, loss=1.48]\n"
          ]
        },
        {
          "output_type": "stream",
          "name": "stdout",
          "text": [
            "Epoch 2/25 completed in 38.37 seconds.\n",
            "Epoch Loss: 1.133442614347704\n",
            "Train Accuracy: 0.88%\n"
          ]
        },
        {
          "output_type": "stream",
          "name": "stderr",
          "text": []
        },
        {
          "output_type": "stream",
          "name": "stdout",
          "text": [
            "Epoch 2/25 Validation Accuracy: 86.77%\n"
          ]
        },
        {
          "output_type": "stream",
          "name": "stderr",
          "text": [
            "Epoch 3/25 Training: 100%|██████████| 62/62 [00:39<00:00,  1.56batch/s, loss=0.43]\n"
          ]
        },
        {
          "output_type": "stream",
          "name": "stdout",
          "text": [
            "Epoch 3/25 completed in 39.70 seconds.\n",
            "Epoch Loss: 0.453607042470286\n",
            "Train Accuracy: 0.96%\n"
          ]
        },
        {
          "output_type": "stream",
          "name": "stderr",
          "text": []
        },
        {
          "output_type": "stream",
          "name": "stdout",
          "text": [
            "Epoch 3/25 Validation Accuracy: 86.90%\n"
          ]
        },
        {
          "output_type": "stream",
          "name": "stderr",
          "text": [
            "Epoch 4/25 Training: 100%|██████████| 62/62 [00:38<00:00,  1.60batch/s, loss=0.292]\n"
          ]
        },
        {
          "output_type": "stream",
          "name": "stdout",
          "text": [
            "Epoch 4/25 completed in 38.77 seconds.\n",
            "Epoch Loss: 0.1499381915576035\n",
            "Train Accuracy: 0.99%\n"
          ]
        },
        {
          "output_type": "stream",
          "name": "stderr",
          "text": []
        },
        {
          "output_type": "stream",
          "name": "stdout",
          "text": [
            "Epoch 4/25 Validation Accuracy: 87.17%\n"
          ]
        },
        {
          "output_type": "stream",
          "name": "stderr",
          "text": [
            "Epoch 5/25 Training: 100%|██████████| 62/62 [00:38<00:00,  1.59batch/s, loss=0.0242]\n"
          ]
        },
        {
          "output_type": "stream",
          "name": "stdout",
          "text": [
            "Epoch 5/25 completed in 38.96 seconds.\n",
            "Epoch Loss: 0.06044518630651216\n",
            "Train Accuracy: 1.00%\n"
          ]
        },
        {
          "output_type": "stream",
          "name": "stderr",
          "text": []
        },
        {
          "output_type": "stream",
          "name": "stdout",
          "text": [
            "Epoch 5/25 Validation Accuracy: 87.04%\n"
          ]
        },
        {
          "output_type": "stream",
          "name": "stderr",
          "text": [
            "Epoch 6/25 Training: 100%|██████████| 62/62 [00:38<00:00,  1.59batch/s, loss=0.0272]\n"
          ]
        },
        {
          "output_type": "stream",
          "name": "stdout",
          "text": [
            "Epoch 6/25 completed in 38.97 seconds.\n",
            "Epoch Loss: 0.028580284414572582\n",
            "Train Accuracy: 1.00%\n"
          ]
        },
        {
          "output_type": "stream",
          "name": "stderr",
          "text": []
        },
        {
          "output_type": "stream",
          "name": "stdout",
          "text": [
            "Epoch 6/25 Validation Accuracy: 86.51%\n"
          ]
        },
        {
          "output_type": "stream",
          "name": "stderr",
          "text": [
            "Epoch 7/25 Training: 100%|██████████| 62/62 [00:39<00:00,  1.57batch/s, loss=0.00953]\n"
          ]
        },
        {
          "output_type": "stream",
          "name": "stdout",
          "text": [
            "Epoch 7/25 completed in 39.51 seconds.\n",
            "Epoch Loss: 0.02149102067004048\n",
            "Train Accuracy: 1.00%\n"
          ]
        },
        {
          "output_type": "stream",
          "name": "stderr",
          "text": []
        },
        {
          "output_type": "stream",
          "name": "stdout",
          "text": [
            "Epoch 7/25 Validation Accuracy: 87.83%\n"
          ]
        },
        {
          "output_type": "stream",
          "name": "stderr",
          "text": [
            "Epoch 8/25 Training: 100%|██████████| 62/62 [00:39<00:00,  1.58batch/s, loss=0.0113]\n"
          ]
        },
        {
          "output_type": "stream",
          "name": "stdout",
          "text": [
            "Epoch 8/25 completed in 39.14 seconds.\n",
            "Epoch Loss: 0.021671304813466005\n",
            "Train Accuracy: 1.00%\n"
          ]
        },
        {
          "output_type": "stream",
          "name": "stderr",
          "text": []
        },
        {
          "output_type": "stream",
          "name": "stdout",
          "text": [
            "Epoch 8/25 Validation Accuracy: 87.17%\n"
          ]
        },
        {
          "output_type": "stream",
          "name": "stderr",
          "text": [
            "Epoch 9/25 Training: 100%|██████████| 62/62 [00:39<00:00,  1.55batch/s, loss=0.0144]\n"
          ]
        },
        {
          "output_type": "stream",
          "name": "stdout",
          "text": [
            "Epoch 9/25 completed in 39.98 seconds.\n",
            "Epoch Loss: 0.03005910854816677\n",
            "Train Accuracy: 1.00%\n"
          ]
        },
        {
          "output_type": "stream",
          "name": "stderr",
          "text": []
        },
        {
          "output_type": "stream",
          "name": "stdout",
          "text": [
            "Epoch 9/25 Validation Accuracy: 86.38%\n"
          ]
        },
        {
          "output_type": "stream",
          "name": "stderr",
          "text": [
            "Epoch 10/25 Training: 100%|██████████| 62/62 [00:39<00:00,  1.59batch/s, loss=0.00459]\n"
          ]
        },
        {
          "output_type": "stream",
          "name": "stdout",
          "text": [
            "Epoch 10/25 completed in 39.11 seconds.\n",
            "Epoch Loss: 0.02386455124078859\n",
            "Train Accuracy: 1.00%\n"
          ]
        },
        {
          "output_type": "stream",
          "name": "stderr",
          "text": []
        },
        {
          "output_type": "stream",
          "name": "stdout",
          "text": [
            "Epoch 10/25 Validation Accuracy: 86.51%\n"
          ]
        },
        {
          "output_type": "stream",
          "name": "stderr",
          "text": [
            "Epoch 11/25 Training: 100%|██████████| 62/62 [00:39<00:00,  1.57batch/s, loss=0.115]\n"
          ]
        },
        {
          "output_type": "stream",
          "name": "stdout",
          "text": [
            "Epoch 11/25 completed in 39.48 seconds.\n",
            "Epoch Loss: 0.06297004362192726\n",
            "Train Accuracy: 1.00%\n"
          ]
        },
        {
          "output_type": "stream",
          "name": "stderr",
          "text": []
        },
        {
          "output_type": "stream",
          "name": "stdout",
          "text": [
            "Epoch 11/25 Validation Accuracy: 86.24%\n"
          ]
        },
        {
          "output_type": "stream",
          "name": "stderr",
          "text": [
            "Epoch 12/25 Training: 100%|██████████| 62/62 [00:38<00:00,  1.59batch/s, loss=0.00998]\n"
          ]
        },
        {
          "output_type": "stream",
          "name": "stdout",
          "text": [
            "Epoch 12/25 completed in 38.94 seconds.\n",
            "Epoch Loss: 0.02864809392861301\n",
            "Train Accuracy: 1.00%\n"
          ]
        },
        {
          "output_type": "stream",
          "name": "stderr",
          "text": []
        },
        {
          "output_type": "stream",
          "name": "stdout",
          "text": [
            "Epoch 12/25 Validation Accuracy: 87.30%\n"
          ]
        },
        {
          "output_type": "stream",
          "name": "stderr",
          "text": [
            "Epoch 13/25 Training: 100%|██████████| 62/62 [00:39<00:00,  1.58batch/s, loss=0.00867]\n"
          ]
        },
        {
          "output_type": "stream",
          "name": "stdout",
          "text": [
            "Epoch 13/25 completed in 39.21 seconds.\n",
            "Epoch Loss: 0.014977810833032333\n",
            "Train Accuracy: 1.00%\n"
          ]
        },
        {
          "output_type": "stream",
          "name": "stderr",
          "text": []
        },
        {
          "output_type": "stream",
          "name": "stdout",
          "text": [
            "Epoch 13/25 Validation Accuracy: 87.17%\n"
          ]
        },
        {
          "output_type": "stream",
          "name": "stderr",
          "text": [
            "Epoch 14/25 Training: 100%|██████████| 62/62 [00:39<00:00,  1.57batch/s, loss=0.00536]\n"
          ]
        },
        {
          "output_type": "stream",
          "name": "stdout",
          "text": [
            "Epoch 14/25 completed in 39.41 seconds.\n",
            "Epoch Loss: 0.018972905575215155\n",
            "Train Accuracy: 1.00%\n"
          ]
        },
        {
          "output_type": "stream",
          "name": "stderr",
          "text": []
        },
        {
          "output_type": "stream",
          "name": "stdout",
          "text": [
            "Epoch 14/25 Validation Accuracy: 87.30%\n"
          ]
        },
        {
          "output_type": "stream",
          "name": "stderr",
          "text": [
            "Epoch 15/25 Training: 100%|██████████| 62/62 [00:39<00:00,  1.57batch/s, loss=0.113]\n"
          ]
        },
        {
          "output_type": "stream",
          "name": "stdout",
          "text": [
            "Epoch 15/25 completed in 39.56 seconds.\n",
            "Epoch Loss: 0.014928443019368475\n",
            "Train Accuracy: 1.00%\n"
          ]
        },
        {
          "output_type": "stream",
          "name": "stderr",
          "text": []
        },
        {
          "output_type": "stream",
          "name": "stdout",
          "text": [
            "Epoch 15/25 Validation Accuracy: 87.04%\n"
          ]
        },
        {
          "output_type": "stream",
          "name": "stderr",
          "text": [
            "Epoch 16/25 Training: 100%|██████████| 62/62 [00:40<00:00,  1.55batch/s, loss=0.0351]\n"
          ]
        },
        {
          "output_type": "stream",
          "name": "stdout",
          "text": [
            "Epoch 16/25 completed in 40.04 seconds.\n",
            "Epoch Loss: 0.010181998895976933\n",
            "Train Accuracy: 1.00%\n"
          ]
        },
        {
          "output_type": "stream",
          "name": "stderr",
          "text": []
        },
        {
          "output_type": "stream",
          "name": "stdout",
          "text": [
            "Epoch 16/25 Validation Accuracy: 85.71%\n"
          ]
        },
        {
          "output_type": "stream",
          "name": "stderr",
          "text": [
            "Epoch 17/25 Training: 100%|██████████| 62/62 [00:39<00:00,  1.59batch/s, loss=0.0395]\n"
          ]
        },
        {
          "output_type": "stream",
          "name": "stdout",
          "text": [
            "Epoch 17/25 completed in 39.12 seconds.\n",
            "Epoch Loss: 0.014256008399365049\n",
            "Train Accuracy: 1.00%\n"
          ]
        },
        {
          "output_type": "stream",
          "name": "stderr",
          "text": []
        },
        {
          "output_type": "stream",
          "name": "stdout",
          "text": [
            "Epoch 17/25 Validation Accuracy: 85.98%\n"
          ]
        },
        {
          "output_type": "stream",
          "name": "stderr",
          "text": [
            "Epoch 18/25 Training: 100%|██████████| 62/62 [00:39<00:00,  1.57batch/s, loss=0.00194]\n"
          ]
        },
        {
          "output_type": "stream",
          "name": "stdout",
          "text": [
            "Epoch 18/25 completed in 39.51 seconds.\n",
            "Epoch Loss: 0.006450569128520006\n",
            "Train Accuracy: 1.00%\n"
          ]
        },
        {
          "output_type": "stream",
          "name": "stderr",
          "text": []
        },
        {
          "output_type": "stream",
          "name": "stdout",
          "text": [
            "Epoch 18/25 Validation Accuracy: 86.24%\n"
          ]
        },
        {
          "output_type": "stream",
          "name": "stderr",
          "text": [
            "Epoch 19/25 Training: 100%|██████████| 62/62 [00:39<00:00,  1.59batch/s, loss=0.000347]\n"
          ]
        },
        {
          "output_type": "stream",
          "name": "stdout",
          "text": [
            "Epoch 19/25 completed in 39.04 seconds.\n",
            "Epoch Loss: 0.013725058100516758\n",
            "Train Accuracy: 1.00%\n"
          ]
        },
        {
          "output_type": "stream",
          "name": "stderr",
          "text": []
        },
        {
          "output_type": "stream",
          "name": "stdout",
          "text": [
            "Epoch 19/25 Validation Accuracy: 85.85%\n"
          ]
        },
        {
          "output_type": "stream",
          "name": "stderr",
          "text": [
            "Epoch 20/25 Training: 100%|██████████| 62/62 [00:39<00:00,  1.56batch/s, loss=0.0015]\n"
          ]
        },
        {
          "output_type": "stream",
          "name": "stdout",
          "text": [
            "Epoch 20/25 completed in 39.71 seconds.\n",
            "Epoch Loss: 0.017761112399204002\n",
            "Train Accuracy: 1.00%\n"
          ]
        },
        {
          "output_type": "stream",
          "name": "stderr",
          "text": []
        },
        {
          "output_type": "stream",
          "name": "stdout",
          "text": [
            "Epoch 20/25 Validation Accuracy: 86.11%\n"
          ]
        },
        {
          "output_type": "stream",
          "name": "stderr",
          "text": [
            "Epoch 21/25 Training: 100%|██████████| 62/62 [00:38<00:00,  1.59batch/s, loss=0.00786]\n"
          ]
        },
        {
          "output_type": "stream",
          "name": "stdout",
          "text": [
            "Epoch 21/25 completed in 38.93 seconds.\n",
            "Epoch Loss: 0.014164079037014275\n",
            "Train Accuracy: 1.00%\n"
          ]
        },
        {
          "output_type": "stream",
          "name": "stderr",
          "text": []
        },
        {
          "output_type": "stream",
          "name": "stdout",
          "text": [
            "Epoch 21/25 Validation Accuracy: 85.58%\n"
          ]
        },
        {
          "output_type": "stream",
          "name": "stderr",
          "text": [
            "Epoch 22/25 Training: 100%|██████████| 62/62 [00:38<00:00,  1.60batch/s, loss=0.0196]\n"
          ]
        },
        {
          "output_type": "stream",
          "name": "stdout",
          "text": [
            "Epoch 22/25 completed in 38.78 seconds.\n",
            "Epoch Loss: 0.004124367827429406\n",
            "Train Accuracy: 1.00%\n"
          ]
        },
        {
          "output_type": "stream",
          "name": "stderr",
          "text": []
        },
        {
          "output_type": "stream",
          "name": "stdout",
          "text": [
            "Epoch 22/25 Validation Accuracy: 86.51%\n"
          ]
        },
        {
          "output_type": "stream",
          "name": "stderr",
          "text": [
            "Epoch 23/25 Training: 100%|██████████| 62/62 [00:39<00:00,  1.58batch/s, loss=0.00106]\n"
          ]
        },
        {
          "output_type": "stream",
          "name": "stdout",
          "text": [
            "Epoch 23/25 completed in 39.26 seconds.\n",
            "Epoch Loss: 0.00620220389100723\n",
            "Train Accuracy: 1.00%\n"
          ]
        },
        {
          "output_type": "stream",
          "name": "stderr",
          "text": []
        },
        {
          "output_type": "stream",
          "name": "stdout",
          "text": [
            "Epoch 23/25 Validation Accuracy: 85.98%\n"
          ]
        },
        {
          "output_type": "stream",
          "name": "stderr",
          "text": [
            "Epoch 24/25 Training: 100%|██████████| 62/62 [00:38<00:00,  1.59batch/s, loss=0.000959]\n"
          ]
        },
        {
          "output_type": "stream",
          "name": "stdout",
          "text": [
            "Epoch 24/25 completed in 38.89 seconds.\n",
            "Epoch Loss: 0.005020362868127713\n",
            "Train Accuracy: 1.00%\n"
          ]
        },
        {
          "output_type": "stream",
          "name": "stderr",
          "text": []
        },
        {
          "output_type": "stream",
          "name": "stdout",
          "text": [
            "Epoch 24/25 Validation Accuracy: 85.85%\n"
          ]
        },
        {
          "output_type": "stream",
          "name": "stderr",
          "text": [
            "Epoch 25/25 Training: 100%|██████████| 62/62 [00:39<00:00,  1.59batch/s, loss=0.00197]\n"
          ]
        },
        {
          "output_type": "stream",
          "name": "stdout",
          "text": [
            "Epoch 25/25 completed in 39.03 seconds.\n",
            "Epoch Loss: 0.006793287694886056\n",
            "Train Accuracy: 1.00%\n"
          ]
        },
        {
          "output_type": "stream",
          "name": "stderr",
          "text": []
        },
        {
          "output_type": "stream",
          "name": "stdout",
          "text": [
            "Epoch 25/25 Validation Accuracy: 85.98%\n",
            "\n",
            "Total Training Time: 1056.50 seconds (17.61 minutes)\n",
            "Test Accuracy: 87.06%\n"
          ]
        }
      ]
    },
    {
      "cell_type": "code",
      "source": [
        "# Define aesthetic categories\n",
        "aesthetic_categories = [\"Balance\", \"Color Harmony\", \"Depth & Perspective\", \"Texture & Brushwork\"]\n",
        "\n",
        "# Set the model to evaluation mode\n",
        "efficientnet_model.eval()\n",
        "\n",
        "# Initialize variables to hold predictions and ground truths\n",
        "all_predictions = []\n",
        "all_labels = []\n",
        "\n",
        "# Iterate over the test dataset\n",
        "with torch.no_grad():\n",
        "    for images, labels in test_loader:\n",
        "        images, labels = images.to(device), labels.to(device)\n",
        "\n",
        "        # Forward pass through the model\n",
        "        balance, color_harmony, depth_perspective, texture_brushwork = efficientnet_model(images)\n",
        "\n",
        "        # Convert logits to probabilities using sigmoid\n",
        "        predictions_balance = torch.sigmoid(balance)\n",
        "        predictions_color_harmony = torch.sigmoid(color_harmony)\n",
        "        predictions_depth_perspective = torch.sigmoid(depth_perspective)\n",
        "        predictions_texture_brushwork = torch.sigmoid(texture_brushwork)\n",
        "\n",
        "        # Binarize predictions (thresholding at 0.5)\n",
        "        predicted_labels_balance = (predictions_balance > 0.5).float()\n",
        "        predicted_labels_color_harmony = (predictions_color_harmony > 0.5).float()\n",
        "        predicted_labels_depth_perspective = (predictions_depth_perspective > 0.5).float()\n",
        "        predicted_labels_texture_brushwork = (predictions_texture_brushwork > 0.5).float()\n",
        "\n",
        "        # Concatenate the predictions for all categories (multi-label classification)\n",
        "        all_predictions.append(torch.cat((predicted_labels_balance, predicted_labels_color_harmony,\n",
        "                                          predicted_labels_depth_perspective, predicted_labels_texture_brushwork), dim=1))\n",
        "        all_labels.append(labels)\n",
        "\n",
        "# Convert the lists to tensors\n",
        "all_predictions = torch.cat(all_predictions, dim=0).cpu().numpy()\n",
        "all_labels = torch.cat(all_labels, dim=0).cpu().numpy()\n",
        "\n",
        "# Calculate accuracy\n",
        "accuracy = (all_predictions == all_labels).sum() / all_labels.size\n",
        "\n",
        "# Calculate Precision, Recall, and F1-Score (using 'samples' average for multi-label)\n",
        "precision = precision_score(all_labels, all_predictions, average='samples')\n",
        "recall = recall_score(all_labels, all_predictions, average='samples')\n",
        "f1 = f1_score(all_labels, all_predictions, average='samples')\n",
        "\n",
        "# Generate Multi-label Confusion Matrix (for each class)\n",
        "mcm = multilabel_confusion_matrix(all_labels, all_predictions)\n",
        "\n",
        "# Plot the confusion matrix\n",
        "fig, axes = plt.subplots(2, 2, figsize=(12, 10))\n",
        "for i, ax in enumerate(axes.flatten()):\n",
        "    sns.heatmap(mcm[i], annot=True, fmt='d', cmap='Blues', xticklabels=['Pred Negative', 'Pred Positive'],\n",
        "                yticklabels=['True Negative', 'True Positive'], ax=ax)\n",
        "    ax.set_title(f'Confusion Matrix for {aesthetic_categories[i]}')\n",
        "\n",
        "plt.tight_layout()\n",
        "plt.show()\n",
        "\n",
        "# Display the evaluation metrics\n",
        "print(f\"Test Accuracy: {accuracy * 100:.2f}%\")\n",
        "print(f\"Precision: {precision * 100:.2f}%\")\n",
        "print(f\"Recall: {recall * 100:.2f}%\")\n",
        "print(f\"F1-Score: {f1 * 100:.2f}%\")\n",
        "\n"
      ],
      "metadata": {
        "colab": {
          "base_uri": "https://localhost:8080/",
          "height": 1000
        },
        "id": "hQSzTsxsmYGX",
        "outputId": "437e0674-9ea1-470f-ea6c-ce380ccc5050"
      },
      "execution_count": 9,
      "outputs": [
        {
          "output_type": "stream",
          "name": "stderr",
          "text": [
            "/usr/local/lib/python3.11/dist-packages/sklearn/metrics/_classification.py:1565: UndefinedMetricWarning: Precision is ill-defined and being set to 0.0 in samples with no predicted labels. Use `zero_division` parameter to control this behavior.\n",
            "  _warn_prf(average, modifier, f\"{metric.capitalize()} is\", len(result))\n"
          ]
        },
        {
          "output_type": "display_data",
          "data": {
            "text/plain": [
              "<Figure size 1200x1000 with 8 Axes>"
            ],
            "image/png": "[encoded data removed]"
          },
          "metadata": {}
        },
        {
          "output_type": "stream",
          "name": "stdout",
          "text": [
            "Test Accuracy: 87.06%\n",
            "Precision: 69.85%\n",
            "Recall: 69.85%\n",
            "F1-Score: 69.85%\n"
          ]
        }
      ]
    },
    {
      "cell_type": "code",
      "source": [
        "import torch\n",
        "import torch.nn as nn\n",
        "import torch.optim as optim\n",
        "import torchvision.models as models\n",
        "import torch.nn.functional as F\n",
        "from torch.utils.data import DataLoader\n",
        "import time\n",
        "from tqdm import tqdm\n",
        "from PIL import Image\n",
        "from torchvision import datasets, transforms\n",
        "from torch.cuda.amp import autocast, GradScaler\n",
        "\n",
        "# Define model based on AlexNet with custom heads for the 4 aesthetic classes\n",
        "class AestheticModelWithAlexNet(nn.Module):\n",
        "    def __init__(self, num_classes=4):\n",
        "        super(AestheticModelWithAlexNet, self).__init__()\n",
        "        # Load pre-trained AlexNet model\n",
        "        self.alexnet = models.alexnet(pretrained=True)\n",
        "\n",
        "        # Get the input features from AlexNet's final fully connected layer\n",
        "        in_features = self.alexnet.classifier[6].in_features\n",
        "        self.alexnet.classifier[6] = nn.Identity()  # Remove the original head to add custom heads\n",
        "\n",
        "        # Custom heads for each of the 4 aesthetic categories\n",
        "        self.balance_head = nn.Sequential(\n",
        "            nn.Linear(in_features, 128),\n",
        "            nn.ReLU(),\n",
        "            nn.Linear(128, 1)  # Output for Balance class\n",
        "        )\n",
        "\n",
        "        self.color_harmony_head = nn.Sequential(\n",
        "            nn.Linear(in_features, 128),\n",
        "            nn.ReLU(),\n",
        "            nn.Linear(128, 1)  # Output for Color Harmony class\n",
        "        )\n",
        "\n",
        "        self.depth_perspective_head = nn.Sequential(\n",
        "            nn.Linear(in_features, 128),\n",
        "            nn.ReLU(),\n",
        "            nn.Linear(128, 1)  # Output for Depth & Perspective class\n",
        "        )\n",
        "\n",
        "        self.texture_brushwork_head = nn.Sequential(\n",
        "            nn.Linear(in_features, 128),\n",
        "            nn.ReLU(),\n",
        "            nn.Linear(128, 1)  # Output for Texture & Brushwork class\n",
        "        )\n",
        "\n",
        "    def forward(self, x):\n",
        "        # Forward pass through AlexNet\n",
        "        features = self.alexnet(x)\n",
        "\n",
        "        # Get the output from each custom head\n",
        "        balance = self.balance_head(features)\n",
        "        color_harmony = self.color_harmony_head(features)\n",
        "        depth_perspective = self.depth_perspective_head(features)\n",
        "        texture_brushwork = self.texture_brushwork_head(features)\n",
        "\n",
        "        return balance, color_harmony, depth_perspective, texture_brushwork\n",
        "\n",
        "\n",
        "# Initialize model, loss function, and optimizer\n",
        "alexnet_model = AestheticModelWithAlexNet(num_classes=4).to(device)\n",
        "criterion = nn.BCEWithLogitsLoss()  # Suitable for multi-label classification\n",
        "\n",
        "# Use AdamW optimizer for better regularization (weight decay) and improved performance\n",
        "optimizer = optim.AdamW(alexnet_model.parameters(), lr=1e-4, weight_decay=1e-5)\n",
        "\n",
        "# Learning rate scheduler (reduce learning rate when validation loss plateaus)\n",
        "scheduler = optim.lr_scheduler.ReduceLROnPlateau(optimizer, 'min', patience=3, factor=0.5)\n",
        "\n",
        "# Training loop with progress bar and time tracking\n",
        "num_epochs = 25\n",
        "start_time = time.time()  # Start time for total training\n",
        "\n",
        "for epoch in range(num_epochs):\n",
        "    alexnet_model.train()\n",
        "    running_loss = 0.0\n",
        "    correct_train = 0\n",
        "    total_train = 0\n",
        "    epoch_start_time = time.time()  # Start time for this epoch\n",
        "\n",
        "    # Initialize tqdm progress bar\n",
        "    with tqdm(train_loader, desc=f\"Epoch {epoch+1}/{num_epochs} Training\", unit=\"batch\") as tepoch:\n",
        "        for images, labels in tepoch:\n",
        "            images, labels = images.to(device), labels.to(device)\n",
        "\n",
        "            optimizer.zero_grad()\n",
        "\n",
        "            # Forward pass\n",
        "            balance, color_harmony, depth_perspective, texture_brushwork = alexnet_model(images)\n",
        "\n",
        "            # Calculate loss for each output (balance, color harmony, etc.)\n",
        "            loss_balance = criterion(balance.squeeze(), labels[:, 0])\n",
        "            loss_color_harmony = criterion(color_harmony.squeeze(), labels[:, 1])\n",
        "            loss_depth_perspective = criterion(depth_perspective.squeeze(), labels[:, 2])\n",
        "            loss_texture_brushwork = criterion(texture_brushwork.squeeze(), labels[:, 3])\n",
        "\n",
        "            # Total loss is the sum of all losses\n",
        "            total_loss = loss_balance + loss_color_harmony + loss_depth_perspective + loss_texture_brushwork\n",
        "            total_loss.backward()\n",
        "            optimizer.step()\n",
        "\n",
        "            running_loss += total_loss.item()\n",
        "\n",
        "            # Update accuracy\n",
        "            predictions = torch.cat([\n",
        "                torch.sigmoid(balance),\n",
        "                torch.sigmoid(color_harmony),\n",
        "                torch.sigmoid(depth_perspective),\n",
        "                torch.sigmoid(texture_brushwork)\n",
        "            ], dim=1)\n",
        "\n",
        "            # Binarize predictions (thresholding at 0.5)\n",
        "            predicted_labels = (predictions > 0.5).float()\n",
        "\n",
        "            # Compare predicted labels with the ground truth labels\n",
        "            correct_train += (predicted_labels == labels).sum().item()\n",
        "            total_train += labels.size(0) * labels.size(1)  # Total labels for all 4 categories\n",
        "\n",
        "            # Update the progress bar with loss information\n",
        "            tepoch.set_postfix(loss=total_loss.item())\n",
        "\n",
        "    epoch_end_time = time.time()  # End time for this epoch\n",
        "    epoch_duration = epoch_end_time - epoch_start_time  # Duration of the epoch\n",
        "    print(f\"Epoch {epoch+1}/{num_epochs} completed in {epoch_duration:.2f} seconds.\")\n",
        "    print(f\"Epoch Loss: {running_loss / len(train_loader)}\")\n",
        "    print(f\"Train Accuracy: {correct_train / total_train:.2f}%\")\n",
        "\n",
        "    # Validation phase\n",
        "    alexnet_model.eval()\n",
        "    correct_val = 0\n",
        "    total_val = 0\n",
        "    with torch.no_grad():\n",
        "        for images, labels in tqdm(val_loader, desc=f\"Epoch {epoch+1}/{num_epochs} Validation\", leave=False):\n",
        "            images, labels = images.to(device), labels.to(device)\n",
        "            balance, color_harmony, depth_perspective, texture_brushwork = alexnet_model(images)\n",
        "\n",
        "            # Convert logits to probabilities (using sigmoid)\n",
        "            predictions_balance = torch.sigmoid(balance)\n",
        "            predictions_color_harmony = torch.sigmoid(color_harmony)\n",
        "            predictions_depth_perspective = torch.sigmoid(depth_perspective)\n",
        "            predictions_texture_brushwork = torch.sigmoid(texture_brushwork)\n",
        "\n",
        "            # Compare predictions to actual labels\n",
        "            predicted_labels_balance = (predictions_balance > 0.5).float()\n",
        "            predicted_labels_color_harmony = (predictions_color_harmony > 0.5).float()\n",
        "            predicted_labels_depth_perspective = (predictions_depth_perspective > 0.5).float()\n",
        "            predicted_labels_texture_brushwork = (predictions_texture_brushwork > 0.5).float()\n",
        "\n",
        "            correct_val += (predicted_labels_balance == labels[:, 0].unsqueeze(1)).sum().item()\n",
        "            correct_val += (predicted_labels_color_harmony == labels[:, 1].unsqueeze(1)).sum().item()\n",
        "            correct_val += (predicted_labels_depth_perspective == labels[:, 2].unsqueeze(1)).sum().item()\n",
        "            correct_val += (predicted_labels_texture_brushwork == labels[:, 3].unsqueeze(1)).sum().item()\n",
        "            total_val += labels.size(0) * 4  # Total labels for all 4 categories\n",
        "\n",
        "    val_accuracy = correct_val / total_val\n",
        "    print(f\"Epoch {epoch+1}/{num_epochs} Validation Accuracy: {val_accuracy * 100:.2f}%\")\n",
        "\n",
        "    # Step the learning rate scheduler\n",
        "    scheduler.step(running_loss)\n",
        "\n",
        "# Total time for training\n",
        "total_training_time = time.time() - start_time\n",
        "print(f\"\\nTotal Training Time: {total_training_time:.2f} seconds ({(total_training_time / 60):.2f} minutes)\")\n",
        "\n",
        "# Test Accuracy Evaluation\n",
        "correct_test = 0\n",
        "total_test = 0\n",
        "with torch.no_grad():\n",
        "    for images, labels in test_loader:\n",
        "        images, labels = images.to(device), labels.to(device)\n",
        "        balance, color_harmony, depth_perspective, texture_brushwork = alexnet_model(images)\n",
        "\n",
        "        # Convert logits to probabilities\n",
        "        predictions = torch.cat([\n",
        "            torch.sigmoid(balance),\n",
        "            torch.sigmoid(color_harmony),\n",
        "            torch.sigmoid(depth_perspective),\n",
        "            torch.sigmoid(texture_brushwork)\n",
        "        ], dim=1)\n",
        "\n",
        "        # Binarize predictions (threshold = 0.5)\n",
        "        predicted_labels = (predictions > 0.5).float()\n",
        "\n",
        "        # Compute accuracy\n",
        "        correct_test += (predicted_labels == labels).sum().item()\n",
        "        total_test += labels.numel()\n",
        "\n",
        "# Compute final test accuracy\n",
        "test_accuracy = correct_test / total_test * 100\n",
        "\n",
        "# Display results\n",
        "print(f\"Test Accuracy: {test_accuracy:.2f}%\")\n"
      ],
      "metadata": {
        "colab": {
          "base_uri": "https://localhost:8080/"
        },
        "id": "k98eGtLHmhbW",
        "outputId": "190e9a0f-f789-4d0f-e9a9-fa5144c78fa3"
      },
      "execution_count": 10,
      "outputs": [
        {
          "output_type": "stream",
          "name": "stderr",
          "text": [
            "/usr/local/lib/python3.11/dist-packages/torchvision/models/_utils.py:208: UserWarning: The parameter 'pretrained' is deprecated since 0.13 and may be removed in the future, please use 'weights' instead.\n",
            "  warnings.warn(\n",
            "/usr/local/lib/python3.11/dist-packages/torchvision/models/_utils.py:223: UserWarning: Arguments other than a weight enum or `None` for 'weights' are deprecated since 0.13 and may be removed in the future. The current behavior is equivalent to passing `weights=AlexNet_Weights.IMAGENET1K_V1`. You can also use `weights=AlexNet_Weights.DEFAULT` to get the most up-to-date weights.\n",
            "  warnings.warn(msg)\n",
            "Downloading: \"https://download.pytorch.org/models/alexnet-owt-7be5be79.pth\" to /root/.cache/torch/hub/checkpoints/alexnet-owt-7be5be79.pth\n",
            "100%|██████████| 233M/233M [00:01<00:00, 132MB/s]\n",
            "Epoch 1/25 Training: 100%|██████████| 62/62 [00:23<00:00,  2.59batch/s, loss=1.45]\n"
          ]
        },
        {
          "output_type": "stream",
          "name": "stdout",
          "text": [
            "Epoch 1/25 completed in 23.90 seconds.\n",
            "Epoch Loss: 1.654602789109753\n",
            "Train Accuracy: 0.81%\n"
          ]
        },
        {
          "output_type": "stream",
          "name": "stderr",
          "text": []
        },
        {
          "output_type": "stream",
          "name": "stdout",
          "text": [
            "Epoch 1/25 Validation Accuracy: 77.91%\n"
          ]
        },
        {
          "output_type": "stream",
          "name": "stderr",
          "text": [
            "Epoch 2/25 Training: 100%|██████████| 62/62 [00:24<00:00,  2.54batch/s, loss=1.28]\n"
          ]
        },
        {
          "output_type": "stream",
          "name": "stdout",
          "text": [
            "Epoch 2/25 completed in 24.45 seconds.\n",
            "Epoch Loss: 0.912772056556517\n",
            "Train Accuracy: 0.91%\n"
          ]
        },
        {
          "output_type": "stream",
          "name": "stderr",
          "text": []
        },
        {
          "output_type": "stream",
          "name": "stdout",
          "text": [
            "Epoch 2/25 Validation Accuracy: 80.03%\n"
          ]
        },
        {
          "output_type": "stream",
          "name": "stderr",
          "text": [
            "Epoch 3/25 Training: 100%|██████████| 62/62 [00:23<00:00,  2.59batch/s, loss=0.222]\n"
          ]
        },
        {
          "output_type": "stream",
          "name": "stdout",
          "text": [
            "Epoch 3/25 completed in 23.95 seconds.\n",
            "Epoch Loss: 0.5187990583719746\n",
            "Train Accuracy: 0.95%\n"
          ]
        },
        {
          "output_type": "stream",
          "name": "stderr",
          "text": []
        },
        {
          "output_type": "stream",
          "name": "stdout",
          "text": [
            "Epoch 3/25 Validation Accuracy: 83.60%\n"
          ]
        },
        {
          "output_type": "stream",
          "name": "stderr",
          "text": [
            "Epoch 4/25 Training: 100%|██████████| 62/62 [00:23<00:00,  2.61batch/s, loss=0.256]\n"
          ]
        },
        {
          "output_type": "stream",
          "name": "stdout",
          "text": [
            "Epoch 4/25 completed in 23.71 seconds.\n",
            "Epoch Loss: 0.21617062299722625\n",
            "Train Accuracy: 0.98%\n"
          ]
        },
        {
          "output_type": "stream",
          "name": "stderr",
          "text": []
        },
        {
          "output_type": "stream",
          "name": "stdout",
          "text": [
            "Epoch 4/25 Validation Accuracy: 84.39%\n"
          ]
        },
        {
          "output_type": "stream",
          "name": "stderr",
          "text": [
            "Epoch 5/25 Training: 100%|██████████| 62/62 [00:23<00:00,  2.62batch/s, loss=0.181]\n"
          ]
        },
        {
          "output_type": "stream",
          "name": "stdout",
          "text": [
            "Epoch 5/25 completed in 23.66 seconds.\n",
            "Epoch Loss: 0.1943172152124105\n",
            "Train Accuracy: 0.98%\n"
          ]
        },
        {
          "output_type": "stream",
          "name": "stderr",
          "text": []
        },
        {
          "output_type": "stream",
          "name": "stdout",
          "text": [
            "Epoch 5/25 Validation Accuracy: 84.52%\n"
          ]
        },
        {
          "output_type": "stream",
          "name": "stderr",
          "text": [
            "Epoch 6/25 Training: 100%|██████████| 62/62 [00:23<00:00,  2.62batch/s, loss=0.0413]\n"
          ]
        },
        {
          "output_type": "stream",
          "name": "stdout",
          "text": [
            "Epoch 6/25 completed in 23.63 seconds.\n",
            "Epoch Loss: 0.1043814403125115\n",
            "Train Accuracy: 0.99%\n"
          ]
        },
        {
          "output_type": "stream",
          "name": "stderr",
          "text": []
        },
        {
          "output_type": "stream",
          "name": "stdout",
          "text": [
            "Epoch 6/25 Validation Accuracy: 84.13%\n"
          ]
        },
        {
          "output_type": "stream",
          "name": "stderr",
          "text": [
            "Epoch 7/25 Training: 100%|██████████| 62/62 [00:23<00:00,  2.60batch/s, loss=0.0562]\n"
          ]
        },
        {
          "output_type": "stream",
          "name": "stdout",
          "text": [
            "Epoch 7/25 completed in 23.86 seconds.\n",
            "Epoch Loss: 0.07149060946258326\n",
            "Train Accuracy: 0.99%\n"
          ]
        },
        {
          "output_type": "stream",
          "name": "stderr",
          "text": []
        },
        {
          "output_type": "stream",
          "name": "stdout",
          "text": [
            "Epoch 7/25 Validation Accuracy: 83.73%\n"
          ]
        },
        {
          "output_type": "stream",
          "name": "stderr",
          "text": [
            "Epoch 8/25 Training: 100%|██████████| 62/62 [00:23<00:00,  2.63batch/s, loss=0.0225]\n"
          ]
        },
        {
          "output_type": "stream",
          "name": "stdout",
          "text": [
            "Epoch 8/25 completed in 23.60 seconds.\n",
            "Epoch Loss: 0.03697040796114673\n",
            "Train Accuracy: 1.00%\n"
          ]
        },
        {
          "output_type": "stream",
          "name": "stderr",
          "text": []
        },
        {
          "output_type": "stream",
          "name": "stdout",
          "text": [
            "Epoch 8/25 Validation Accuracy: 84.52%\n"
          ]
        },
        {
          "output_type": "stream",
          "name": "stderr",
          "text": [
            "Epoch 9/25 Training: 100%|██████████| 62/62 [00:23<00:00,  2.61batch/s, loss=0.0308]\n"
          ]
        },
        {
          "output_type": "stream",
          "name": "stdout",
          "text": [
            "Epoch 9/25 completed in 23.78 seconds.\n",
            "Epoch Loss: 0.07160242055655427\n",
            "Train Accuracy: 0.99%\n"
          ]
        },
        {
          "output_type": "stream",
          "name": "stderr",
          "text": []
        },
        {
          "output_type": "stream",
          "name": "stdout",
          "text": [
            "Epoch 9/25 Validation Accuracy: 83.60%\n"
          ]
        },
        {
          "output_type": "stream",
          "name": "stderr",
          "text": [
            "Epoch 10/25 Training: 100%|██████████| 62/62 [00:23<00:00,  2.59batch/s, loss=0.0427]\n"
          ]
        },
        {
          "output_type": "stream",
          "name": "stdout",
          "text": [
            "Epoch 10/25 completed in 23.91 seconds.\n",
            "Epoch Loss: 0.09220752225167328\n",
            "Train Accuracy: 0.99%\n"
          ]
        },
        {
          "output_type": "stream",
          "name": "stderr",
          "text": []
        },
        {
          "output_type": "stream",
          "name": "stdout",
          "text": [
            "Epoch 10/25 Validation Accuracy: 83.47%\n"
          ]
        },
        {
          "output_type": "stream",
          "name": "stderr",
          "text": [
            "Epoch 11/25 Training: 100%|██████████| 62/62 [00:24<00:00,  2.54batch/s, loss=0.00367]\n"
          ]
        },
        {
          "output_type": "stream",
          "name": "stdout",
          "text": [
            "Epoch 11/25 completed in 24.45 seconds.\n",
            "Epoch Loss: 0.04298374870596754\n",
            "Train Accuracy: 1.00%\n"
          ]
        },
        {
          "output_type": "stream",
          "name": "stderr",
          "text": []
        },
        {
          "output_type": "stream",
          "name": "stdout",
          "text": [
            "Epoch 11/25 Validation Accuracy: 83.60%\n"
          ]
        },
        {
          "output_type": "stream",
          "name": "stderr",
          "text": [
            "Epoch 12/25 Training: 100%|██████████| 62/62 [00:23<00:00,  2.60batch/s, loss=0.113]\n"
          ]
        },
        {
          "output_type": "stream",
          "name": "stdout",
          "text": [
            "Epoch 12/25 completed in 23.82 seconds.\n",
            "Epoch Loss: 0.14533806196789467\n",
            "Train Accuracy: 0.99%\n"
          ]
        },
        {
          "output_type": "stream",
          "name": "stderr",
          "text": []
        },
        {
          "output_type": "stream",
          "name": "stdout",
          "text": [
            "Epoch 12/25 Validation Accuracy: 85.45%\n"
          ]
        },
        {
          "output_type": "stream",
          "name": "stderr",
          "text": [
            "Epoch 13/25 Training: 100%|██████████| 62/62 [00:23<00:00,  2.62batch/s, loss=0.0302]\n"
          ]
        },
        {
          "output_type": "stream",
          "name": "stdout",
          "text": [
            "Epoch 13/25 completed in 23.64 seconds.\n",
            "Epoch Loss: 0.026186219796786207\n",
            "Train Accuracy: 1.00%\n"
          ]
        },
        {
          "output_type": "stream",
          "name": "stderr",
          "text": []
        },
        {
          "output_type": "stream",
          "name": "stdout",
          "text": [
            "Epoch 13/25 Validation Accuracy: 86.24%\n"
          ]
        },
        {
          "output_type": "stream",
          "name": "stderr",
          "text": [
            "Epoch 14/25 Training: 100%|██████████| 62/62 [00:23<00:00,  2.60batch/s, loss=0.001]\n"
          ]
        },
        {
          "output_type": "stream",
          "name": "stdout",
          "text": [
            "Epoch 14/25 completed in 23.83 seconds.\n",
            "Epoch Loss: 0.006573615136608902\n",
            "Train Accuracy: 1.00%\n"
          ]
        },
        {
          "output_type": "stream",
          "name": "stderr",
          "text": []
        },
        {
          "output_type": "stream",
          "name": "stdout",
          "text": [
            "Epoch 14/25 Validation Accuracy: 86.38%\n"
          ]
        },
        {
          "output_type": "stream",
          "name": "stderr",
          "text": [
            "Epoch 15/25 Training: 100%|██████████| 62/62 [00:23<00:00,  2.64batch/s, loss=0.0023]\n"
          ]
        },
        {
          "output_type": "stream",
          "name": "stdout",
          "text": [
            "Epoch 15/25 completed in 23.48 seconds.\n",
            "Epoch Loss: 0.004056608032119731\n",
            "Train Accuracy: 1.00%\n"
          ]
        },
        {
          "output_type": "stream",
          "name": "stderr",
          "text": []
        },
        {
          "output_type": "stream",
          "name": "stdout",
          "text": [
            "Epoch 15/25 Validation Accuracy: 86.64%\n"
          ]
        },
        {
          "output_type": "stream",
          "name": "stderr",
          "text": [
            "Epoch 16/25 Training: 100%|██████████| 62/62 [00:23<00:00,  2.61batch/s, loss=0.000723]\n"
          ]
        },
        {
          "output_type": "stream",
          "name": "stdout",
          "text": [
            "Epoch 16/25 completed in 23.80 seconds.\n",
            "Epoch Loss: 0.0023840807951919195\n",
            "Train Accuracy: 1.00%\n"
          ]
        },
        {
          "output_type": "stream",
          "name": "stderr",
          "text": []
        },
        {
          "output_type": "stream",
          "name": "stdout",
          "text": [
            "Epoch 16/25 Validation Accuracy: 85.85%\n"
          ]
        },
        {
          "output_type": "stream",
          "name": "stderr",
          "text": [
            "Epoch 17/25 Training: 100%|██████████| 62/62 [00:23<00:00,  2.60batch/s, loss=0.00114]\n"
          ]
        },
        {
          "output_type": "stream",
          "name": "stdout",
          "text": [
            "Epoch 17/25 completed in 23.83 seconds.\n",
            "Epoch Loss: 0.001869197313827763\n",
            "Train Accuracy: 1.00%\n"
          ]
        },
        {
          "output_type": "stream",
          "name": "stderr",
          "text": []
        },
        {
          "output_type": "stream",
          "name": "stdout",
          "text": [
            "Epoch 17/25 Validation Accuracy: 86.11%\n"
          ]
        },
        {
          "output_type": "stream",
          "name": "stderr",
          "text": [
            "Epoch 18/25 Training: 100%|██████████| 62/62 [00:23<00:00,  2.60batch/s, loss=0.000291]\n"
          ]
        },
        {
          "output_type": "stream",
          "name": "stdout",
          "text": [
            "Epoch 18/25 completed in 23.86 seconds.\n",
            "Epoch Loss: 0.0011912846903508198\n",
            "Train Accuracy: 1.00%\n"
          ]
        },
        {
          "output_type": "stream",
          "name": "stderr",
          "text": []
        },
        {
          "output_type": "stream",
          "name": "stdout",
          "text": [
            "Epoch 18/25 Validation Accuracy: 85.98%\n"
          ]
        },
        {
          "output_type": "stream",
          "name": "stderr",
          "text": [
            "Epoch 19/25 Training: 100%|██████████| 62/62 [00:23<00:00,  2.60batch/s, loss=0.000155]\n"
          ]
        },
        {
          "output_type": "stream",
          "name": "stdout",
          "text": [
            "Epoch 19/25 completed in 23.90 seconds.\n",
            "Epoch Loss: 0.0008427137300097984\n",
            "Train Accuracy: 1.00%\n"
          ]
        },
        {
          "output_type": "stream",
          "name": "stderr",
          "text": []
        },
        {
          "output_type": "stream",
          "name": "stdout",
          "text": [
            "Epoch 19/25 Validation Accuracy: 86.11%\n"
          ]
        },
        {
          "output_type": "stream",
          "name": "stderr",
          "text": [
            "Epoch 20/25 Training: 100%|██████████| 62/62 [00:23<00:00,  2.59batch/s, loss=0.000152]\n"
          ]
        },
        {
          "output_type": "stream",
          "name": "stdout",
          "text": [
            "Epoch 20/25 completed in 23.95 seconds.\n",
            "Epoch Loss: 0.0006117160670739043\n",
            "Train Accuracy: 1.00%\n"
          ]
        },
        {
          "output_type": "stream",
          "name": "stderr",
          "text": []
        },
        {
          "output_type": "stream",
          "name": "stdout",
          "text": [
            "Epoch 20/25 Validation Accuracy: 86.38%\n"
          ]
        },
        {
          "output_type": "stream",
          "name": "stderr",
          "text": [
            "Epoch 21/25 Training: 100%|██████████| 62/62 [00:23<00:00,  2.60batch/s, loss=0.000633]\n"
          ]
        },
        {
          "output_type": "stream",
          "name": "stdout",
          "text": [
            "Epoch 21/25 completed in 23.83 seconds.\n",
            "Epoch Loss: 0.0006507291248659209\n",
            "Train Accuracy: 1.00%\n"
          ]
        },
        {
          "output_type": "stream",
          "name": "stderr",
          "text": []
        },
        {
          "output_type": "stream",
          "name": "stdout",
          "text": [
            "Epoch 21/25 Validation Accuracy: 85.71%\n"
          ]
        },
        {
          "output_type": "stream",
          "name": "stderr",
          "text": [
            "Epoch 22/25 Training: 100%|██████████| 62/62 [00:23<00:00,  2.60batch/s, loss=9.84e-5]\n"
          ]
        },
        {
          "output_type": "stream",
          "name": "stdout",
          "text": [
            "Epoch 22/25 completed in 23.81 seconds.\n",
            "Epoch Loss: 0.0006137297649758928\n",
            "Train Accuracy: 1.00%\n"
          ]
        },
        {
          "output_type": "stream",
          "name": "stderr",
          "text": []
        },
        {
          "output_type": "stream",
          "name": "stdout",
          "text": [
            "Epoch 22/25 Validation Accuracy: 85.98%\n"
          ]
        },
        {
          "output_type": "stream",
          "name": "stderr",
          "text": [
            "Epoch 23/25 Training: 100%|██████████| 62/62 [00:24<00:00,  2.51batch/s, loss=0.00029]\n"
          ]
        },
        {
          "output_type": "stream",
          "name": "stdout",
          "text": [
            "Epoch 23/25 completed in 24.69 seconds.\n",
            "Epoch Loss: 0.0008374667452317813\n",
            "Train Accuracy: 1.00%\n"
          ]
        },
        {
          "output_type": "stream",
          "name": "stderr",
          "text": []
        },
        {
          "output_type": "stream",
          "name": "stdout",
          "text": [
            "Epoch 23/25 Validation Accuracy: 85.58%\n"
          ]
        },
        {
          "output_type": "stream",
          "name": "stderr",
          "text": [
            "Epoch 24/25 Training: 100%|██████████| 62/62 [00:23<00:00,  2.60batch/s, loss=4.03e-5]\n"
          ]
        },
        {
          "output_type": "stream",
          "name": "stdout",
          "text": [
            "Epoch 24/25 completed in 23.83 seconds.\n",
            "Epoch Loss: 0.0005031074413402107\n",
            "Train Accuracy: 1.00%\n"
          ]
        },
        {
          "output_type": "stream",
          "name": "stderr",
          "text": []
        },
        {
          "output_type": "stream",
          "name": "stdout",
          "text": [
            "Epoch 24/25 Validation Accuracy: 85.71%\n"
          ]
        },
        {
          "output_type": "stream",
          "name": "stderr",
          "text": [
            "Epoch 25/25 Training: 100%|██████████| 62/62 [00:23<00:00,  2.60batch/s, loss=0.000164]\n"
          ]
        },
        {
          "output_type": "stream",
          "name": "stdout",
          "text": [
            "Epoch 25/25 completed in 23.82 seconds.\n",
            "Epoch Loss: 0.0003278996333509924\n",
            "Train Accuracy: 1.00%\n"
          ]
        },
        {
          "output_type": "stream",
          "name": "stderr",
          "text": []
        },
        {
          "output_type": "stream",
          "name": "stdout",
          "text": [
            "Epoch 25/25 Validation Accuracy: 86.38%\n",
            "\n",
            "Total Training Time: 656.81 seconds (10.95 minutes)\n",
            "Test Accuracy: 87.44%\n"
          ]
        }
      ]
    },
    {
      "cell_type": "code",
      "source": [
        "# Define aesthetic categories\n",
        "aesthetic_categories = [\"Balance\", \"Color Harmony\", \"Depth & Perspective\", \"Texture & Brushwork\"]\n",
        "\n",
        "# Set the model to evaluation mode\n",
        "alexnet_model.eval()\n",
        "\n",
        "# Initialize variables to hold predictions and ground truths\n",
        "all_predictions = []\n",
        "all_labels = []\n",
        "\n",
        "# Iterate over the test dataset\n",
        "with torch.no_grad():\n",
        "    for images, labels in test_loader:\n",
        "        images, labels = images.to(device), labels.to(device)\n",
        "\n",
        "        # Forward pass through the model\n",
        "        balance, color_harmony, depth_perspective, texture_brushwork = alexnet_model(images)\n",
        "\n",
        "        # Convert logits to probabilities using sigmoid\n",
        "        predictions_balance = torch.sigmoid(balance)\n",
        "        predictions_color_harmony = torch.sigmoid(color_harmony)\n",
        "        predictions_depth_perspective = torch.sigmoid(depth_perspective)\n",
        "        predictions_texture_brushwork = torch.sigmoid(texture_brushwork)\n",
        "\n",
        "        # Binarize predictions (thresholding at 0.5)\n",
        "        predicted_labels_balance = (predictions_balance > 0.5).float()\n",
        "        predicted_labels_color_harmony = (predictions_color_harmony > 0.5).float()\n",
        "        predicted_labels_depth_perspective = (predictions_depth_perspective > 0.5).float()\n",
        "        predicted_labels_texture_brushwork = (predictions_texture_brushwork > 0.5).float()\n",
        "\n",
        "        # Concatenate the predictions for all categories (multi-label classification)\n",
        "        all_predictions.append(torch.cat((predicted_labels_balance, predicted_labels_color_harmony,\n",
        "                                          predicted_labels_depth_perspective, predicted_labels_texture_brushwork), dim=1))\n",
        "        all_labels.append(labels)\n",
        "\n",
        "# Convert the lists to tensors\n",
        "all_predictions = torch.cat(all_predictions, dim=0).cpu().numpy()\n",
        "all_labels = torch.cat(all_labels, dim=0).cpu().numpy()\n",
        "\n",
        "# Calculate accuracy\n",
        "accuracy = (all_predictions == all_labels).sum() / all_labels.size\n",
        "\n",
        "# Calculate Precision, Recall, and F1-Score (using 'samples' average for multi-label)\n",
        "precision = precision_score(all_labels, all_predictions, average='samples')\n",
        "recall = recall_score(all_labels, all_predictions, average='samples')\n",
        "f1 = f1_score(all_labels, all_predictions, average='samples')\n",
        "\n",
        "# Generate Multi-label Confusion Matrix (for each class)\n",
        "mcm = multilabel_confusion_matrix(all_labels, all_predictions)\n",
        "\n",
        "# Plot the confusion matrix\n",
        "fig, axes = plt.subplots(2, 2, figsize=(12, 10))\n",
        "for i, ax in enumerate(axes.flatten()):\n",
        "    sns.heatmap(mcm[i], annot=True, fmt='d', cmap='Blues', xticklabels=['Pred Negative', 'Pred Positive'],\n",
        "                yticklabels=['True Negative', 'True Positive'], ax=ax)\n",
        "    ax.set_title(f'Confusion Matrix for {aesthetic_categories[i]}')\n",
        "\n",
        "plt.tight_layout()\n",
        "plt.show()\n",
        "\n",
        "# Display the evaluation metrics\n",
        "print(f\"Test Accuracy: {accuracy * 100:.2f}%\")\n",
        "print(f\"Precision: {precision * 100:.2f}%\")\n",
        "print(f\"Recall: {recall * 100:.2f}%\")\n",
        "print(f\"F1-Score: {f1 * 100:.2f}%\")\n",
        "\n"
      ],
      "metadata": {
        "colab": {
          "base_uri": "https://localhost:8080/",
          "height": 1000
        },
        "id": "QPc1QksJpcc3",
        "outputId": "837de22a-f06a-496a-9394-fd2f5a1e2874"
      },
      "execution_count": 11,
      "outputs": [
        {
          "output_type": "stream",
          "name": "stderr",
          "text": [
            "/usr/local/lib/python3.11/dist-packages/sklearn/metrics/_classification.py:1565: UndefinedMetricWarning: Precision is ill-defined and being set to 0.0 in samples with no predicted labels. Use `zero_division` parameter to control this behavior.\n",
            "  _warn_prf(average, modifier, f\"{metric.capitalize()} is\", len(result))\n"
          ]
        },
        {
          "output_type": "display_data",
          "data": {
            "text/plain": [
              "<Figure size 1200x1000 with 8 Axes>"
            ],
            "image/png": "[encoded data removed]"
          },
          "metadata": {}
        },
        {
          "output_type": "stream",
          "name": "stdout",
          "text": [
            "Test Accuracy: 87.44%\n",
            "Precision: 69.85%\n",
            "Recall: 69.85%\n",
            "F1-Score: 69.85%\n"
          ]
        }
      ]
    }
  ]
}